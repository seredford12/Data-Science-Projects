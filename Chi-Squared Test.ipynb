{
 "cells": [
  {
   "cell_type": "code",
   "execution_count": null,
   "id": "b46a476c-1e2f-43b0-929e-1889940dc8a4",
   "metadata": {
    "tags": []
   },
   "outputs": [],
   "source": [
    "#Import all libraries to be used\n",
    "\n",
    "#Data science libraries\n",
    "import numpy as np\n",
    "import pandas as pd\n",
    "from pandas import DataFrame\n",
    "\n",
    "#Libraries for data visualization\n",
    "import seaborn as sns\n",
    "import matplotlib.pyplot as plt\n",
    "\n",
    "#Import packages for statistical analysis\n",
    "import pylab\n",
    "import statsmodels.api as sm\n",
    "import statistics\n",
    "from scipy import stats\n",
    "\n",
    "#Import libraries to perform chi-square test\n",
    "from scipy.stats import chisquare\n",
    "from scipy.stats import chi2_contingency\n"
   ]
  },
  {
   "cell_type": "code",
   "execution_count": null,
   "id": "ea7b2c9c-aa54-4214-9ee8-d161bd5bba51",
   "metadata": {
    "tags": []
   },
   "outputs": [],
   "source": [
    "#Create a dataframe to hold the dataset\n",
    "df = pd.read_csv('churn_clean.csv',dtype={'C:/Users/sered/OneDrive/Desktop/WGU Masters Degree/D207/churn_clean.csv':np.int64})\n",
    "df.head(5)"
   ]
  },
  {
   "cell_type": "code",
   "execution_count": null,
   "id": "8af76ab7-5269-4d24-ae1a-a58897fca338",
   "metadata": {
    "tags": []
   },
   "outputs": [],
   "source": [
    "#Rename the survey variables that we will use to make the description better for future use\n",
    "df.rename(columns = {'Item4' : 'Reliability',\n",
    "                     'Item5' : 'Options'},\n",
    "          inplace=True)"
   ]
  },
  {
   "cell_type": "code",
   "execution_count": null,
   "id": "7af04bb2-d74f-4967-9502-58c2a3ace180",
   "metadata": {
    "tags": []
   },
   "outputs": [],
   "source": [
    "#Create a contingency variable to compare categorical values Churn and Item4 (Reliability)\n",
    "contingency = pd.crosstab(df['Churn'], df['Reliability'])\n",
    "contingency"
   ]
  },
  {
   "cell_type": "code",
   "execution_count": null,
   "id": "868f32c2-ec35-4744-8590-0c6404c3d73f",
   "metadata": {
    "tags": []
   },
   "outputs": [],
   "source": [
    "#Normalize the contingency variable\n",
    "contingency_norm = pd.crosstab(df['Churn'],df['Reliability'],normalize='index')\n",
    "contingency_norm"
   ]
  },
  {
   "cell_type": "code",
   "execution_count": null,
   "id": "cf66dcd4-69ce-47e6-9ed1-bd73ce35a0f5",
   "metadata": {
    "tags": []
   },
   "outputs": [],
   "source": [
    "#Create a heatmap to visualize the normalized data\n",
    "matrix = sns.heatmap(contingency_norm, annot=True, cmap='Spectral')\n",
    "plt.show()"
   ]
  },
  {
   "cell_type": "code",
   "execution_count": null,
   "id": "ee2f2930-2d1a-4109-aa03-ac06a9e11794",
   "metadata": {
    "tags": []
   },
   "outputs": [],
   "source": [
    "#Use the contingency value to perform the chi-square test of independence\n",
    "c, p, dof, expected = chi2_contingency(contingency)\n",
    "print('p_value =' + str(p))"
   ]
  },
  {
   "cell_type": "code",
   "execution_count": null,
   "id": "149c898a-49cf-440b-b2b1-c1e6bcc54f7a",
   "metadata": {
    "tags": []
   },
   "outputs": [],
   "source": [
    "#Create a histogram of my continuous and categorical data to determine distribution \n",
    "df[['MonthlyCharge', 'Bandwidth_GB_Year', 'Reliability', 'Options']].hist()\n",
    "plt.tight_layout()\n",
    "plt.savefig('Histogram_Distribution.jpg')"
   ]
  },
  {
   "cell_type": "code",
   "execution_count": null,
   "id": "8b1ebff9-6c37-4b94-8e6c-ff590bde0df7",
   "metadata": {
    "tags": []
   },
   "outputs": [],
   "source": [
    "# Create a boxplot to visualize the univariate data\n",
    "df[['MonthlyCharge']].plot(kind='box', title='Monthly Charge')\n",
    "plt.show()"
   ]
  },
  {
   "cell_type": "code",
   "execution_count": null,
   "id": "ea89912a-c11d-48a9-9c91-80ed03019f90",
   "metadata": {
    "tags": []
   },
   "outputs": [],
   "source": [
    "# Create a boxplot to visualize the univariate data\n",
    "df['Reliability'].plot(kind='box', title='Reliability')\n",
    "plt.show()"
   ]
  },
  {
   "cell_type": "code",
   "execution_count": null,
   "id": "076902c6-431c-4d58-b028-f4bce82ffbda",
   "metadata": {
    "tags": []
   },
   "outputs": [],
   "source": [
    "# Create a boxplot to visualize the univariate data\n",
    "df['Options'].plot(kind='box', title='Options')\n",
    "plt.show()"
   ]
  },
  {
   "cell_type": "code",
   "execution_count": null,
   "id": "90ffebe2-e818-4e6b-90eb-d6932b41fbf9",
   "metadata": {
    "tags": []
   },
   "outputs": [],
   "source": [
    "# Create a boxplot to visualize the univariate data\n",
    "df['Bandwidth_GB_Year'].plot(kind='box', title='Bandwidth Used Per Year')\n",
    "plt.show()"
   ]
  },
  {
   "cell_type": "code",
   "execution_count": null,
   "id": "f88d1a8d-bb54-43c0-81f8-68f76023bddc",
   "metadata": {
    "tags": []
   },
   "outputs": [],
   "source": [
    "#Create a dataframe to hold the four continuous and categorical variables from above to create bivariate visualizations\n",
    "bivariate_churn = df[['MonthlyCharge','Bandwidth_GB_Year','Reliability','Options']]"
   ]
  },
  {
   "cell_type": "code",
   "execution_count": null,
   "id": "1dc4776f-1987-4737-8a07-2ab2db76460a",
   "metadata": {
    "tags": []
   },
   "outputs": [],
   "source": [
    "#Create a heatmap of the two continuous variables and categorical vairables from above to determine bivariate distribution\n",
    "sns.heatmap(bivariate_churn.corr(), annot=True)\n",
    "plt.show()"
   ]
  },
  {
   "cell_type": "code",
   "execution_count": null,
   "id": "c8105e6f-83db-4ecb-82da-b1069f9cd97d",
   "metadata": {
    "tags": []
   },
   "outputs": [],
   "source": [
    "#Create a scatter plot to visualize the continuous variables and test for relationship\n",
    "bivariate_churn[bivariate_churn['Bandwidth_GB_Year'] < 8000].sample(150).plot.scatter(x='Bandwidth_GB_Year',\n",
    "                                                                                     y='MonthlyCharge')"
   ]
  },
  {
   "cell_type": "code",
   "execution_count": null,
   "id": "fe1efcd8-1314-4050-879d-5a0f2a18d06d",
   "metadata": {
    "tags": []
   },
   "outputs": [],
   "source": [
    "#Create a scatter plot to visualize the categorical variables and test for relationship\n",
    "bivariate_churn[bivariate_churn['Reliability'] < 10].sample(150).plot.scatter(x='Reliability',\n",
    "                                                                                     y='Options')"
   ]
  },
  {
   "cell_type": "code",
   "execution_count": null,
   "id": "d1d57f13-d8b2-47a5-8443-fa58c56c25d5",
   "metadata": {},
   "outputs": [],
   "source": []
  }
 ],
 "metadata": {
  "kernelspec": {
   "display_name": "Python 3 (ipykernel)",
   "language": "python",
   "name": "python3"
  },
  "language_info": {
   "codemirror_mode": {
    "name": "ipython",
    "version": 3
   },
   "file_extension": ".py",
   "mimetype": "text/x-python",
   "name": "python",
   "nbconvert_exporter": "python",
   "pygments_lexer": "ipython3",
   "version": "3.11.5"
  }
 },
 "nbformat": 4,
 "nbformat_minor": 5
}
