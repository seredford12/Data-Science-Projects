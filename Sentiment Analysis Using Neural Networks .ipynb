{
 "cells": [
  {
   "cell_type": "markdown",
   "id": "397ceebc",
   "metadata": {},
   "source": [
    "# D213: Sentiment Analysis Using Neural Networks"
   ]
  },
  {
   "cell_type": "markdown",
   "id": "28b52b7f",
   "metadata": {},
   "source": [
    "## Table of Contents\n",
    "* [Part 1 - Research Question](#Part1)\n",
    "    * [A1: Research Question](#A1)\n",
    "    * [A2: Objectives and Goals of the Analysis](#A2)\n",
    "    * [A3: Neural Network Type](#A3)\n",
    "* [Part 2 - Data Preparation](#Part2)\n",
    "    * [B1: Exploratory Data Analysis](#B1)\n",
    "        * [Presents of Unusual Characters](#Characters)\n",
    "        * [Vocabulary Size](#Vocabulary)\n",
    "        * [Proposed Word Embedding Length](#Embedding)\n",
    "        * [Statistical Justification of Maximum Sequence Length](#Sequence)\n",
    "    * [B2: Goals of the Tokenization Process](#B2)\n",
    "    * [B3: Padding Process](#B3)   \n",
    "    * [B4: Categories of Sentiment & Activation Function](#B4)\n",
    "    * [B5: Steps Used to Prepare the Data for Analysis](#B5)\n",
    "    * [B6: CSV File for Prepared Data](#B6) \n",
    "* [Part 3 - Network Architecture](#Part3)\n",
    "    * [C1: Output of Model Summary](#C1)\n",
    "    * [C2: Number of Layers, Type of Layers, & Number of Parameters](#C2)\n",
    "    * [C3: Hyperparameter Choice](#C3)\n",
    "        * [Activation Funtions](#AF)\n",
    "        * [Nodes Per Layer](#NL)\n",
    "        * [Loss Funtion](#LF)\n",
    "        * [Optimizer](#Op)\n",
    "        * [Stopping Criteria](#SC)\n",
    "        * [Evaluation Metric](#EM)\n",
    " * [Part 4 - Model Evaluation](#Part4)\n",
    "     * [D1: Impact of Stopping Criteria](#D1)\n",
    "     * [D2: Fitness of the Model](#D2)\n",
    "     * [D3: Training Process Visualization](#D3)\n",
    "     * [D4: Predictive Accuracy](#D4)\n",
    " * [Part 5 - Summary and Recommendations](#Part5)\n",
    " * [Part 6 - Reporting](#Part6)"
   ]
  },
  {
   "cell_type": "markdown",
   "id": "aefc38a6",
   "metadata": {},
   "source": [
    "## Part 1 - Research Question <a class=\"anchor\" id=\"Part1\"></a>"
   ]
  },
  {
   "cell_type": "markdown",
   "id": "ddcfef40",
   "metadata": {},
   "source": [
    "### A1: Research Question <a class=\"anchor\" id=\"A1\"></a>"
   ]
  },
  {
   "cell_type": "markdown",
   "id": "fce22492",
   "metadata": {},
   "source": [
    "Can we accurately predict the sentiment of a comment with a neural network based on past comments?"
   ]
  },
  {
   "cell_type": "markdown",
   "id": "e1c449ac",
   "metadata": {},
   "source": [
    "### A2: Objectives and Goals of the Analysis <a class=\"anchor\" id=\"A2\"></a>"
   ]
  },
  {
   "cell_type": "markdown",
   "id": "2ddcd158",
   "metadata": {},
   "source": [
    "The objective of this analysis is to build and train a neural language processessing model that can accurately predict whether a comment is positive or negative. Neural language processing is an incredibly helpful analysis tool because it can be used to understand free form comments and suggestions. Using machine learning to look at free form repsponses from surveys, reviews, and comments can help a compnay to understand how their clients are feeling and deep learning models give the company the ability to do it quickly with less hands on time from employees."
   ]
  },
  {
   "cell_type": "markdown",
   "id": "02bc989a",
   "metadata": {},
   "source": [
    "### A3: Neural Network Type <a class=\"anchor\" id=\"A3\"></a>"
   ]
  },
  {
   "cell_type": "markdown",
   "id": "d91f5a05",
   "metadata": {},
   "source": [
    "For this project I will be using a recurrent neural network to (RNN) to create the sentiment analysis model. An RNN network is commonly used when working with text because it uses a sequential data input and returns a sequential data output. This network is the best choice based on the type of data that we have (text) and for the sequential output that we are looking to attain. "
   ]
  },
  {
   "cell_type": "markdown",
   "id": "deff31b7",
   "metadata": {},
   "source": [
    "## Part 2 - Data Preparation <a class=\"anchor\" id=\"Part2\"></a>"
   ]
  },
  {
   "cell_type": "markdown",
   "id": "7f31204b",
   "metadata": {},
   "source": [
    "### B1: Exploratory Data Analysis <a class=\"anchor\" id=\"B1\"></a>"
   ]
  },
  {
   "cell_type": "code",
   "execution_count": 1,
   "id": "963812da",
   "metadata": {},
   "outputs": [
    {
     "name": "stdout",
     "output_type": "stream",
     "text": [
      "Requirement already satisfied: tensorflow==2.15.0 in c:\\users\\sered\\appdata\\roaming\\python\\python311\\site-packages (2.15.0)\n",
      "Requirement already satisfied: tensorflow-intel==2.15.0 in c:\\users\\sered\\appdata\\roaming\\python\\python311\\site-packages (from tensorflow==2.15.0) (2.15.0)\n",
      "Requirement already satisfied: absl-py>=1.0.0 in c:\\users\\sered\\anaconda3\\lib\\site-packages (from tensorflow-intel==2.15.0->tensorflow==2.15.0) (2.1.0)\n",
      "Requirement already satisfied: astunparse>=1.6.0 in c:\\users\\sered\\anaconda3\\lib\\site-packages (from tensorflow-intel==2.15.0->tensorflow==2.15.0) (1.6.3)\n",
      "Requirement already satisfied: flatbuffers>=23.5.26 in c:\\users\\sered\\anaconda3\\lib\\site-packages (from tensorflow-intel==2.15.0->tensorflow==2.15.0) (24.3.25)\n",
      "Requirement already satisfied: gast!=0.5.0,!=0.5.1,!=0.5.2,>=0.2.1 in c:\\users\\sered\\anaconda3\\lib\\site-packages (from tensorflow-intel==2.15.0->tensorflow==2.15.0) (0.5.4)\n",
      "Requirement already satisfied: google-pasta>=0.1.1 in c:\\users\\sered\\anaconda3\\lib\\site-packages (from tensorflow-intel==2.15.0->tensorflow==2.15.0) (0.2.0)\n",
      "Requirement already satisfied: h5py>=2.9.0 in c:\\users\\sered\\anaconda3\\lib\\site-packages (from tensorflow-intel==2.15.0->tensorflow==2.15.0) (3.11.0)\n",
      "Requirement already satisfied: libclang>=13.0.0 in c:\\users\\sered\\anaconda3\\lib\\site-packages (from tensorflow-intel==2.15.0->tensorflow==2.15.0) (18.1.1)\n",
      "Requirement already satisfied: ml-dtypes~=0.2.0 in c:\\users\\sered\\appdata\\roaming\\python\\python311\\site-packages (from tensorflow-intel==2.15.0->tensorflow==2.15.0) (0.2.0)\n",
      "Requirement already satisfied: numpy<2.0.0,>=1.23.5 in c:\\users\\sered\\anaconda3\\lib\\site-packages (from tensorflow-intel==2.15.0->tensorflow==2.15.0) (1.24.3)\n",
      "Requirement already satisfied: opt-einsum>=2.3.2 in c:\\users\\sered\\anaconda3\\lib\\site-packages (from tensorflow-intel==2.15.0->tensorflow==2.15.0) (3.3.0)\n",
      "Requirement already satisfied: packaging in c:\\users\\sered\\anaconda3\\lib\\site-packages (from tensorflow-intel==2.15.0->tensorflow==2.15.0) (23.1)\n",
      "Requirement already satisfied: protobuf!=4.21.0,!=4.21.1,!=4.21.2,!=4.21.3,!=4.21.4,!=4.21.5,<5.0.0dev,>=3.20.3 in c:\\users\\sered\\anaconda3\\lib\\site-packages (from tensorflow-intel==2.15.0->tensorflow==2.15.0) (4.25.3)\n",
      "Requirement already satisfied: setuptools in c:\\users\\sered\\anaconda3\\lib\\site-packages (from tensorflow-intel==2.15.0->tensorflow==2.15.0) (68.0.0)\n",
      "Requirement already satisfied: six>=1.12.0 in c:\\users\\sered\\anaconda3\\lib\\site-packages (from tensorflow-intel==2.15.0->tensorflow==2.15.0) (1.16.0)\n",
      "Requirement already satisfied: termcolor>=1.1.0 in c:\\users\\sered\\anaconda3\\lib\\site-packages (from tensorflow-intel==2.15.0->tensorflow==2.15.0) (2.4.0)\n",
      "Requirement already satisfied: typing-extensions>=3.6.6 in c:\\users\\sered\\anaconda3\\lib\\site-packages (from tensorflow-intel==2.15.0->tensorflow==2.15.0) (4.7.1)\n",
      "Requirement already satisfied: wrapt<1.15,>=1.11.0 in c:\\users\\sered\\anaconda3\\lib\\site-packages (from tensorflow-intel==2.15.0->tensorflow==2.15.0) (1.14.1)\n",
      "Requirement already satisfied: tensorflow-io-gcs-filesystem>=0.23.1 in c:\\users\\sered\\anaconda3\\lib\\site-packages (from tensorflow-intel==2.15.0->tensorflow==2.15.0) (0.31.0)\n",
      "Requirement already satisfied: grpcio<2.0,>=1.24.3 in c:\\users\\sered\\anaconda3\\lib\\site-packages (from tensorflow-intel==2.15.0->tensorflow==2.15.0) (1.64.1)\n",
      "Requirement already satisfied: tensorboard<2.16,>=2.15 in c:\\users\\sered\\appdata\\roaming\\python\\python311\\site-packages (from tensorflow-intel==2.15.0->tensorflow==2.15.0) (2.15.2)\n",
      "Requirement already satisfied: tensorflow-estimator<2.16,>=2.15.0 in c:\\users\\sered\\appdata\\roaming\\python\\python311\\site-packages (from tensorflow-intel==2.15.0->tensorflow==2.15.0) (2.15.0)\n",
      "Requirement already satisfied: keras<2.16,>=2.15.0 in c:\\users\\sered\\appdata\\roaming\\python\\python311\\site-packages (from tensorflow-intel==2.15.0->tensorflow==2.15.0) (2.15.0)\n",
      "Requirement already satisfied: wheel<1.0,>=0.23.0 in c:\\users\\sered\\anaconda3\\lib\\site-packages (from astunparse>=1.6.0->tensorflow-intel==2.15.0->tensorflow==2.15.0) (0.38.4)\n",
      "Requirement already satisfied: google-auth<3,>=1.6.3 in c:\\users\\sered\\appdata\\roaming\\python\\python311\\site-packages (from tensorboard<2.16,>=2.15->tensorflow-intel==2.15.0->tensorflow==2.15.0) (2.30.0)\n",
      "Requirement already satisfied: google-auth-oauthlib<2,>=0.5 in c:\\users\\sered\\appdata\\roaming\\python\\python311\\site-packages (from tensorboard<2.16,>=2.15->tensorflow-intel==2.15.0->tensorflow==2.15.0) (1.2.0)\n",
      "Requirement already satisfied: markdown>=2.6.8 in c:\\users\\sered\\anaconda3\\lib\\site-packages (from tensorboard<2.16,>=2.15->tensorflow-intel==2.15.0->tensorflow==2.15.0) (3.4.1)\n",
      "Requirement already satisfied: requests<3,>=2.21.0 in c:\\users\\sered\\anaconda3\\lib\\site-packages (from tensorboard<2.16,>=2.15->tensorflow-intel==2.15.0->tensorflow==2.15.0) (2.31.0)\n",
      "Requirement already satisfied: tensorboard-data-server<0.8.0,>=0.7.0 in c:\\users\\sered\\anaconda3\\lib\\site-packages (from tensorboard<2.16,>=2.15->tensorflow-intel==2.15.0->tensorflow==2.15.0) (0.7.2)\n",
      "Requirement already satisfied: werkzeug>=1.0.1 in c:\\users\\sered\\anaconda3\\lib\\site-packages (from tensorboard<2.16,>=2.15->tensorflow-intel==2.15.0->tensorflow==2.15.0) (2.2.3)\n",
      "Requirement already satisfied: cachetools<6.0,>=2.0.0 in c:\\users\\sered\\appdata\\roaming\\python\\python311\\site-packages (from google-auth<3,>=1.6.3->tensorboard<2.16,>=2.15->tensorflow-intel==2.15.0->tensorflow==2.15.0) (5.3.3)\n",
      "Requirement already satisfied: pyasn1-modules>=0.2.1 in c:\\users\\sered\\anaconda3\\lib\\site-packages (from google-auth<3,>=1.6.3->tensorboard<2.16,>=2.15->tensorflow-intel==2.15.0->tensorflow==2.15.0) (0.2.8)\n",
      "Requirement already satisfied: rsa<5,>=3.1.4 in c:\\users\\sered\\appdata\\roaming\\python\\python311\\site-packages (from google-auth<3,>=1.6.3->tensorboard<2.16,>=2.15->tensorflow-intel==2.15.0->tensorflow==2.15.0) (4.9)\n",
      "Requirement already satisfied: requests-oauthlib>=0.7.0 in c:\\users\\sered\\appdata\\roaming\\python\\python311\\site-packages (from google-auth-oauthlib<2,>=0.5->tensorboard<2.16,>=2.15->tensorflow-intel==2.15.0->tensorflow==2.15.0) (2.0.0)\n",
      "Requirement already satisfied: charset-normalizer<4,>=2 in c:\\users\\sered\\anaconda3\\lib\\site-packages (from requests<3,>=2.21.0->tensorboard<2.16,>=2.15->tensorflow-intel==2.15.0->tensorflow==2.15.0) (2.0.4)\n",
      "Requirement already satisfied: idna<4,>=2.5 in c:\\users\\sered\\anaconda3\\lib\\site-packages (from requests<3,>=2.21.0->tensorboard<2.16,>=2.15->tensorflow-intel==2.15.0->tensorflow==2.15.0) (3.4)\n",
      "Requirement already satisfied: urllib3<3,>=1.21.1 in c:\\users\\sered\\anaconda3\\lib\\site-packages (from requests<3,>=2.21.0->tensorboard<2.16,>=2.15->tensorflow-intel==2.15.0->tensorflow==2.15.0) (1.26.16)\n",
      "Requirement already satisfied: certifi>=2017.4.17 in c:\\users\\sered\\anaconda3\\lib\\site-packages (from requests<3,>=2.21.0->tensorboard<2.16,>=2.15->tensorflow-intel==2.15.0->tensorflow==2.15.0) (2024.6.2)\n",
      "Requirement already satisfied: MarkupSafe>=2.1.1 in c:\\users\\sered\\anaconda3\\lib\\site-packages (from werkzeug>=1.0.1->tensorboard<2.16,>=2.15->tensorflow-intel==2.15.0->tensorflow==2.15.0) (2.1.1)\n",
      "Requirement already satisfied: pyasn1<0.5.0,>=0.4.6 in c:\\users\\sered\\anaconda3\\lib\\site-packages (from pyasn1-modules>=0.2.1->google-auth<3,>=1.6.3->tensorboard<2.16,>=2.15->tensorflow-intel==2.15.0->tensorflow==2.15.0) (0.4.8)\n",
      "Requirement already satisfied: oauthlib>=3.0.0 in c:\\users\\sered\\appdata\\roaming\\python\\python311\\site-packages (from requests-oauthlib>=0.7.0->google-auth-oauthlib<2,>=0.5->tensorboard<2.16,>=2.15->tensorflow-intel==2.15.0->tensorflow==2.15.0) (3.2.2)\n"
     ]
    }
   ],
   "source": [
    "!pip install tensorflow==2.15.0 --user"
   ]
  },
  {
   "cell_type": "code",
   "execution_count": 2,
   "id": "f0bb3847",
   "metadata": {},
   "outputs": [
    {
     "name": "stdout",
     "output_type": "stream",
     "text": [
      "Requirement already satisfied: emoji in c:\\users\\sered\\anaconda3\\lib\\site-packages (2.12.1)\n",
      "Requirement already satisfied: typing-extensions>=4.7.0 in c:\\users\\sered\\anaconda3\\lib\\site-packages (from emoji) (4.7.1)\n"
     ]
    }
   ],
   "source": [
    "!pip install emoji"
   ]
  },
  {
   "cell_type": "code",
   "execution_count": 3,
   "id": "6683d929",
   "metadata": {},
   "outputs": [
    {
     "name": "stdout",
     "output_type": "stream",
     "text": [
      "WARNING:tensorflow:From C:\\Users\\sered\\AppData\\Roaming\\Python\\Python311\\site-packages\\keras\\src\\losses.py:2976: The name tf.losses.sparse_softmax_cross_entropy is deprecated. Please use tf.compat.v1.losses.sparse_softmax_cross_entropy instead.\n",
      "\n"
     ]
    }
   ],
   "source": [
    "#import necessary libraries and packages\n",
    "#for dataframe manipulation\n",
    "import pandas as pd\n",
    "import numpy as np\n",
    "import string\n",
    "import emoji\n",
    "\n",
    "#for Visualizations\n",
    "import matplotlib.pyplot as plt\n",
    "import seaborn as sns\n",
    "\n",
    "#for NLP\n",
    "import keras\n",
    "from keras.utils import to_categorical\n",
    "from keras import models\n",
    "from tensorflow.keras import layers\n",
    "import tensorflow as tf"
   ]
  },
  {
   "cell_type": "code",
   "execution_count": 4,
   "id": "0ca9167a",
   "metadata": {},
   "outputs": [],
   "source": [
    "#Read in text files\n",
    "col_names = ['Review', 'Liked']\n",
    "df_imdb = pd.read_csv('C:/Users/sered/OneDrive/Desktop/WGU Masters Degree/D213/Assessment 2/imdb_labelled.txt', \n",
    "                      sep='\\t', names= col_names, header=None)"
   ]
  },
  {
   "cell_type": "code",
   "execution_count": 5,
   "id": "ca6d742a",
   "metadata": {},
   "outputs": [
    {
     "data": {
      "text/plain": [
       "(748, 2)"
      ]
     },
     "execution_count": 5,
     "metadata": {},
     "output_type": "execute_result"
    }
   ],
   "source": [
    "df_imdb.shape"
   ]
  },
  {
   "cell_type": "code",
   "execution_count": 6,
   "id": "fef812b3",
   "metadata": {},
   "outputs": [
    {
     "data": {
      "text/html": [
       "<div>\n",
       "<style scoped>\n",
       "    .dataframe tbody tr th:only-of-type {\n",
       "        vertical-align: middle;\n",
       "    }\n",
       "\n",
       "    .dataframe tbody tr th {\n",
       "        vertical-align: top;\n",
       "    }\n",
       "\n",
       "    .dataframe thead th {\n",
       "        text-align: right;\n",
       "    }\n",
       "</style>\n",
       "<table border=\"1\" class=\"dataframe\">\n",
       "  <thead>\n",
       "    <tr style=\"text-align: right;\">\n",
       "      <th></th>\n",
       "      <th>Review</th>\n",
       "      <th>Liked</th>\n",
       "    </tr>\n",
       "  </thead>\n",
       "  <tbody>\n",
       "    <tr>\n",
       "      <th>0</th>\n",
       "      <td>A very, very, very slow-moving, aimless movie ...</td>\n",
       "      <td>0</td>\n",
       "    </tr>\n",
       "    <tr>\n",
       "      <th>1</th>\n",
       "      <td>Not sure who was more lost - the flat characte...</td>\n",
       "      <td>0</td>\n",
       "    </tr>\n",
       "    <tr>\n",
       "      <th>2</th>\n",
       "      <td>Attempting artiness with black &amp; white and cle...</td>\n",
       "      <td>0</td>\n",
       "    </tr>\n",
       "    <tr>\n",
       "      <th>3</th>\n",
       "      <td>Very little music or anything to speak of.</td>\n",
       "      <td>0</td>\n",
       "    </tr>\n",
       "    <tr>\n",
       "      <th>4</th>\n",
       "      <td>The best scene in the movie was when Gerardo i...</td>\n",
       "      <td>1</td>\n",
       "    </tr>\n",
       "    <tr>\n",
       "      <th>...</th>\n",
       "      <td>...</td>\n",
       "      <td>...</td>\n",
       "    </tr>\n",
       "    <tr>\n",
       "      <th>743</th>\n",
       "      <td>I just got bored watching Jessice Lange take h...</td>\n",
       "      <td>0</td>\n",
       "    </tr>\n",
       "    <tr>\n",
       "      <th>744</th>\n",
       "      <td>Unfortunately, any virtue in this film's produ...</td>\n",
       "      <td>0</td>\n",
       "    </tr>\n",
       "    <tr>\n",
       "      <th>745</th>\n",
       "      <td>In a word, it is embarrassing.</td>\n",
       "      <td>0</td>\n",
       "    </tr>\n",
       "    <tr>\n",
       "      <th>746</th>\n",
       "      <td>Exceptionally bad!</td>\n",
       "      <td>0</td>\n",
       "    </tr>\n",
       "    <tr>\n",
       "      <th>747</th>\n",
       "      <td>All in all its an insult to one's intelligence...</td>\n",
       "      <td>0</td>\n",
       "    </tr>\n",
       "  </tbody>\n",
       "</table>\n",
       "<p>748 rows × 2 columns</p>\n",
       "</div>"
      ],
      "text/plain": [
       "                                                Review  Liked\n",
       "0    A very, very, very slow-moving, aimless movie ...      0\n",
       "1    Not sure who was more lost - the flat characte...      0\n",
       "2    Attempting artiness with black & white and cle...      0\n",
       "3         Very little music or anything to speak of.        0\n",
       "4    The best scene in the movie was when Gerardo i...      1\n",
       "..                                                 ...    ...\n",
       "743  I just got bored watching Jessice Lange take h...      0\n",
       "744  Unfortunately, any virtue in this film's produ...      0\n",
       "745                   In a word, it is embarrassing.        0\n",
       "746                               Exceptionally bad!        0\n",
       "747  All in all its an insult to one's intelligence...      0\n",
       "\n",
       "[748 rows x 2 columns]"
      ]
     },
     "execution_count": 6,
     "metadata": {},
     "output_type": "execute_result"
    }
   ],
   "source": [
    "df_imdb"
   ]
  },
  {
   "cell_type": "markdown",
   "id": "e0ea50c3",
   "metadata": {},
   "source": [
    "The above dataset is the raw data collected from the internet for the movie reviews. In order to make this data usable for the model, it must first be cleaned and transformed. The following steps below will be used to transform the data."
   ]
  },
  {
   "cell_type": "markdown",
   "id": "327e4f02",
   "metadata": {},
   "source": [
    "### Presence of Unusual Characters <a class=\"anchor\" id=\"Characters\"></a>"
   ]
  },
  {
   "cell_type": "markdown",
   "id": "9c004e64",
   "metadata": {},
   "source": [
    "The first step to cleaning our dataset is to remove any unusual characters. These characters could include emojis, punctuation, special characters, and non english characters."
   ]
  },
  {
   "cell_type": "markdown",
   "id": "c80d133a",
   "metadata": {},
   "source": [
    "The first step is to remove any uppercase letters in the dataset. This step is completed by using the .str.lower() method."
   ]
  },
  {
   "cell_type": "code",
   "execution_count": 7,
   "id": "04b83f7b",
   "metadata": {},
   "outputs": [
    {
     "data": {
      "text/html": [
       "<div>\n",
       "<style scoped>\n",
       "    .dataframe tbody tr th:only-of-type {\n",
       "        vertical-align: middle;\n",
       "    }\n",
       "\n",
       "    .dataframe tbody tr th {\n",
       "        vertical-align: top;\n",
       "    }\n",
       "\n",
       "    .dataframe thead th {\n",
       "        text-align: right;\n",
       "    }\n",
       "</style>\n",
       "<table border=\"1\" class=\"dataframe\">\n",
       "  <thead>\n",
       "    <tr style=\"text-align: right;\">\n",
       "      <th></th>\n",
       "      <th>Review</th>\n",
       "      <th>Liked</th>\n",
       "      <th>clean_text</th>\n",
       "    </tr>\n",
       "  </thead>\n",
       "  <tbody>\n",
       "    <tr>\n",
       "      <th>0</th>\n",
       "      <td>A very, very, very slow-moving, aimless movie ...</td>\n",
       "      <td>0</td>\n",
       "      <td>a very, very, very slow-moving, aimless movie ...</td>\n",
       "    </tr>\n",
       "    <tr>\n",
       "      <th>1</th>\n",
       "      <td>Not sure who was more lost - the flat characte...</td>\n",
       "      <td>0</td>\n",
       "      <td>not sure who was more lost - the flat characte...</td>\n",
       "    </tr>\n",
       "    <tr>\n",
       "      <th>2</th>\n",
       "      <td>Attempting artiness with black &amp; white and cle...</td>\n",
       "      <td>0</td>\n",
       "      <td>attempting artiness with black &amp; white and cle...</td>\n",
       "    </tr>\n",
       "    <tr>\n",
       "      <th>3</th>\n",
       "      <td>Very little music or anything to speak of.</td>\n",
       "      <td>0</td>\n",
       "      <td>very little music or anything to speak of.</td>\n",
       "    </tr>\n",
       "    <tr>\n",
       "      <th>4</th>\n",
       "      <td>The best scene in the movie was when Gerardo i...</td>\n",
       "      <td>1</td>\n",
       "      <td>the best scene in the movie was when gerardo i...</td>\n",
       "    </tr>\n",
       "    <tr>\n",
       "      <th>...</th>\n",
       "      <td>...</td>\n",
       "      <td>...</td>\n",
       "      <td>...</td>\n",
       "    </tr>\n",
       "    <tr>\n",
       "      <th>743</th>\n",
       "      <td>I just got bored watching Jessice Lange take h...</td>\n",
       "      <td>0</td>\n",
       "      <td>i just got bored watching jessice lange take h...</td>\n",
       "    </tr>\n",
       "    <tr>\n",
       "      <th>744</th>\n",
       "      <td>Unfortunately, any virtue in this film's produ...</td>\n",
       "      <td>0</td>\n",
       "      <td>unfortunately, any virtue in this film's produ...</td>\n",
       "    </tr>\n",
       "    <tr>\n",
       "      <th>745</th>\n",
       "      <td>In a word, it is embarrassing.</td>\n",
       "      <td>0</td>\n",
       "      <td>in a word, it is embarrassing.</td>\n",
       "    </tr>\n",
       "    <tr>\n",
       "      <th>746</th>\n",
       "      <td>Exceptionally bad!</td>\n",
       "      <td>0</td>\n",
       "      <td>exceptionally bad!</td>\n",
       "    </tr>\n",
       "    <tr>\n",
       "      <th>747</th>\n",
       "      <td>All in all its an insult to one's intelligence...</td>\n",
       "      <td>0</td>\n",
       "      <td>all in all its an insult to one's intelligence...</td>\n",
       "    </tr>\n",
       "  </tbody>\n",
       "</table>\n",
       "<p>748 rows × 3 columns</p>\n",
       "</div>"
      ],
      "text/plain": [
       "                                                Review  Liked  \\\n",
       "0    A very, very, very slow-moving, aimless movie ...      0   \n",
       "1    Not sure who was more lost - the flat characte...      0   \n",
       "2    Attempting artiness with black & white and cle...      0   \n",
       "3         Very little music or anything to speak of.        0   \n",
       "4    The best scene in the movie was when Gerardo i...      1   \n",
       "..                                                 ...    ...   \n",
       "743  I just got bored watching Jessice Lange take h...      0   \n",
       "744  Unfortunately, any virtue in this film's produ...      0   \n",
       "745                   In a word, it is embarrassing.        0   \n",
       "746                               Exceptionally bad!        0   \n",
       "747  All in all its an insult to one's intelligence...      0   \n",
       "\n",
       "                                            clean_text  \n",
       "0    a very, very, very slow-moving, aimless movie ...  \n",
       "1    not sure who was more lost - the flat characte...  \n",
       "2    attempting artiness with black & white and cle...  \n",
       "3         very little music or anything to speak of.    \n",
       "4    the best scene in the movie was when gerardo i...  \n",
       "..                                                 ...  \n",
       "743  i just got bored watching jessice lange take h...  \n",
       "744  unfortunately, any virtue in this film's produ...  \n",
       "745                   in a word, it is embarrassing.    \n",
       "746                               exceptionally bad!    \n",
       "747  all in all its an insult to one's intelligence...  \n",
       "\n",
       "[748 rows x 3 columns]"
      ]
     },
     "execution_count": 7,
     "metadata": {},
     "output_type": "execute_result"
    }
   ],
   "source": [
    "#Lower case all letters in the data\n",
    "df_imdb['clean_text'] = df_imdb['Review'].str.lower()\n",
    "df_imdb"
   ]
  },
  {
   "cell_type": "markdown",
   "id": "52e69192",
   "metadata": {},
   "source": [
    "The next step is to check for any unusual characters like we discussed above. The string library has a list of pre-defined punctuation/characters that we will utilize to remove characters from our dataset. The code below shows how those characters were removed."
   ]
  },
  {
   "cell_type": "code",
   "execution_count": 8,
   "id": "0821009e",
   "metadata": {},
   "outputs": [
    {
     "data": {
      "text/html": [
       "<div>\n",
       "<style scoped>\n",
       "    .dataframe tbody tr th:only-of-type {\n",
       "        vertical-align: middle;\n",
       "    }\n",
       "\n",
       "    .dataframe tbody tr th {\n",
       "        vertical-align: top;\n",
       "    }\n",
       "\n",
       "    .dataframe thead th {\n",
       "        text-align: right;\n",
       "    }\n",
       "</style>\n",
       "<table border=\"1\" class=\"dataframe\">\n",
       "  <thead>\n",
       "    <tr style=\"text-align: right;\">\n",
       "      <th></th>\n",
       "      <th>Review</th>\n",
       "      <th>Liked</th>\n",
       "      <th>clean_text</th>\n",
       "    </tr>\n",
       "  </thead>\n",
       "  <tbody>\n",
       "    <tr>\n",
       "      <th>0</th>\n",
       "      <td>A very, very, very slow-moving, aimless movie ...</td>\n",
       "      <td>0</td>\n",
       "      <td>a very very very slowmoving aimless movie abou...</td>\n",
       "    </tr>\n",
       "    <tr>\n",
       "      <th>1</th>\n",
       "      <td>Not sure who was more lost - the flat characte...</td>\n",
       "      <td>0</td>\n",
       "      <td>not sure who was more lost  the flat character...</td>\n",
       "    </tr>\n",
       "    <tr>\n",
       "      <th>2</th>\n",
       "      <td>Attempting artiness with black &amp; white and cle...</td>\n",
       "      <td>0</td>\n",
       "      <td>attempting artiness with black  white and clev...</td>\n",
       "    </tr>\n",
       "    <tr>\n",
       "      <th>3</th>\n",
       "      <td>Very little music or anything to speak of.</td>\n",
       "      <td>0</td>\n",
       "      <td>very little music or anything to speak of</td>\n",
       "    </tr>\n",
       "    <tr>\n",
       "      <th>4</th>\n",
       "      <td>The best scene in the movie was when Gerardo i...</td>\n",
       "      <td>1</td>\n",
       "      <td>the best scene in the movie was when gerardo i...</td>\n",
       "    </tr>\n",
       "    <tr>\n",
       "      <th>...</th>\n",
       "      <td>...</td>\n",
       "      <td>...</td>\n",
       "      <td>...</td>\n",
       "    </tr>\n",
       "    <tr>\n",
       "      <th>743</th>\n",
       "      <td>I just got bored watching Jessice Lange take h...</td>\n",
       "      <td>0</td>\n",
       "      <td>i just got bored watching jessice lange take h...</td>\n",
       "    </tr>\n",
       "    <tr>\n",
       "      <th>744</th>\n",
       "      <td>Unfortunately, any virtue in this film's produ...</td>\n",
       "      <td>0</td>\n",
       "      <td>unfortunately any virtue in this films product...</td>\n",
       "    </tr>\n",
       "    <tr>\n",
       "      <th>745</th>\n",
       "      <td>In a word, it is embarrassing.</td>\n",
       "      <td>0</td>\n",
       "      <td>in a word it is embarrassing</td>\n",
       "    </tr>\n",
       "    <tr>\n",
       "      <th>746</th>\n",
       "      <td>Exceptionally bad!</td>\n",
       "      <td>0</td>\n",
       "      <td>exceptionally bad</td>\n",
       "    </tr>\n",
       "    <tr>\n",
       "      <th>747</th>\n",
       "      <td>All in all its an insult to one's intelligence...</td>\n",
       "      <td>0</td>\n",
       "      <td>all in all its an insult to ones intelligence ...</td>\n",
       "    </tr>\n",
       "  </tbody>\n",
       "</table>\n",
       "<p>748 rows × 3 columns</p>\n",
       "</div>"
      ],
      "text/plain": [
       "                                                Review  Liked  \\\n",
       "0    A very, very, very slow-moving, aimless movie ...      0   \n",
       "1    Not sure who was more lost - the flat characte...      0   \n",
       "2    Attempting artiness with black & white and cle...      0   \n",
       "3         Very little music or anything to speak of.        0   \n",
       "4    The best scene in the movie was when Gerardo i...      1   \n",
       "..                                                 ...    ...   \n",
       "743  I just got bored watching Jessice Lange take h...      0   \n",
       "744  Unfortunately, any virtue in this film's produ...      0   \n",
       "745                   In a word, it is embarrassing.        0   \n",
       "746                               Exceptionally bad!        0   \n",
       "747  All in all its an insult to one's intelligence...      0   \n",
       "\n",
       "                                            clean_text  \n",
       "0    a very very very slowmoving aimless movie abou...  \n",
       "1    not sure who was more lost  the flat character...  \n",
       "2    attempting artiness with black  white and clev...  \n",
       "3          very little music or anything to speak of    \n",
       "4    the best scene in the movie was when gerardo i...  \n",
       "..                                                 ...  \n",
       "743  i just got bored watching jessice lange take h...  \n",
       "744  unfortunately any virtue in this films product...  \n",
       "745                     in a word it is embarrassing    \n",
       "746                                exceptionally bad    \n",
       "747  all in all its an insult to ones intelligence ...  \n",
       "\n",
       "[748 rows x 3 columns]"
      ]
     },
     "execution_count": 8,
     "metadata": {},
     "output_type": "execute_result"
    }
   ],
   "source": [
    "#Removal of punctuation and special characters e.g. ‘!”#$%&'()*+,-./:;?@[\\]^_`{|}~’ - (Hung, 2021)\n",
    "punct = string.punctuation\n",
    "def remove_punctuation(text):\n",
    "    return text.translate(str.maketrans('','', punct))\n",
    "df_imdb['clean_text'] = df_imdb['clean_text'].apply(lambda text: remove_punctuation(text))\n",
    "df_imdb"
   ]
  },
  {
   "cell_type": "markdown",
   "id": "84ea8bc6",
   "metadata": {},
   "source": [
    "To ensure that all unusual characters are removed, we can perform a check for emojis and translate them into text so that they no longer appear as emojis. This transformation will enable our model to run properly and give optimal results."
   ]
  },
  {
   "cell_type": "code",
   "execution_count": 9,
   "id": "3a4efb78",
   "metadata": {},
   "outputs": [
    {
     "data": {
      "text/html": [
       "<div>\n",
       "<style scoped>\n",
       "    .dataframe tbody tr th:only-of-type {\n",
       "        vertical-align: middle;\n",
       "    }\n",
       "\n",
       "    .dataframe tbody tr th {\n",
       "        vertical-align: top;\n",
       "    }\n",
       "\n",
       "    .dataframe thead th {\n",
       "        text-align: right;\n",
       "    }\n",
       "</style>\n",
       "<table border=\"1\" class=\"dataframe\">\n",
       "  <thead>\n",
       "    <tr style=\"text-align: right;\">\n",
       "      <th></th>\n",
       "      <th>Review</th>\n",
       "      <th>Liked</th>\n",
       "      <th>clean_text</th>\n",
       "    </tr>\n",
       "  </thead>\n",
       "  <tbody>\n",
       "    <tr>\n",
       "      <th>0</th>\n",
       "      <td>A very, very, very slow-moving, aimless movie ...</td>\n",
       "      <td>0</td>\n",
       "      <td>a very very very slowmoving aimless movie abou...</td>\n",
       "    </tr>\n",
       "    <tr>\n",
       "      <th>1</th>\n",
       "      <td>Not sure who was more lost - the flat characte...</td>\n",
       "      <td>0</td>\n",
       "      <td>not sure who was more lost  the flat character...</td>\n",
       "    </tr>\n",
       "    <tr>\n",
       "      <th>2</th>\n",
       "      <td>Attempting artiness with black &amp; white and cle...</td>\n",
       "      <td>0</td>\n",
       "      <td>attempting artiness with black  white and clev...</td>\n",
       "    </tr>\n",
       "    <tr>\n",
       "      <th>3</th>\n",
       "      <td>Very little music or anything to speak of.</td>\n",
       "      <td>0</td>\n",
       "      <td>very little music or anything to speak of</td>\n",
       "    </tr>\n",
       "    <tr>\n",
       "      <th>4</th>\n",
       "      <td>The best scene in the movie was when Gerardo i...</td>\n",
       "      <td>1</td>\n",
       "      <td>the best scene in the movie was when gerardo i...</td>\n",
       "    </tr>\n",
       "    <tr>\n",
       "      <th>...</th>\n",
       "      <td>...</td>\n",
       "      <td>...</td>\n",
       "      <td>...</td>\n",
       "    </tr>\n",
       "    <tr>\n",
       "      <th>743</th>\n",
       "      <td>I just got bored watching Jessice Lange take h...</td>\n",
       "      <td>0</td>\n",
       "      <td>i just got bored watching jessice lange take h...</td>\n",
       "    </tr>\n",
       "    <tr>\n",
       "      <th>744</th>\n",
       "      <td>Unfortunately, any virtue in this film's produ...</td>\n",
       "      <td>0</td>\n",
       "      <td>unfortunately any virtue in this films product...</td>\n",
       "    </tr>\n",
       "    <tr>\n",
       "      <th>745</th>\n",
       "      <td>In a word, it is embarrassing.</td>\n",
       "      <td>0</td>\n",
       "      <td>in a word it is embarrassing</td>\n",
       "    </tr>\n",
       "    <tr>\n",
       "      <th>746</th>\n",
       "      <td>Exceptionally bad!</td>\n",
       "      <td>0</td>\n",
       "      <td>exceptionally bad</td>\n",
       "    </tr>\n",
       "    <tr>\n",
       "      <th>747</th>\n",
       "      <td>All in all its an insult to one's intelligence...</td>\n",
       "      <td>0</td>\n",
       "      <td>all in all its an insult to ones intelligence ...</td>\n",
       "    </tr>\n",
       "  </tbody>\n",
       "</table>\n",
       "<p>748 rows × 3 columns</p>\n",
       "</div>"
      ],
      "text/plain": [
       "                                                Review  Liked  \\\n",
       "0    A very, very, very slow-moving, aimless movie ...      0   \n",
       "1    Not sure who was more lost - the flat characte...      0   \n",
       "2    Attempting artiness with black & white and cle...      0   \n",
       "3         Very little music or anything to speak of.        0   \n",
       "4    The best scene in the movie was when Gerardo i...      1   \n",
       "..                                                 ...    ...   \n",
       "743  I just got bored watching Jessice Lange take h...      0   \n",
       "744  Unfortunately, any virtue in this film's produ...      0   \n",
       "745                   In a word, it is embarrassing.        0   \n",
       "746                               Exceptionally bad!        0   \n",
       "747  All in all its an insult to one's intelligence...      0   \n",
       "\n",
       "                                            clean_text  \n",
       "0    a very very very slowmoving aimless movie abou...  \n",
       "1    not sure who was more lost  the flat character...  \n",
       "2    attempting artiness with black  white and clev...  \n",
       "3          very little music or anything to speak of    \n",
       "4    the best scene in the movie was when gerardo i...  \n",
       "..                                                 ...  \n",
       "743  i just got bored watching jessice lange take h...  \n",
       "744  unfortunately any virtue in this films product...  \n",
       "745                     in a word it is embarrassing    \n",
       "746                                exceptionally bad    \n",
       "747  all in all its an insult to ones intelligence ...  \n",
       "\n",
       "[748 rows x 3 columns]"
      ]
     },
     "execution_count": 9,
     "metadata": {},
     "output_type": "execute_result"
    }
   ],
   "source": [
    "#Check for and transalte emoji to text\n",
    "df_imdb[\"clean_text\"] = df_imdb['clean_text'].apply(lambda x: emoji.demojize(str(x)))\n",
    "df_imdb"
   ]
  },
  {
   "cell_type": "markdown",
   "id": "2a74cbe3",
   "metadata": {},
   "source": [
    "The removal of stop words is also an important step when preparing data for nueral language processing. Stop words are words commonly used in English (and other languages) that can be removed from the data because they don't serve a purpose and will not be beneficial for the model to see. Examples of these words include: in, no, could, couldn't, do, don't. There are some stop words that can change the meaning of a sentence if removed, so we will create a custom list of stopwords that will not be removed from the text to retain the integrity of the sentence."
   ]
  },
  {
   "cell_type": "code",
   "execution_count": 10,
   "id": "1bc6ff7f",
   "metadata": {},
   "outputs": [
    {
     "name": "stdout",
     "output_type": "stream",
     "text": [
      "Requirement already satisfied: nltk in c:\\users\\sered\\anaconda3\\lib\\site-packages (3.8.1)\n",
      "Requirement already satisfied: click in c:\\users\\sered\\anaconda3\\lib\\site-packages (from nltk) (8.0.4)\n",
      "Requirement already satisfied: joblib in c:\\users\\sered\\anaconda3\\lib\\site-packages (from nltk) (1.2.0)\n",
      "Requirement already satisfied: regex>=2021.8.3 in c:\\users\\sered\\anaconda3\\lib\\site-packages (from nltk) (2022.7.9)\n",
      "Requirement already satisfied: tqdm in c:\\users\\sered\\anaconda3\\lib\\site-packages (from nltk) (4.65.0)\n",
      "Requirement already satisfied: colorama in c:\\users\\sered\\anaconda3\\lib\\site-packages (from click->nltk) (0.4.6)\n"
     ]
    }
   ],
   "source": [
    "!pip install nltk"
   ]
  },
  {
   "cell_type": "code",
   "execution_count": 11,
   "id": "6551174b",
   "metadata": {},
   "outputs": [
    {
     "name": "stderr",
     "output_type": "stream",
     "text": [
      "[nltk_data] Downloading package stopwords to\n",
      "[nltk_data]     C:\\Users\\sered\\AppData\\Roaming\\nltk_data...\n",
      "[nltk_data]   Package stopwords is already up-to-date!\n"
     ]
    },
    {
     "data": {
      "text/plain": [
       "True"
      ]
     },
     "execution_count": 11,
     "metadata": {},
     "output_type": "execute_result"
    }
   ],
   "source": [
    "#remove stopwords\n",
    "\n",
    "import nltk\n",
    "from nltk.corpus import stopwords\n",
    "nltk.download('stopwords')"
   ]
  },
  {
   "cell_type": "code",
   "execution_count": 12,
   "id": "5af8418d",
   "metadata": {},
   "outputs": [],
   "source": [
    "\", \".join(stopwords.words('english'))\n",
    "\n",
    "stop_words = set(stopwords.words('english'))\n",
    "to_delete = [\"do\", \"don't\",\"can\",\"can't\", \"would\", \"wouldn't\"]\n",
    "stop_words.difference_update(to_delete)"
   ]
  },
  {
   "cell_type": "code",
   "execution_count": 13,
   "id": "98251622",
   "metadata": {},
   "outputs": [
    {
     "data": {
      "text/html": [
       "<div>\n",
       "<style scoped>\n",
       "    .dataframe tbody tr th:only-of-type {\n",
       "        vertical-align: middle;\n",
       "    }\n",
       "\n",
       "    .dataframe tbody tr th {\n",
       "        vertical-align: top;\n",
       "    }\n",
       "\n",
       "    .dataframe thead th {\n",
       "        text-align: right;\n",
       "    }\n",
       "</style>\n",
       "<table border=\"1\" class=\"dataframe\">\n",
       "  <thead>\n",
       "    <tr style=\"text-align: right;\">\n",
       "      <th></th>\n",
       "      <th>Review</th>\n",
       "      <th>Liked</th>\n",
       "      <th>clean_text</th>\n",
       "    </tr>\n",
       "  </thead>\n",
       "  <tbody>\n",
       "    <tr>\n",
       "      <th>0</th>\n",
       "      <td>A very, very, very slow-moving, aimless movie ...</td>\n",
       "      <td>0</td>\n",
       "      <td>slowmoving aimless movie distressed drifting y...</td>\n",
       "    </tr>\n",
       "    <tr>\n",
       "      <th>1</th>\n",
       "      <td>Not sure who was more lost - the flat characte...</td>\n",
       "      <td>0</td>\n",
       "      <td>sure lost flat characters audience nearly half...</td>\n",
       "    </tr>\n",
       "    <tr>\n",
       "      <th>2</th>\n",
       "      <td>Attempting artiness with black &amp; white and cle...</td>\n",
       "      <td>0</td>\n",
       "      <td>attempting artiness black white clever camera ...</td>\n",
       "    </tr>\n",
       "    <tr>\n",
       "      <th>3</th>\n",
       "      <td>Very little music or anything to speak of.</td>\n",
       "      <td>0</td>\n",
       "      <td>little music anything speak</td>\n",
       "    </tr>\n",
       "    <tr>\n",
       "      <th>4</th>\n",
       "      <td>The best scene in the movie was when Gerardo i...</td>\n",
       "      <td>1</td>\n",
       "      <td>best scene movie gerardo trying find song keep...</td>\n",
       "    </tr>\n",
       "    <tr>\n",
       "      <th>...</th>\n",
       "      <td>...</td>\n",
       "      <td>...</td>\n",
       "      <td>...</td>\n",
       "    </tr>\n",
       "    <tr>\n",
       "      <th>743</th>\n",
       "      <td>I just got bored watching Jessice Lange take h...</td>\n",
       "      <td>0</td>\n",
       "      <td>got bored watching jessice lange take clothes</td>\n",
       "    </tr>\n",
       "    <tr>\n",
       "      <th>744</th>\n",
       "      <td>Unfortunately, any virtue in this film's produ...</td>\n",
       "      <td>0</td>\n",
       "      <td>unfortunately virtue films production work los...</td>\n",
       "    </tr>\n",
       "    <tr>\n",
       "      <th>745</th>\n",
       "      <td>In a word, it is embarrassing.</td>\n",
       "      <td>0</td>\n",
       "      <td>word embarrassing</td>\n",
       "    </tr>\n",
       "    <tr>\n",
       "      <th>746</th>\n",
       "      <td>Exceptionally bad!</td>\n",
       "      <td>0</td>\n",
       "      <td>exceptionally bad</td>\n",
       "    </tr>\n",
       "    <tr>\n",
       "      <th>747</th>\n",
       "      <td>All in all its an insult to one's intelligence...</td>\n",
       "      <td>0</td>\n",
       "      <td>insult ones intelligence huge waste money</td>\n",
       "    </tr>\n",
       "  </tbody>\n",
       "</table>\n",
       "<p>748 rows × 3 columns</p>\n",
       "</div>"
      ],
      "text/plain": [
       "                                                Review  Liked  \\\n",
       "0    A very, very, very slow-moving, aimless movie ...      0   \n",
       "1    Not sure who was more lost - the flat characte...      0   \n",
       "2    Attempting artiness with black & white and cle...      0   \n",
       "3         Very little music or anything to speak of.        0   \n",
       "4    The best scene in the movie was when Gerardo i...      1   \n",
       "..                                                 ...    ...   \n",
       "743  I just got bored watching Jessice Lange take h...      0   \n",
       "744  Unfortunately, any virtue in this film's produ...      0   \n",
       "745                   In a word, it is embarrassing.        0   \n",
       "746                               Exceptionally bad!        0   \n",
       "747  All in all its an insult to one's intelligence...      0   \n",
       "\n",
       "                                            clean_text  \n",
       "0    slowmoving aimless movie distressed drifting y...  \n",
       "1    sure lost flat characters audience nearly half...  \n",
       "2    attempting artiness black white clever camera ...  \n",
       "3                          little music anything speak  \n",
       "4    best scene movie gerardo trying find song keep...  \n",
       "..                                                 ...  \n",
       "743      got bored watching jessice lange take clothes  \n",
       "744  unfortunately virtue films production work los...  \n",
       "745                                  word embarrassing  \n",
       "746                                  exceptionally bad  \n",
       "747          insult ones intelligence huge waste money  \n",
       "\n",
       "[748 rows x 3 columns]"
      ]
     },
     "execution_count": 13,
     "metadata": {},
     "output_type": "execute_result"
    }
   ],
   "source": [
    "def remove_stopwords(text):\n",
    "    return \" \".join([word for word in str(text).split() if word not in stop_words])\n",
    "df_imdb['clean_text'] = df_imdb['clean_text'].apply(lambda text: remove_stopwords(text))\n",
    "df_imdb"
   ]
  },
  {
   "cell_type": "markdown",
   "id": "39200753",
   "metadata": {},
   "source": [
    "Lemmatization is another process used to prepare the data before creating the nlp model. This process reduces the dimension of features in the dataset which allows the model to perform better."
   ]
  },
  {
   "cell_type": "code",
   "execution_count": 14,
   "id": "7f6e7ccf",
   "metadata": {},
   "outputs": [
    {
     "name": "stderr",
     "output_type": "stream",
     "text": [
      "[nltk_data] Downloading package wordnet to\n",
      "[nltk_data]     C:\\Users\\sered\\AppData\\Roaming\\nltk_data...\n",
      "[nltk_data]   Package wordnet is already up-to-date!\n"
     ]
    }
   ],
   "source": [
    "from nltk.stem import WordNetLemmatizer\n",
    "nltk.download('wordnet')\n",
    "\n",
    "wnl = WordNetLemmatizer()\n",
    "def lemmatizer(text):\n",
    "    return \" \".join([wnl.lemmatize(word) for word in text.split()])"
   ]
  },
  {
   "cell_type": "code",
   "execution_count": 15,
   "id": "5d95ff7e",
   "metadata": {},
   "outputs": [
    {
     "data": {
      "text/html": [
       "<div>\n",
       "<style scoped>\n",
       "    .dataframe tbody tr th:only-of-type {\n",
       "        vertical-align: middle;\n",
       "    }\n",
       "\n",
       "    .dataframe tbody tr th {\n",
       "        vertical-align: top;\n",
       "    }\n",
       "\n",
       "    .dataframe thead th {\n",
       "        text-align: right;\n",
       "    }\n",
       "</style>\n",
       "<table border=\"1\" class=\"dataframe\">\n",
       "  <thead>\n",
       "    <tr style=\"text-align: right;\">\n",
       "      <th></th>\n",
       "      <th>Review</th>\n",
       "      <th>Liked</th>\n",
       "      <th>clean_text</th>\n",
       "    </tr>\n",
       "  </thead>\n",
       "  <tbody>\n",
       "    <tr>\n",
       "      <th>0</th>\n",
       "      <td>A very, very, very slow-moving, aimless movie ...</td>\n",
       "      <td>0</td>\n",
       "      <td>slowmoving aimless movie distressed drifting y...</td>\n",
       "    </tr>\n",
       "    <tr>\n",
       "      <th>1</th>\n",
       "      <td>Not sure who was more lost - the flat characte...</td>\n",
       "      <td>0</td>\n",
       "      <td>sure lost flat character audience nearly half ...</td>\n",
       "    </tr>\n",
       "    <tr>\n",
       "      <th>2</th>\n",
       "      <td>Attempting artiness with black &amp; white and cle...</td>\n",
       "      <td>0</td>\n",
       "      <td>attempting artiness black white clever camera ...</td>\n",
       "    </tr>\n",
       "    <tr>\n",
       "      <th>3</th>\n",
       "      <td>Very little music or anything to speak of.</td>\n",
       "      <td>0</td>\n",
       "      <td>little music anything speak</td>\n",
       "    </tr>\n",
       "    <tr>\n",
       "      <th>4</th>\n",
       "      <td>The best scene in the movie was when Gerardo i...</td>\n",
       "      <td>1</td>\n",
       "      <td>best scene movie gerardo trying find song keep...</td>\n",
       "    </tr>\n",
       "    <tr>\n",
       "      <th>...</th>\n",
       "      <td>...</td>\n",
       "      <td>...</td>\n",
       "      <td>...</td>\n",
       "    </tr>\n",
       "    <tr>\n",
       "      <th>743</th>\n",
       "      <td>I just got bored watching Jessice Lange take h...</td>\n",
       "      <td>0</td>\n",
       "      <td>got bored watching jessice lange take clothes</td>\n",
       "    </tr>\n",
       "    <tr>\n",
       "      <th>744</th>\n",
       "      <td>Unfortunately, any virtue in this film's produ...</td>\n",
       "      <td>0</td>\n",
       "      <td>unfortunately virtue film production work lost...</td>\n",
       "    </tr>\n",
       "    <tr>\n",
       "      <th>745</th>\n",
       "      <td>In a word, it is embarrassing.</td>\n",
       "      <td>0</td>\n",
       "      <td>word embarrassing</td>\n",
       "    </tr>\n",
       "    <tr>\n",
       "      <th>746</th>\n",
       "      <td>Exceptionally bad!</td>\n",
       "      <td>0</td>\n",
       "      <td>exceptionally bad</td>\n",
       "    </tr>\n",
       "    <tr>\n",
       "      <th>747</th>\n",
       "      <td>All in all its an insult to one's intelligence...</td>\n",
       "      <td>0</td>\n",
       "      <td>insult one intelligence huge waste money</td>\n",
       "    </tr>\n",
       "  </tbody>\n",
       "</table>\n",
       "<p>748 rows × 3 columns</p>\n",
       "</div>"
      ],
      "text/plain": [
       "                                                Review  Liked  \\\n",
       "0    A very, very, very slow-moving, aimless movie ...      0   \n",
       "1    Not sure who was more lost - the flat characte...      0   \n",
       "2    Attempting artiness with black & white and cle...      0   \n",
       "3         Very little music or anything to speak of.        0   \n",
       "4    The best scene in the movie was when Gerardo i...      1   \n",
       "..                                                 ...    ...   \n",
       "743  I just got bored watching Jessice Lange take h...      0   \n",
       "744  Unfortunately, any virtue in this film's produ...      0   \n",
       "745                   In a word, it is embarrassing.        0   \n",
       "746                               Exceptionally bad!        0   \n",
       "747  All in all its an insult to one's intelligence...      0   \n",
       "\n",
       "                                            clean_text  \n",
       "0    slowmoving aimless movie distressed drifting y...  \n",
       "1    sure lost flat character audience nearly half ...  \n",
       "2    attempting artiness black white clever camera ...  \n",
       "3                          little music anything speak  \n",
       "4    best scene movie gerardo trying find song keep...  \n",
       "..                                                 ...  \n",
       "743      got bored watching jessice lange take clothes  \n",
       "744  unfortunately virtue film production work lost...  \n",
       "745                                  word embarrassing  \n",
       "746                                  exceptionally bad  \n",
       "747           insult one intelligence huge waste money  \n",
       "\n",
       "[748 rows x 3 columns]"
      ]
     },
     "execution_count": 15,
     "metadata": {},
     "output_type": "execute_result"
    }
   ],
   "source": [
    "#create the function for the lemmatization\n",
    "df_imdb['clean_text'] = df_imdb['clean_text'].apply(lambda text: lemmatizer(text))\n",
    "df_imdb"
   ]
  },
  {
   "cell_type": "markdown",
   "id": "bfd372da",
   "metadata": {},
   "source": [
    "The below calculations are to understand the data a little bit better and to statisically determine what the max and average for words in our clean_text column. This information will be used later."
   ]
  },
  {
   "cell_type": "code",
   "execution_count": 16,
   "id": "3e3ee25d",
   "metadata": {},
   "outputs": [
    {
     "data": {
      "text/html": [
       "<div>\n",
       "<style scoped>\n",
       "    .dataframe tbody tr th:only-of-type {\n",
       "        vertical-align: middle;\n",
       "    }\n",
       "\n",
       "    .dataframe tbody tr th {\n",
       "        vertical-align: top;\n",
       "    }\n",
       "\n",
       "    .dataframe thead th {\n",
       "        text-align: right;\n",
       "    }\n",
       "</style>\n",
       "<table border=\"1\" class=\"dataframe\">\n",
       "  <thead>\n",
       "    <tr style=\"text-align: right;\">\n",
       "      <th></th>\n",
       "      <th>Review</th>\n",
       "      <th>Liked</th>\n",
       "      <th>clean_text</th>\n",
       "      <th>Avg_word_length</th>\n",
       "    </tr>\n",
       "  </thead>\n",
       "  <tbody>\n",
       "    <tr>\n",
       "      <th>0</th>\n",
       "      <td>A very, very, very slow-moving, aimless movie ...</td>\n",
       "      <td>0</td>\n",
       "      <td>slowmoving aimless movie distressed drifting y...</td>\n",
       "      <td>6.857143</td>\n",
       "    </tr>\n",
       "    <tr>\n",
       "      <th>1</th>\n",
       "      <td>Not sure who was more lost - the flat characte...</td>\n",
       "      <td>0</td>\n",
       "      <td>sure lost flat character audience nearly half ...</td>\n",
       "      <td>5.625000</td>\n",
       "    </tr>\n",
       "    <tr>\n",
       "      <th>2</th>\n",
       "      <td>Attempting artiness with black &amp; white and cle...</td>\n",
       "      <td>0</td>\n",
       "      <td>attempting artiness black white clever camera ...</td>\n",
       "      <td>6.500000</td>\n",
       "    </tr>\n",
       "    <tr>\n",
       "      <th>3</th>\n",
       "      <td>Very little music or anything to speak of.</td>\n",
       "      <td>0</td>\n",
       "      <td>little music anything speak</td>\n",
       "      <td>6.000000</td>\n",
       "    </tr>\n",
       "    <tr>\n",
       "      <th>4</th>\n",
       "      <td>The best scene in the movie was when Gerardo i...</td>\n",
       "      <td>1</td>\n",
       "      <td>best scene movie gerardo trying find song keep...</td>\n",
       "      <td>5.000000</td>\n",
       "    </tr>\n",
       "    <tr>\n",
       "      <th>...</th>\n",
       "      <td>...</td>\n",
       "      <td>...</td>\n",
       "      <td>...</td>\n",
       "      <td>...</td>\n",
       "    </tr>\n",
       "    <tr>\n",
       "      <th>743</th>\n",
       "      <td>I just got bored watching Jessice Lange take h...</td>\n",
       "      <td>0</td>\n",
       "      <td>got bored watching jessice lange take clothes</td>\n",
       "      <td>5.571429</td>\n",
       "    </tr>\n",
       "    <tr>\n",
       "      <th>744</th>\n",
       "      <td>Unfortunately, any virtue in this film's produ...</td>\n",
       "      <td>0</td>\n",
       "      <td>unfortunately virtue film production work lost...</td>\n",
       "      <td>7.250000</td>\n",
       "    </tr>\n",
       "    <tr>\n",
       "      <th>745</th>\n",
       "      <td>In a word, it is embarrassing.</td>\n",
       "      <td>0</td>\n",
       "      <td>word embarrassing</td>\n",
       "      <td>8.000000</td>\n",
       "    </tr>\n",
       "    <tr>\n",
       "      <th>746</th>\n",
       "      <td>Exceptionally bad!</td>\n",
       "      <td>0</td>\n",
       "      <td>exceptionally bad</td>\n",
       "      <td>8.000000</td>\n",
       "    </tr>\n",
       "    <tr>\n",
       "      <th>747</th>\n",
       "      <td>All in all its an insult to one's intelligence...</td>\n",
       "      <td>0</td>\n",
       "      <td>insult one intelligence huge waste money</td>\n",
       "      <td>5.833333</td>\n",
       "    </tr>\n",
       "  </tbody>\n",
       "</table>\n",
       "<p>748 rows × 4 columns</p>\n",
       "</div>"
      ],
      "text/plain": [
       "                                                Review  Liked  \\\n",
       "0    A very, very, very slow-moving, aimless movie ...      0   \n",
       "1    Not sure who was more lost - the flat characte...      0   \n",
       "2    Attempting artiness with black & white and cle...      0   \n",
       "3         Very little music or anything to speak of.        0   \n",
       "4    The best scene in the movie was when Gerardo i...      1   \n",
       "..                                                 ...    ...   \n",
       "743  I just got bored watching Jessice Lange take h...      0   \n",
       "744  Unfortunately, any virtue in this film's produ...      0   \n",
       "745                   In a word, it is embarrassing.        0   \n",
       "746                               Exceptionally bad!        0   \n",
       "747  All in all its an insult to one's intelligence...      0   \n",
       "\n",
       "                                            clean_text  Avg_word_length  \n",
       "0    slowmoving aimless movie distressed drifting y...         6.857143  \n",
       "1    sure lost flat character audience nearly half ...         5.625000  \n",
       "2    attempting artiness black white clever camera ...         6.500000  \n",
       "3                          little music anything speak         6.000000  \n",
       "4    best scene movie gerardo trying find song keep...         5.000000  \n",
       "..                                                 ...              ...  \n",
       "743      got bored watching jessice lange take clothes         5.571429  \n",
       "744  unfortunately virtue film production work lost...         7.250000  \n",
       "745                                  word embarrassing         8.000000  \n",
       "746                                  exceptionally bad         8.000000  \n",
       "747           insult one intelligence huge waste money         5.833333  \n",
       "\n",
       "[748 rows x 4 columns]"
      ]
     },
     "execution_count": 16,
     "metadata": {},
     "output_type": "execute_result"
    }
   ],
   "source": [
    "#determine average word length in each review\n",
    "df_imdb['Avg_word_length'] = df_imdb[\"clean_text\"].apply(lambda x: np.mean([len(w) for w in x.split()]))\n",
    "df_imdb"
   ]
  },
  {
   "cell_type": "code",
   "execution_count": 17,
   "id": "52c9c070",
   "metadata": {},
   "outputs": [
    {
     "data": {
      "text/plain": [
       "count    748.00000\n",
       "mean      10.48262\n",
       "std       38.74640\n",
       "min        1.00000\n",
       "25%        4.00000\n",
       "50%        7.00000\n",
       "75%       10.00000\n",
       "max      794.00000\n",
       "Name: clean_text, dtype: float64"
      ]
     },
     "execution_count": 17,
     "metadata": {},
     "output_type": "execute_result"
    }
   ],
   "source": [
    "row_length = df_imdb['clean_text'].apply(lambda x: len(x.split(' ')))\n",
    "row_length.describe()"
   ]
  },
  {
   "cell_type": "markdown",
   "id": "b66c3d0d",
   "metadata": {},
   "source": [
    "### Vocabulary Size <a class=\"anchor\" id=\"Vocabulary\"></a>"
   ]
  },
  {
   "cell_type": "markdown",
   "id": "5aa6d5b8",
   "metadata": {},
   "source": [
    "To determine the vocabulary size, we will determine which words are used most frequently in the dataset. This can be done using the tensorflow library or without. I used two methods to verify my findings and determine how many times a word was used in the data. The first code block below shows the word count without utilizing the tensorflow library. For that code block I used the Counter method from the Collections library which returns the list of most used words and how many times in the data they were used. These findings were verified using the tensor flow library which does not give the word counts, but does rank the words from most used to least. From the code blocks below, we can see that there are 2865 words in the tokenizer word index which tells us that we have a total vocabulary size of 2865 words used in the clean_text column (the review column after the preprocessing)."
   ]
  },
  {
   "cell_type": "code",
   "execution_count": 18,
   "id": "aa6b5396",
   "metadata": {},
   "outputs": [
    {
     "data": {
      "text/plain": [
       "[('movie', 207),\n",
       " ('film', 182),\n",
       " ('0', 138),\n",
       " ('1', 119),\n",
       " ('one', 79),\n",
       " ('bad', 67),\n",
       " ('character', 58),\n",
       " ('good', 56),\n",
       " ('like', 49),\n",
       " ('time', 47),\n",
       " ('acting', 41),\n",
       " ('really', 41),\n",
       " ('great', 40),\n",
       " ('even', 39),\n",
       " ('see', 36)]"
      ]
     },
     "execution_count": 18,
     "metadata": {},
     "output_type": "execute_result"
    }
   ],
   "source": [
    "#determine most used words in the dataset\n",
    "from collections import Counter\n",
    "\n",
    "top_words = Counter(\" \".join(df_imdb['clean_text']).split()).most_common(15)\n",
    "top_words"
   ]
  },
  {
   "cell_type": "markdown",
   "id": "e763bfce",
   "metadata": {},
   "source": [
    "Before using using tokenization on my data it first needs to be split into test and training sets. The below code splits the data into training sets and then later in the process we will create our test and validation sets."
   ]
  },
  {
   "cell_type": "code",
   "execution_count": 19,
   "id": "b3bcbc92",
   "metadata": {},
   "outputs": [
    {
     "data": {
      "text/plain": [
       "369    cg opening sequence space looked like could cr...\n",
       "628    film deserves strong kudos taking stand except...\n",
       "235    came free dvd player bought still turned thing...\n",
       "585    duet astronaut doctor beginning movie perfect ...\n",
       "209                               couldnt take seriously\n",
       "Name: clean_text, dtype: object"
      ]
     },
     "execution_count": 19,
     "metadata": {},
     "output_type": "execute_result"
    }
   ],
   "source": [
    "#split the data into test and training sets\n",
    "from sklearn.model_selection import train_test_split \n",
    "\n",
    "#Create x and y variables\n",
    "X = df_imdb['clean_text']\n",
    "y = df_imdb['Liked']\n",
    "\n",
    "#split data using train_test_split\n",
    "X_train, X_remaining, y_train, y_remaining = train_test_split(X, y, train_size=0.7, random_state=42)\n",
    "X_train.head()"
   ]
  },
  {
   "cell_type": "code",
   "execution_count": 20,
   "id": "340b55db",
   "metadata": {},
   "outputs": [
    {
     "data": {
      "text/plain": [
       "369    0\n",
       "628    1\n",
       "235    0\n",
       "585    1\n",
       "209    0\n",
       "Name: Liked, dtype: int64"
      ]
     },
     "execution_count": 20,
     "metadata": {},
     "output_type": "execute_result"
    }
   ],
   "source": [
    "y_train.head()"
   ]
  },
  {
   "cell_type": "code",
   "execution_count": 21,
   "id": "ec7166e5",
   "metadata": {},
   "outputs": [],
   "source": [
    "#Create tokenizer to determine vocab size\n",
    "from tensorflow.keras.preprocessing.text import Tokenizer\n",
    "\n",
    "NUM_WORDS = 10000\n",
    "tokenizer = Tokenizer(num_words = NUM_WORDS, oov_token='<OOV>')\n",
    "tokenizer.fit_on_texts(X_train)\n",
    "word_index = tokenizer.word_index"
   ]
  },
  {
   "cell_type": "code",
   "execution_count": 22,
   "id": "a97cfa99",
   "metadata": {},
   "outputs": [
    {
     "name": "stdout",
     "output_type": "stream",
     "text": [
      "Vocabulary Size:  2161\n"
     ]
    }
   ],
   "source": [
    "#determine vocalulary size\n",
    "vocab_size = len(tokenizer.word_index) + 1\n",
    "print('Vocabulary Size: ', vocab_size)"
   ]
  },
  {
   "cell_type": "code",
   "execution_count": 23,
   "id": "a7090849",
   "metadata": {},
   "outputs": [
    {
     "data": {
      "text/plain": [
       "[('<OOV>', 1),\n",
       " ('movie', 2),\n",
       " ('film', 3),\n",
       " ('0', 4),\n",
       " ('1', 5),\n",
       " ('one', 6),\n",
       " ('good', 7),\n",
       " ('character', 8),\n",
       " ('bad', 9),\n",
       " ('like', 10),\n",
       " ('time', 11),\n",
       " ('even', 12),\n",
       " ('really', 13),\n",
       " ('acting', 14),\n",
       " ('see', 15)]"
      ]
     },
     "execution_count": 23,
     "metadata": {},
     "output_type": "execute_result"
    }
   ],
   "source": [
    "#list the top words from the clean_text\n",
    "list(tokenizer.word_index.items())[:15]"
   ]
  },
  {
   "cell_type": "code",
   "execution_count": 24,
   "id": "86b248d9",
   "metadata": {},
   "outputs": [
    {
     "name": "stdout",
     "output_type": "stream",
     "text": [
      "{'<OOV>': 1, 'movie': 2, 'film': 3, '0': 4, '1': 5, 'one': 6, 'good': 7, 'character': 8, 'bad': 9, 'like': 10, 'time': 11, 'even': 12, 'really': 13, 'acting': 14, 'see': 15, 'story': 16, 'great': 17, 'make': 18, 'made': 19, 'best': 20, 'thing': 21, 'well': 22, 'look': 23, 'scene': 24, 'plot': 25, 'ever': 26, 'love': 27, 'way': 28, 'didnt': 29, 'could': 30, 'actor': 31, 'seen': 32, 'script': 33, 'real': 34, 'dont': 35, 'can': 36, 'much': 37, 'also': 38, 'year': 39, 'line': 40, 'wonderful': 41, 'still': 42, 'get': 43, 'watching': 44, 'watch': 45, 'do': 46, 'funny': 47, 'every': 48, 'show': 49, 'say': 50, 'know': 51, 'would': 52, 'anyone': 53, 'never': 54, 'interesting': 55, 'little': 56, 'terrible': 57, 'think': 58, 'work': 59, 'better': 60, 'performance': 61, 'minute': 62, 'totally': 63, 'worth': 64, 'everything': 65, 'play': 66, 'people': 67, 'two': 68, 'game': 69, 'give': 70, 'nothing': 71, 'cast': 72, 'come': 73, 'awful': 74, 'lot': 75, 'predictable': 76, 'stupid': 77, 'part': 78, 'enough': 79, 'cant': 80, 'recommend': 81, 'art': 82, '10': 83, 'writing': 84, 'suck': 85, 'doesnt': 86, 'dialogue': 87, 'waste': 88, 'liked': 89, 'find': 90, 'life': 91, 'piece': 92, 'end': 93, 'first': 94, 'excellent': 95, 'however': 96, 'man': 97, 'ending': 98, 'going': 99, 'go': 100, 'quite': 101, 'saw': 102, 'worst': 103, 'special': 104, 'effect': 105, 'short': 106, 'absolutely': 107, 'loved': 108, 'long': 109, 'almost': 110, 'screen': 111, 'child': 112, 'enjoyed': 113, 'anything': 114, 'word': 115, 'kind': 116, 'ive': 117, 'music': 118, 'right': 119, 'certainly': 120, 'actually': 121, 'directing': 122, 'white': 123, 'cost': 124, 'probably': 125, 'shot': 126, 'top': 127, 'human': 128, 'seeing': 129, 'keep': 130, 'thought': 131, 'role': 132, 'thats': 133, 'least': 134, 'wasnt': 135, 'job': 136, 'director': 137, 'believe': 138, 'beautiful': 139, 'portrayal': 140, 'family': 141, 'watched': 142, 'sound': 143, 'im': 144, 'second': 145, 'want': 146, 'amazing': 147, 'there': 148, 'subtle': 149, 'though': 150, 'pretty': 151, 'highly': 152, 'set': 153, 'especially': 154, 'hour': 155, 'many': 156, 'worse': 157, 'wont': 158, 'strong': 159, 'perfect': 160, 'avoid': 161, 'used': 162, 'try': 163, 'old': 164, 'action': 165, 'suspense': 166, 'black': 167, 'understand': 168, 'got': 169, 'let': 170, 'must': 171, 'simply': 172, 'camera': 173, 'flick': 174, 'cool': 175, 'casting': 176, 'id': 177, 'written': 178, 'lack': 179, 'throughout': 180, 'definitely': 181, 'star': 182, '90': 183, 'truly': 184, 'cartoon': 185, 'boring': 186, 'wasted': 187, 'mess': 188, 'place': 189, 'rather': 190, 'fast': 191, 'whatever': 192, 'money': 193, 'away': 194, 'terrific': 195, 'drama': 196, 'feeling': 197, 'around': 198, 'cinema': 199, 'level': 200, 'song': 201, 'believable': 202, 'editing': 203, 'recommended': 204, 'silent': 205, 'hole': 206, 'looked': 207, 'god': 208, 'take': 209, 'easy': 210, 'beginning': 211, 'everyone': 212, 'attempt': 213, 'seem': 214, 'day': 215, 'garbage': 216, 'original': 217, 'theyre': 218, 'together': 219, 'moment': 220, 'use': 221, 'beyond': 222, 'budget': 223, 'tv': 224, 'bit': 225, 'style': 226, 'lead': 227, 'overall': 228, 'poor': 229, 'fact': 230, 'series': 231, 'guess': 232, 'big': 233, 'cheap': 234, 'actress': 235, 'fan': 236, 'guy': 237, 'mediocre': 238, 'may': 239, 'value': 240, 'mention': 241, 'lame': 242, 'played': 243, 'started': 244, 'cult': 245, '2': 246, 'fun': 247, 'entire': 248, 'often': 249, 'whole': 250, 'care': 251, 'glad': 252, 'kid': 253, 'fails': 254, 'superb': 255, 'memorable': 256, 'period': 257, 'easily': 258, 'history': 259, 'amount': 260, 'picture': 261, 'far': 262, 'point': 263, 'girl': 264, 'tom': 265, 'annoying': 266, 'found': 267, 'appreciate': 268, 'comedy': 269, 'horror': 270, 'cinematography': 271, 'puppet': 272, 'done': 273, 'american': 274, 'clever': 275, 'felt': 276, 'half': 277, 'face': 278, 'space': 279, 'created': 280, 'insult': 281, 'audience': 282, 'came': 283, 'player': 284, 'bought': 285, 'fear': 286, 'seriously': 287, 'martin': 288, 'obviously': 289, 'sense': 290, 'involved': 291, 'making': 292, 'fall': 293, 'racial': 294, 'serious': 295, 'spoiler': 296, 'talk': 297, 'idea': 298, 'nobody': 299, 'whatsoever': 300, 'rent': 301, 'meaning': 302, 'footage': 303, 'trash': 304, 'wrong': 305, 'drago': 306, 'back': 307, 'main': 308, 'paul': 309, 'weak': 310, 'hope': 311, 'true': 312, 'mind': 313, 'already': 314, 'lovely': 315, 'single': 316, 'episode': 317, 'always': 318, 'scenery': 319, 'final': 320, 'drive': 321, 'clichés': 322, 'thrown': 323, 'ready': 324, 'setting': 325, 'u': 326, 'become': 327, 'soundtrack': 328, 'either': 329, 'sometimes': 330, 'laughable': 331, 'nut': 332, 'said': 333, 'situation': 334, 'recent': 335, 'convincing': 336, 'disappointed': 337, 'wonderfully': 338, 'enjoy': 339, 'perhaps': 340, 'appearance': 341, 'classic': 342, 'playing': 343, 'call': 344, 'particular': 345, 'gave': 346, 'stage': 347, 'bored': 348, 'next': 349, 'effective': 350, 'nonsense': 351, 'torture': 352, 'feature': 353, 'book': 354, 'horrible': 355, 'something': 356, 'yes': 357, 'graphic': 358, 'massive': 359, 'crap': 360, 'complete': 361, 'hill': 362, 'choice': 363, 'hard': 364, 'another': 365, 'follow': 366, 'wouldnt': 367, 'arent': 368, 'reason': 369, 'experience': 370, 'hilarious': 371, 'giallo': 372, 'looking': 373, 'last': 374, 'start': 375, 'perfectly': 376, 'put': 377, 'aspect': 378, 'animation': 379, 'tell': 380, 'age': 381, 'lost': 382, 'since': 383, 'house': 384, 'tale': 385, 'documentary': 386, 'hitchcock': 387, 'nice': 388, 'touching': 389, 'theater': 390, 'dance': 391, 'although': 392, 'world': 393, 'slow': 394, 'death': 395, 'trying': 396, 'thinking': 397, 'frightening': 398, 'heart': 399, 'race': 400, '1010': 401, 'unbelievable': 402, 'watchable': 403, 'scale': 404, 'different': 405, 'female': 406, 'embarrassing': 407, '\\x96': 408, 'sake': 409, 'deserves': 410, 'taking': 411, 'stand': 412, 'exceptional': 413, 'racism': 414, 'free': 415, 'dvd': 416, 'duet': 417, 'astronaut': 418, 'doctor': 419, 'war': 420, 'couldnt': 421, 'interplay': 422, 'emilio': 423, 'wall': 424, 'leave': 425, 'shelf': 426, 'overacting': 427, 'despite': 428, 'intelligent': 429, 'intelligence': 430, 'imagination': 431, 'pitiful': 432, 'nature': 433, 'walked': 434, 'le': 435, 'towards': 436, 'member': 437, 'store': 438, 'iq': 439, 'huge': 440, 'painful': 441, 'hated': 442, 'turn': 443, 'masterpiece': 444, 'stereotype': 445, 'scary': 446, 'paid': 447, 'fantastic': 448, 'dog': 449, 'interest': 450, 'visual': 451, 'composition': 452, 'closeup': 453, 'lighting': 454, 'wonder': 455, 'joy': 456, 'christmas': 457, 'showed': 458, 'released': 459, 'advise': 460, 'usual': 461, 'help': 462, 'enjoyable': 463, 'decent': 464, 'alexander': 465, 'describe': 466, 'particularly': 467, 'coming': 468, 'began': 469, 'average': 470, 'clearly': 471, 'tension': 472, 'oscar': 473, 'bore': 474, 'whiny': 475, 'sort': 476, 'kinda': 477, 'weird': 478, 'jimmy': 479, 'screenwriter': 480, '3': 481, '4': 482, 'location': 483, 'maybe': 484, 'memory': 485, 'brilliant': 486, 'provoking': 487, 'force': 488, 'question': 489, 'loneliness': 490, 'share': 491, 'ups': 492, 'knew': 493, 'full': 494, 'mad': 495, 'putting': 496, 'wanted': 497, 'learn': 498, 'artist': 499, 'fat': 500, 'cheesy': 501, 'poorly': 502, '110': 503, 'possible': 504, 'huston': 505, 'adaptation': 506, 'dead': 507, 'premise': 508, 'heaven': 509, 'delivers': 510, 'volcano': 511, 'los': 512, 'angeles': 513, '30': 514, 'wish': 515, 'negative': 516, 'hollow': 517, 'killing': 518, 'season': 519, 'fascinating': 520, 'running': 521, 'producer': 522, 'missed': 523, 'lane': 524, 'fox': 525, 'humour': 526, 'evil': 527, '20': 528, 'miyazakis': 529, 'ponyo': 530, 'sea': 531, 'childhood': 532, 'ago': 533, '20th': 534, 'taped': 535, 'bring': 536, 'mature': 537, 'occasionally': 538, 'odd': 539, 'direction': 540, 'indeed': 541, 'bear': 542, 'ask': 543, 'wholesome': 544, 'fine': 545, 'youll': 546, 'shed': 547, 'tear': 548, 'forget': 549, 'havent': 550, 'ridiculous': 551, 'relationship': 552, 'assistant': 553, 'storyline': 554, 'happened': 555, 'laugh': 556, 'super': 557, 'create': 558, 'conclusion': 559, 'bother': 560, 'european': 561, 'dangerous': 562, 'moving': 563, 'cause': 564, 'important': 565, 'form': 566, 'imaginable': 567, 'fit': 568, 'today': 569, 'brilliance': 570, 'pg13': 571, 'interested': 572, 'unfunny': 573, 'joke': 574, 'talented': 575, 'morgan': 576, 'jonah': 577, 'ed': 578, 'lazy': 579, 'obvious': 580, 'quality': 581, 'sure': 582, 'addition': 583, 'lady': 584, 'grace': 585, 'regret': 586, 'front': 587, 'pointless': 588, 'future': 589, 'anne': 590, 'utterly': 591, 'reading': 592, 'charm': 593, 'whether': 594, 'delivering': 595, 'honestly': 596, 'unpredictable': 597, 'energy': 598, 'badly': 599, 'generally': 600, 'dialog': 601, 'pretentious': 602, 'gonna': 603, 'business': 604, 'happen': 605, 'change': 606, 'twist': 607, 'yet': 608, 'sequel': 609, 'rest': 610, 'early': 611, 'fulci': 612, 'new': 613, 'humorous': 614, 'comment': 615, 'brief': 616, 'fresh': 617, 'handle': 618, 'course': 619, 'credit': 620, 'given': 621, 'modern': 622, 'ill': 623, 'gem': 624, 'term': 625, 'he': 626, 'reality': 627, 'thriller': 628, '70': 629, 'seems': 630, 'charming': 631, 'wind': 632, 'lion': 633, 'america': 634, 'camerawork': 635, 'present': 636, 'wilkinson': 637, 'emily': 638, 'watson': 639, 'dull': 640, 'relation': 641, 'speed': 642, 'empty': 643, 'entertaining': 644, 'small': 645, 'sister': 646, 'completely': 647, 'stay': 648, 'scared': 649, 'review': 650, 'consider': 651, 'bold': 652, 'depicts': 653, 'finally': 654, 'acted': 655, 'rank': 656, 'brian': 657, 'unrecognizable': 658, 'surrounding': 659, 'murdered': 660, 'church': 661, 'nun': 662, 'act': 663, 'youre': 664, 'father': 665, 'brain': 666, 'case': 667, 'conflict': 668, 'barely': 669, 'disliked': 670, 'journey': 671, 'touch': 672, 'previous': 673, 'mean': 674, 'carry': 675, 'five': 676, 'era': 677, 'proud': 678, 'basically': 679, 'oh': 680, 'male': 681, 'left': 682, 'step': 683, 'paced': 684, 'courtroom': 685, 'smart': 686, 'compelling': 687, 'friend': 688, 'ruthless': 689, 'killer': 690, 'element': 691, 'century': 692, 'explanation': 693, 'along': 694, 'talent': 695, 'stocking': 696, 'slightest': 697, 'directorial': 698, 'pacing': 699, 'solid': 700, 'bonus': 701, 'remotely': 702, 'filmmaker': 703, 'head': 704, 'abysmal': 705, 'aside': 706, 'junkyard': 707, 'among': 708, 'mickey': 709, '80': 710, 'result': 711, 'us': 712, 'moral': 713, 'overly': 714, 'exactly': 715, 'achievement': 716, 'hand': 717, 'emotion': 718, 'macbeth': 719, 'dark': 720, 'glance': 721, 'rating': 722, 'rate': 723, 'dream': 724, 'writer': 725, 'decay': 726, 'fifteen': 727, 'core': 728, 'without': 729, 'impressive': 730, 'lord': 731, 'stink': 732, 'spoil': 733, 'plain': 734, 'write': 735, 'damn': 736, 'fx': 737, 'dislike': 738, 'production': 739, 'shakespear': 740, 'cg': 741, 'opening': 742, 'sequence': 743, 'microsoft': 744, 'slideshow': 745, 'kudos': 746, 'mostly': 747, 'lesserknown': 748, 'superintelligent': 749, 'turned': 750, 'halfway': 751, 'embarrassed': 752, 'howell': 753, 'exchange': 754, 'considers': 755, 'cold': 756, 'biggest': 757, 'crashed': 758, 'ussr': 759, 'contains': 760, 'chemistry': 761, 'street': 762, 'charlie': 763, 'checking': 764, 'hopeless': 765, 'pan': 766, 'reviewer': 767, 'rubbish': 768, 'nonresearched': 769, 'masterful': 770, 'includes': 771, 'shatner': 772, 'nimoy': 773, 'washed': 774, 'tacky': 775, 'spock': 776, 'rescue': 777, 'kirk': 778, 'jet': 779, 'pack': 780, 'mountain': 781, 'faster': 782, 'hbo': 783, 'unneeded': 784, 'controversy': 785, 'littered': 786, 'overt': 787, 'slur': 788, 'return': 789, 'depicted': 790, 'moron': 791, 'boob': 792, 'losing': 793, 'disappointment': 794, 'girlfriend': 795, 'widmark': 796, 'unintentionally': 797, 'comical': 798, 'body': 799, 'soul': 800, '1947': 801, 'aerial': 802, 'welldone': 803, 'identifies': 804, 'cardboard': 805, 'cutout': 806, 'predictably': 807, 'reversestereotypes': 808, 'appalling': 809, 'unbearable': 810, 'charisma': 811, 'comedic': 812, 'timing': 813, 'seamlessly': 814, 'woven': 815, 'splendid': 816, 'view': 817, 'cease': 818, 'alert': 819, 'decipher': 820, 'exquisite': 821, 'inventive': 822, 'elegant': 823, 'angle': 824, 'including': 825, 'pointillistic': 826, 'faux': 827, 'home': 828, 'behold': 829, 'florida': 830, 'appealing': 831, 'politically': 832, 'correct': 833, 'chick': 834, 'cutting': 835, 'edge': 836, 'supposedly': 837, 'etcits': 838, 'awesome': 839, 'ebay': 840, 'julian': 841, 'fellowes': 842, 'triumphed': 843, 'elia': 844, 'koteasjack': 845, 'palance': 846, 'angelina': 847, 'hot': 848, 'nakedbilly': 849, 'appears': 850, 'cameo': 851, 'sven': 852, 'ole': 853, 'thorsen': 854, 'success': 855, 'depends': 856, 'sydney': 857, 'greenstreet': 858, 'yardley': 859, 'painfully': 860, 'dreary': 861, 'timewaster': 862, 'youd': 863, 'mollusk': 864, 'rough': 865, 'draft': 866, 'shooting': 867, 'finished': 868, 'completed': 869, '1973': 870, 'stranger': 871, 'person': 872, 'low': 873, 'scare': 874, 'medical': 875, 'terminology': 876, 'iffy': 877, 'insulin': 878, 'dependant': 879, 'diabetic': 880, 'expecting': 881, 'material': 882, 'instead': 883, 'fest': 884, 'spoiled': 885, 'brat': 886, 'babysitting': 887, 'pap': 888, 'screened': 889, 'afternoon': 890, 'punish': 891, 'unemployed': 892, 'omit': 893, 'matthew': 894, 'wrotedirected': 895, '1995': 896, 'monster': 897, 'grim': 898, 'pace': 899, 'team': 900, 'behind': 901, 'continue': 902, 'peculiarity': 903, 'buffet': 904, 'science': 905, 'teacher': 906, 'tying': 907, 'loose': 908, 'thoughtprovoking': 909, 'building': 910, 'couple': 911, 'hummh': 912, 'identify': 913, 'need': 914, 'whenever': 915, 'tvnever': 916, 'memorized': 917, 'cutie': 918, 'murky': 919, 'product': 920, 'related': 921, 'struggle': 922, 'timer': 923, 'known': 924, 'errol': 925, 'flynn': 926, 'dad': 927, 'favourite': 928, 'grew': 929, 'daughter': 930, 'paint': 931, 'photograph': 932, 'threshold': 933, 'literally': 934, 'excerpt': 935, 'trek': 936, 'v': 937, 'frontier': 938, 'barking': 939, 'network': 940, 'aired': 941, 'dribble': 942, 'proudly': 943, 'classical': 944, 'wb': 945, 'composed': 946, 'tremendously': 947, 'delight': 948, 'cheerless': 949, 'heist': 950, 'characterisation': 951, 'underbite': 952, 'stoic': 953, 'emoting': 954, 'chow': 955, 'yun': 956, 'tomorrow': 957, 'abandoned': 958, 'factory': 959, 'executed': 960, 'flying': 961, 'judo': 962, 'roll': 963, 'la': 964, 'john': 965, 'woo': 966, '010': 967, 'redeemed': 968, 'mst3k': 969, 'fodder': 970, 'reminded': 971, 'evinced': 972, 'faithful': 973, 'james': 974, 'joyce': 975, 'acclaimed': 976, 'novella': 977, 'lange': 978, 'lifetime': 979, 'air': 980, 'sell': 981, 'musthave': 982, 'slowmoving': 983, 'aimless': 984, 'distressed': 985, 'drifting': 986, 'young': 987, 'genre': 988, 'steve': 989, 'middleaged': 990, 'upper': 991, 'class': 992, 'uptight': 993, 'sorry': 994, 'elderly': 995, 'awkwardly': 996, 'babbling': 997, 'overwrought': 998, 'pseudosatanic': 999, 'gibberish': 1000, 'corny': 1001, 'teen': 1002, 'goth': 1003, 'blush': 1004, 'olde': 1005, 'english': 1006, 'latin': 1007, 'foreigner': 1008, 'enter': 1009, 'admins': 1010, 'miserable': 1011, 'hosting': 1012, 'voiceovers': 1013, 'monotonous': 1014, 'guest': 1015, 'derivative': 1016, 'mercy': 1017, 'idiot': 1018, 'produce': 1019, 'several': 1020, 'telephone': 1021, 'repair': 1022, 'reaction': 1023, 'bitchy': 1024, 'bos': 1025, 'genuine': 1026, 'coach': 1027, 'paolo': 1028, 'sorrentino': 1029, 'tony': 1030, 'built': 1031, 'unforgettable': 1032, 'plus': 1033, 'modest': 1034, 'entirely': 1035, 'transfer': 1036, 'ten': 1037, 'lousy': 1038, 'recently': 1039, 'channel': 1040, 'apt': 1041, 'mark': 1042, 'phantasm': 1043, 'discovering': 1044, 'falling': 1045, '40': 1046, 'empowerment': 1047, 'woman': 1048, 'hayao': 1049, 'latest': 1050, 'eighth': 1051, 'studio': 1052, 'ghibili': 1053, 'gake': 1054, 'ue': 1055, 'cliff': 1056, 'imaginative': 1057, 'sunday': 1058, 'march': 1059, '2005': 1060, 'pillow': 1061, 'girlfriendboyfriend': 1062, 'occupied': 1063, 'suggests': 1064, 'brings': 1065, 'dramatic': 1066, 'focus': 1067, 'underlying': 1068, 'served': 1069, 'apart': 1070, 'inappropriate': 1071, 'smiling': 1072, 'keira': 1073, 'knightley': 1074, 'prone': 1075, 'elaborately': 1076, 'aesthetically': 1077, 'sculpture': 1078, 'unconditional': 1079, 'tiny': 1080, 'toon': 1081, 'kept': 1082, 'vibe': 1083, 'delivered': 1084, 'popular': 1085, 'underrated': 1086, 'poler': 1087, 'cutebut': 1088, 'fort': 1089, 'steele': 1090, 'duris': 1091, 'ultracheap': 1092, 'crayonpencil': 1093, 'drawing': 1094, 'colorful': 1095, 'fanciful': 1096, 'thrilled': 1097, 'depth': 1098, 'underneath': 1099, 'malta': 1100, 'dry': 1101, 'barren': 1102, 'hockey': 1103, 'defensemen': 1104, '5': 1105, 'goalie': 1106, 'diving': 1107, 'foot': 1108, 'wide': 1109, 'net': 1110, 'etc': 1111, 'bakery': 1112, 'waitress': 1113, 'superficial': 1114, 'stagey': 1115, 'farce': 1116, 'pyromaniac': 1117, 'waylaid': 1118, 'switched': 1119, 'pay': 1120, 'smile': 1121, 'yawn': 1122, 'educational': 1123, '8': 1124, 'barney': 1125, 'de': 1126, 'duper': 1127, 'babie': 1128, 'bop': 1129, 'cute': 1130, 'storm': 1131, 'trooper': 1132, 'list': 1133, 'unrecommended': 1134, 'groove': 1135, 'antithesis': 1136, 'traffic': 1137, 'designed': 1138, 'amazingstylized': 1139, 'schrader': 1140, 'mishima': 1141, 'complex': 1142, 'anyway': 1143, 'flowed': 1144, 'smoothly': 1145, 'malebonding': 1146, 'hoot': 1147, 'enjoyment': 1148, 'run': 1149, 'raw': 1150, 'sublimely': 1151, 'outlandish': 1152, 'array': 1153, 'psychotic': 1154, 'lovable': 1155, 'witty': 1156, 'delightful': 1157, 'dr': 1158, 'seuss': 1159, 'brilliantly': 1160, 'animated': 1161, 'upas': 1162, 'finest': 1163, 'thoroughly': 1164, 'deserving': 1165, 'academy': 1166, 'award': 1167, 'structure': 1168, 'tightly': 1169, 'constructed': 1170, 'vitally': 1171, 'occurs': 1172, 'content': 1173, 'fill': 1174, 'dozen': 1175, 'highest': 1176, 'superlative': 1177, 'require': 1178, 'significant': 1179, 'puzzlesolving': 1180, 'pull': 1181, 'punch': 1182, 'number': 1183, 'th': 1184, 'insane': 1185, 'unlockable': 1186, 'properly': 1187, 'canada': 1188, 'aye': 1189, 'rock': 1190, 'buy': 1191, 'pure': 1192, 'doomed': 1193, 'conception': 1194, 'minor': 1195, 'nonsequel': 1196, 'changing': 1197, 'tone': 1198, 'pgrated': 1199, 'confirm': 1200, 'generic': 1201, 'managed': 1202, 'exaggerating': 1203, 'told': 1204, 'trailer': 1205, 'carrell': 1206, 'save': 1207, 'costars': 1208, 'fare': 1209, 'freeman': 1210, 'helm': 1211, 'presence': 1212, 'animal': 1213, 'integration': 1214, 'bluegreenscreen': 1215, 'translate': 1216, 'succeeds': 1217, 'meagre': 1218, 'lesser': 1219, 'french': 1220, 'cancan': 1221, 'boast': 1222, 'cutest': 1223, 'leading': 1224, 'headoverheels': 1225, 'insipid': 1226, 'waiting': 1227, 'effort': 1228, 'heche': 1229, 'sam': 1230, 'shepard': 1231, 'gung': 1232, 'ho': 1233, 'marine': 1234, 'sobering': 1235, 'sat': 1236, 'riveted': 1237, 'resounding': 1238, '9': 1239, 'hank': 1240, 'voice': 1241, 'fingernail': 1242, 'chalkboard': 1243, 'unnecessary': 1244, 'trainroller': 1245, 'coaster': 1246, 'warmth': 1247, 'grate': 1248, 'nerve': 1249, 'improved': 1250, 'improvisation': 1251, 'twice': 1252, 'worry': 1253, 'surroundings': 1254, 'crackle': 1255, 'youthful': 1256, 'concentrate': 1257, 'meander': 1258, 'builder': 1259, 'cross': 1260, 'g': 1261, 'pg': 1262, 'noncliche': 1263, 'parent': 1264, 'predict': 1265, 'verbatim': 1266, 'selection': 1267, 'gross': 1268, 'chill': 1269, 'nevsky': 1270, 'whoever': 1271, 'lived': 1272, 'planned': 1273, 'dodge': 1274, 'stratus': 1275, 'maker': 1276, 'restrained': 1277, 'québec': 1278, 'jerky': 1279, 'movement': 1280, 'personality': 1281, 'occur': 1282, 'matrix': 1283, 'mindblowing': 1284, 'muppets': 1285, 'badwellits': 1286, 'goremeister': 1287, 'lucio': 1288, 'subgenre': 1289, 'werent': 1290, 'forgetting': 1291, 'musicincluding': 1292, 'shirley': 1293, 'jones': 1294, 'rendition': 1295, 'tonight': 1296, 'uplifting': 1297, 'charismatic': 1298, '15': 1299, '2006': 1300, 'angus': 1301, 'scrimm': 1302, 'somewhat': 1303, 'gently': 1304, 'menacing': 1305, 'violinplaying': 1306, 'anatomist': 1307, 'quinn': 1308, 'squib': 1309, 'sublime': 1310, 'shameful': 1311, 'tough': 1312, 'issue': 1313, 'dignity': 1314, 'shocking': 1315, 'length': 1316, 'redeeming': 1317, 'realised': 1318, 'problems\\x97the': 1319, 'professor': 1320, 'instant': 1321, 'catchy': 1322, 'applause': 1323, 'prelude': 1324, 'stanwyck': 1325, 'equivalent': 1326, 'dickens': 1327, 'carol': 1328, 'sensibility': 1329, 'blew': 1330, 'hackneyed': 1331, 'screenplay': 1332, 'postproduction': 1333, 'filmmaking': 1334, 'national': 1335, 'treasure': 1336, 'zillion': 1337, 'camp': 1338, 'inspiration': 1339, 'overcome': 1340, 'rejection': 1341, 'italian': 1342, 'dominated': 1343, 'disneypixars': 1344, 'cgi': 1345, 'refreshing': 1346, 'comforting': 1347, 'miyazaki': 1348, 'relying': 1349, 'traditional': 1350, 'handdrawn': 1351, 'enchanting': 1352, 'rendering': 1353, 'imperial': 1354, 'artless': 1355, 'endlessly': 1356, 'ugliest': 1357, 'ie': 1358, 'hold': 1359, 'attention': 1360, 'pathetic': 1361, 'unrealistic': 1362, 'utter': 1363, '70000': 1364, 'later': 1365, 'power': 1366, 'entertained': 1367, 'detail': 1368, 'dysfunctionhe': 1369, 'becomes': 1370, 'uninteresting': 1371, 'forgettable': 1372, 'secondary': 1373, 'incomprehensible': 1374, 'primary': 1375, 'mystifying': 1376, 'wooden': 1377, 'picked': 1378, 'emptiness': 1379, 'consolation': 1380, 'titta': 1381, 'di': 1382, 'girolamo': 1383, 'vision': 1384, 'horrified': 1385, 'sympathetic': 1386, 'overdue': 1387, 'greatest': 1388, 'vessel': 1389, 'taken': 1390, 'mighty': 1391, 'frost': 1392, 'speak': 1393, 'indescribably': 1394, 'idiotic': 1395, 'mindbendingly': 1396, 'poignant': 1397, 'wouldve': 1398, 'handled': 1399, 'competent': 1400, 'jerry': 1401, 'falwell': 1402, 'walk': 1403, 'theatre': 1404, 'relief': 1405, 'starring': 1406, 'jaclyn': 1407, 'smith': 1408, '12': 1409, 'marriage': 1410, 'chosen': 1411, 'tortured': 1412, 'disgusting': 1413, 'blatant': 1414, 'propaganda': 1415, 'superbly': 1416, 'scream': 1417, 'victor': 1418, 'mclaglen': 1419, 'donlevy': 1420, 'shenanigan': 1421, 'spy': 1422, 'kidnapped': 1423, 'nasty': 1424, 'foreign': 1425, 'random': 1426, 'taxidermist': 1427, 'thunderbird': 1428, 'ursula': 1429, 'burton': 1430, 'billy': 1431, 'nutbag': 1432, 'side': 1433, 'note': 1434, 'stephen': 1435, 'mchattie': 1436, 'lance': 1437, 'hendrikson': 1438, 'raging': 1439, 'cheekbone': 1440, 'remarkable': 1441, 'explosion': 1442, 'gas': 1443, 'tank': 1444, 'nonetheless': 1445, 'drift': 1446, 'earth': 1447, 'supposed': 1448, 'light': 1449, 'thoughtsgabriels': 1450, 'discomfort': 1451, 'danceall': 1452, 'intangible': 1453, 'leap': 1454, 'within': 1455, 'viewer': 1456, 'grasp': 1457, 'wanting': 1458, 'robert': 1459, 'ryans': 1460, 'portrayed': 1461, 'someone': 1462, 'schizophrenic': 1463, 'lifemy': 1464, 'affected': 1465, 'confusing': 1466, 'subplots': 1467, 'native': 1468, 'eating': 1469, 'beall': 1470, 'endall': 1471, 'brainsucking': 1472, 'attractive': 1473, 'eyepleasing': 1474, 'wasting': 1475, 'choked': 1476, 'vomit': 1477, 'worthless': 1478, 'youve': 1479, 'rocked': 1480, 'social': 1481, 'physical': 1482, 'outlet': 1483, 'surf': 1484, 'wave': 1485, '1998': 1486, 'deep': 1487, 'impact': 1488, 'armageddon': 1489, 'everywhere': 1490, 'phrase': 1491, 'owed': 1492, 'pleased': 1493, 'genius': 1494, 'letting': 1495, 'passion': 1496, 'plenty': 1497, 'cut': 1498, 'audio': 1499, 'sibling': 1500, 'bond': 1501, 'ended': 1502, 'despised': 1503, 'high': 1504, 'adventure': 1505, 'bland': 1506, 'balance': 1507, 'hip': 1508, 'prays': 1509, 'hype': 1510, 'youtube': 1511, 'happy': 1512, 'feel': 1513, 'distinction': 1514, 'hatred': 1515, 'admitted': 1516, 'elsewhere': 1517, 'shell': 1518, 'ticket': 1519, 'dollar': 1520, '750': 1521, 'miss': 1522, 'charismafree': 1523, 'potted': 1524, 'plant': 1525, 'excuse': 1526, 'seemed': 1527, 'juano': 1528, 'hernandez': 1529, 'supporting': 1530, 'accused': 1531, 'murdering': 1532, 'south': 1533, 'humor': 1534, 'dosent': 1535, 'involves': 1536, 'vulcan': 1537, 'stealing': 1538, 'enterprise': 1539, 'uhura': 1540, 'belly': 1541, 'distract': 1542, 'guard': 1543, 'veteran': 1544, 'nostalgia': 1545, 'trip': 1546, 'magnificent': 1547, 'photographycinematography': 1548, 'comprehensible': 1549, 'lilt': 1550, 'phenomenal': 1551, 'opinion': 1552, 'interview': 1553, 'vampire': 1554, 'lestat': 1555, 'stuart': 1556, 'townsend': 1557, 'cruise': 1558, 'contract': 1559, 'control': 1560, 'forgot': 1561, 'trond': 1562, 'fausa': 1563, 'aurvåg': 1564, 'bothersome': 1565, 'longer': 1566, 'surprised': 1567, 'understated': 1568, 'aailiyah': 1569, 'akasha': 1570, 'entrance': 1571, 'mini': 1572, 'realized': 1573, 'closed': 1574, 'bipolarity': 1575, 'thug': 1576, 'luvs': 1577, 'diaper': 1578, 'commercial': 1579, 'unconvincing': 1580, 'score': 1581, 'integral': 1582, 'helping': 1583, 'road': 1584, '1948': 1585, 'silly': 1586, 'noir': 1587, 'implausible': 1588, 'unmitigated': 1589, 'exemplar': 1590, 'designer': 1591, 'pleasant': 1592, 'voyage': 1593, 'selfdiscovery': 1594, 'wondered': 1595, 'shortlist': 1596, 'sweet': 1597, 'incredible': 1598, 'capture': 1599, 'essence': 1600, 'cover': 1601, 'oldfashioned': 1602, 'tuneful': 1603, 'sloppy': 1604, 'creates': 1605, 'universe': 1606, 'excessively': 1607, 'phony': 1608, 'contrived': 1609, 'sit': 1610, 'reasonable': 1611, 'atrocity': 1612, 'commentary': 1613, 'undoubtedly': 1614, 'stewart': 1615, 'hero': 1616, 'rip': 1617, 'climax': 1618, 'embassy': 1619, 'function': 1620, 'brooding': 1621, 'menace': 1622, 'lowbudget': 1623, 'bela': 1624, 'lugosi': 1625, 'extraneous': 1626, 'intoning': 1627, 'garbo': 1628, 'bat': 1629, 'netflix': 1630, 'perabo': 1631, 'comfortable': 1632, 'uniqueness': 1633, 'ticker': 1634, 'estevezs': 1635, 'debut': 1636, 'development': 1637, 'estevez': 1638, 'suggest': 1639, 'natural': 1640, 'eye': 1641, 'tired': 1642, 'thick': 1643, 'reader': 1644, 'worthwhile': 1645, 'lacked': 1646, 'added': 1647, 'computer': 1648, 'geek': 1649, 'bible': 1650, 'thumper': 1651, 'badass': 1652, 'taylor': 1653, 'stanwycks': 1654, 'singing': 1655, 'unfolds': 1656, '18th': 1657, 'jutland': 1658, 'instrument': 1659, 'excellently': 1660, 'produced': 1661, 'scifis': 1662, 'scot': 1663, 'vandiver': 1664, 'hate': 1665, 'expect': 1666, 'sum': 1667, 'breeder': 1668, 'cheaply': 1669, 'avoided': 1670, 'ebola': 1671, 'virus': 1672, 'hide': 1673, 'sand': 1674, 'spent': 1675, 'extraordinary': 1676, 'accent': 1677, '1986': 1678, 'version': 1679, 'loosely': 1680, 'moviegoing': 1681, 'public': 1682, 'balanced': 1683, 'underacting': 1684, 'load': 1685, 'debit': 1686, 'filmiing': 1687, 'expansive': 1688, 'explain': 1689, 'romanticcharminghilariousand': 1690, 'adorablethe': 1691, 'funnyall': 1692, 'specialtoo': 1693, 'laughedkids': 1694, 'itbuy': 1695, 'outit': 1696, 'sincere': 1697, 'stunning': 1698, 'crowdpleaserthis': 1699, 'shame': 1700, 'riot': 1701, 'hugo': 1702, 'weaving': 1703, 'sexobsessed': 1704, 'gay': 1705, 'estate': 1706, 'salesman': 1707, 'client': 1708, 'tryst': 1709, 'flaming': 1710, 'darren': 1711, 'hollander': 1712, 'movieit': 1713, 'became': 1714, 'emperor': 1715, 'spend': 1716, 'trumbull': 1717, 'lucy': 1718, 'rare': 1719, 'worthy': 1720, 'trap': 1721, 'syrupy': 1722, 'indulgent': 1723, 'fish': 1724, 'underwater': 1725, 'repeated': 1726, 'thousand': 1727, 'amusing': 1728, 'latched': 1729, 'endearing': 1730, 'isnt': 1731, 'sobaditsgood': 1732, 'sobaditsmemorable': 1733, 'evaluate': 1734, 'pair': 1735, 'fishnet': 1736, 'astonishingly': 1737, 'ham': 1738, 'fisted': 1739, 'ireland': 1740, 'bigbudget': 1741, 'chanceit': 1742, 'open': 1743, '50': 1744, 'else': 1745, 'crowes': 1746, 'dedication': 1747, 'wed': 1748, 'subpar': 1749, 'lifeoh': 1750, 'gosh': 1751, 'wild': 1752, 'stuff': 1753, 'oyvey': 1754, 'inside': 1755, 'helen': 1756, 'baxendale': 1757, 'credible': 1758, 'cheerfull': 1759, 'naughty': 1760, 'deadly': 1761, 'taste': 1762, 'blood': 1763, 'skilled': 1764, 'sandra': 1765, 'bullock': 1766, 'northern': 1767, 'positive': 1768, 'community': 1769, 'represents': 1770, 'none': 1771, 'tender': 1772, 'getting': 1773, 'sitcom': 1774, 'oriented': 1775, 'teenager': 1776, 'throwback': 1777, 'student': 1778, '1980s': 1779, 'living': 1780, 'abroad': 1781, 'interacting': 1782, 'nationality': 1783, 'circumstance': 1784, 'slightly': 1785, 'gerardo': 1786, 'onedimensional': 1787, 'grainy': 1788, 'enhanced': 1789, 'quick': 1790, 'yeah': 1791, 'sucked': 1792, 'jennifer': 1793, 'rubin': 1794, 'jamie': 1795, 'harris': 1796, 'nervous': 1797, 'starlet': 1798, 'strange': 1799, 'event': 1800, 'honest': 1801, 'foolish': 1802, 'pretext': 1803, 'nonlinear': 1804, 'narration': 1805, 'thus': 1806, 'flashback': 1807, 'articulated': 1808, 'doubt': 1809, 'slowmotion': 1810, 'needlessly': 1811, 'repeat': 1812, 'backed': 1813, 'continuity': 1814, 'vehicle': 1815, 'corn': 1816, 'flake': 1817, 'box': 1818, 'bordered': 1819, 'stupidity': 1820, 'lewis': 1821, 'considerable': 1822, 'incendiary': 1823, 'unrestrained': 1824, 'allow': 1825, 'beware': 1826, 'trashy': 1827, 'indictment': 1828, 'justice': 1829, 'system': 1830, 'tolerate': 1831, 'political': 1832, 'incorrectness': 1833, 'artistic': 1834, 'freedom': 1835, 'suspension': 1836, 'disbelief': 1837, 'slavic': 1838, 'dropped': 1839, 'ball': 1840, 'neil': 1841, 'labute': 1842, 'brutal': 1843, 'violence': 1844, 'seperate': 1845, 'm': 1846, 'smack': 1847, 'showthese': 1848, 'frankly': 1849, 'cotton': 1850, 'club': 1851, 'unfaithful': 1852, 'gere': 1853, 'punishment': 1854, 'park': 1855, 'sole': 1856, 'bright': 1857, 'spot': 1858, 'superbad': 1859, 'due': 1860, 'weight': 1861, 'interim': 1862, 'powerful': 1863, 'exploration': 1864, 'casted': 1865, 'offend': 1866, 'shakespears': 1867, 'lyric': 1868, 'deeply': 1869, 'impressed': 1870, 'monica': 1871, 'bellucci': 1872, 'four': 1873, 'sentiment': 1874, 'um': 1875, 'broke': 1876, 'el': 1877, 'judging': 1878, 'fumbling': 1879, 'hanky': 1880, 'alike': 1881, 'actorsan': 1882, 'ugly': 1883, 'crafted': 1884, 'haggis': 1885, 'stroke': 1886, 'storytellinga': 1887, 'painted': 1888, 'crayon': 1889, 'dustin': 1890, 'hoffman': 1891, 'son': 1892, 'flat': 1893, 'nearly': 1894, 'unpleasant': 1895, 'cannot': 1896, 'flawed': 1897, 'feelgood': 1898, 'manna': 1899, 'begin': 1900, 'as': 1901, 'uncalled': 1902, 'regardless': 1903, 'afraid': 1904, 'subtitle': 1905, 'aversion': 1906, 'therapy': 1907, 'disappointing': 1908, 'notable': 1909, 'gore': 1910, 'card': 1911, 'major': 1912, 'flaw': 1913, 'destroy': 1914, 'latifas': 1915, '25': 1916, 'amazed': 1917, 'timeless': 1918, 'simplifying': 1919, 'brevity': 1920, 'problem': 1921, 'fulfilling': 1922, 'irritating': 1923, 'inspiring': 1924, 'video': 1925, 'proceeding': 1926, 'damian': 1927, 'versatile': 1928, 'portraying': 1929, 'telly': 1930, 'savalas': 1931, 'peter': 1932, 'boyle': 1933, '54': 1934, 'sheer': 1935, 'tedium': 1936, 'melodrama': 1937, 'sinking': 1938, 'imagine': 1939, 'decision': 1940, 'atrocious': 1941, 'trouble': 1942, 'impossible': 1943, 'establish': 1944, 'theme': 1945, 'incredibly': 1946, 'subplot': 1947, 'follows': 1948, 'band': 1949, 'latterday': 1950, 'mansonites': 1951, 'reporter': 1952, 'who': 1953, 'working': 1954, 'anniversary': 1955, 'dumb': 1956, 'indication': 1957, 'ability': 1958, 'meld': 1959, 'volatile': 1960, 'temperament': 1961, 'seamless': 1962, 'union': 1963, 'creativity': 1964, 'powerhouse': 1965, 'timely': 1966, 'culture': 1967, 'disturbing': 1968, 'fascination': 1969, 'celebrity': 1970, 'distorted': 1971, 'interpretation': 1972, 'fame': 1973, 'forgotten': 1974, 'kevin': 1975, 'spacey': 1976, 'verbal': 1977, 'tsunami': 1978, 'buddy': 1979, 'ackerman': 1980, 'scripting': 1981, 'unmatched': 1982, 'younger': 1983, 'reference': 1984, 'galley': 1985, 'pm': 1986, '8pm': 1987, '815pm': 1988, 'forwarded': 1989, 'remaining': 1990, 'horrendously': 1991, 'buildup': 1992, 'captain': 1993, 'howdy': 1994, 'hell': 1995, 'semi': 1996, 'truck': 1997, 'linda': 1998, 'cardellini': 1999, 'shes': 2000, 'poised': 2001, 'dee': 2002, 'snider': 2003, 'villain': 2004, 'sleep': 2005, 'sophisticated': 2006, 'thrillerhorror': 2007, 'miserably': 2008, 'unoriginal': 2009, 'cinematic': 2010, 'captured': 2011, 'celluloid': 2012, 'stayed': 2013, 'supernatural': 2014, 'zombie': 2015, 'consistent': 2016, 'thread': 2017, 'holding': 2018, 'leni': 2019, 'parker': 2020, 'anita': 2021, 'laselva': 2022, 'taelons': 2023, 'quiet': 2024, 'idealogical': 2025, 'mainly': 2026, 'center': 2027, 'atmosphere': 2028, 'master': 2029, 'explains': 2030, 'sinister': 2031, 'origin': 2032, 'asleep': 2033, 'insomniac': 2034, 'heartwarming': 2035, 'chasing': 2036, 'nurse': 2037, 'betty': 2038, 'unpredictability': 2039, 'kris': 2040, 'kristoffersen': 2041, 'difference': 2042, 'sad': 2043, 'repeating': 2044, 'robotic': 2045, 'move': 2046, 'convoluted': 2047, 'convince': 2048, 'questioning': 2049, 'revealing': 2050, 'technically': 2051, 'riz': 2052, 'ortolani': 2053, 'recurring': 2054, 'unaccompanied': 2055, 'vocal': 2056, 'distant': 2057, 'greatespecially': 2058, 'poetry': 2059, 'politics': 2060, 'japanese': 2061, 'gloriously': 2062, 'fairly': 2063, 'accurate': 2064, 'night': 2065, 'raver': 2066, 'mesmerising': 2067, 'kathy': 2068, 'bates': 2069, 'desperation': 2070, 'escapism': 2071, 'variation': 2072, 'field': 2073, 'heard': 2074, 'except': 2075, 'cole': 2076, 'gripping': 2077, 'theatrical': 2078, 'everyones': 2079, 'terror': 2080, 'lie': 2081, 'escalating': 2082, 'monstrous': 2083, 'consequence': 2084, 'standout': 2085, 'wow': 2086, 'needed': 2087, 'wordofmouth': 2088, 'promote': 2089, 'jason': 2090, 'connery': 2091, 'moved': 2092, 'monolog': 2093, 'candle': 2094, 'outhe': 2095, 'sphere': 2096, 'uneasy': 2097, 'faultless': 2098, 'photography': 2099, 'underappreciated': 2100, 'keith': 2101, 'bully': 2102, 'teddy': 2103, 'vivid': 2104, 'failed': 2105, 'convey': 2106, 'broad': 2107, 'sweep': 2108, 'landscape': 2109, 'pitch': 2110, 'mouse': 2111, 'following': 2112, 'plane': 2113, 'crazy': 2114, 'earlier': 2115, 'famous': 2116, 'filmmostly': 2117, 'groundbreaking': 2118, 'warn': 2119, 'youdo': 2120, 'dumbest': 2121, 'renowned': 2122, 'france': 2123, 'marion': 2124, 'hasnt': 2125, 'realize': 2126, 'gotta': 2127, 'slimy': 2128, 'drooling': 2129, 'teeth': 2130, 'prompted': 2131, 'screamy': 2132, 'masculine': 2133, 'allowing': 2134, '1971': 2135, 'format': 2136, 'miniseries': 2137, 'baaaaaad': 2138, 'achille': 2139, 'philippa': 2140, 'beautifully': 2141, 'sing': 2142, 'giovanni': 2143, 'describes': 2144, 'layer': 2145, 'idyllic': 2146, 'down': 2147, 'remake': 2148, 'wedding': 2149, 'crash': 2150, 'depressing': 2151, 'provokes': 2152, 'teach': 2153, 'prejudice': 2154, 'gifted': 2155, 'jim': 2156, 'oconnor': 2157, 'energetic': 2158, 'george': 2159, 'gone': 2160}\n"
     ]
    }
   ],
   "source": [
    "print(word_index)"
   ]
  },
  {
   "cell_type": "markdown",
   "id": "035916b1",
   "metadata": {},
   "source": [
    "### Proposed Word Embedding Length <a class=\"anchor\" id=\"Embedding\"></a>"
   ]
  },
  {
   "cell_type": "markdown",
   "id": "8a6e9a7e",
   "metadata": {},
   "source": [
    "Word embedding is a very important part in neural language processing because it allows the model to learn about the meaning of the words in our data. In the code above we already determined our vocabulary length and what number corresponds to each word. We will continue to use this information as we determine our word embedding length.  This is done by converting each number that corresponds to a word above into a vector with two corrdinates. Before embedding it is important to pad or truncate the data to ensure that the reviews are all of equal length.  This is done by either removing characters from a review or adding zeros to pad a review.\n",
    "\n",
    "Without having created the model it is hard to determine the embedding length, so as we create the model and analyze functionality the embedding length will change to optimize the model. Below we will determine the proposed word embedding length that we will start with."
   ]
  },
  {
   "cell_type": "code",
   "execution_count": 25,
   "id": "83493b13",
   "metadata": {},
   "outputs": [
    {
     "name": "stdout",
     "output_type": "stream",
     "text": [
      "Proposed Word Embedding Length:  (46, 0)\n"
     ]
    }
   ],
   "source": [
    "#Determine the proposed embedding length\n",
    "emb_length = (round(np.sqrt(vocab_size)), 0)\n",
    "print('Proposed Word Embedding Length: ', emb_length)"
   ]
  },
  {
   "cell_type": "markdown",
   "id": "9b336c2b",
   "metadata": {},
   "source": [
    "### Statistical Justification of Maximum Sequence Length <a class=\"anchor\" id=\"Sequence\"></a>"
   ]
  },
  {
   "cell_type": "markdown",
   "id": "6e2ba316",
   "metadata": {},
   "source": [
    "The statistical justification for the maximus seqence length was determined above (previous to the vocabulary size). To statistically justify the max sequence length I first used a lambda function to break down the clean_text column and determine row length and then used the describe funtion on that variable to determine the mean and max values. Knowing these values helped me to determine that the mean value would be the best option for the max length. I determined that the mean value was 10.48 and chose to round that number up to 11 and use that as the max sequence length. The max value was 794 which I don't think would be a good max seqence length because there aren't a lot of reviews that are that long. I believe that using the mean value help to create a more optimized model."
   ]
  },
  {
   "cell_type": "code",
   "execution_count": 26,
   "id": "6c5af5f3",
   "metadata": {},
   "outputs": [
    {
     "data": {
      "text/plain": [
       "count    748.00000\n",
       "mean      10.48262\n",
       "std       38.74640\n",
       "min        1.00000\n",
       "25%        4.00000\n",
       "50%        7.00000\n",
       "75%       10.00000\n",
       "max      794.00000\n",
       "Name: clean_text, dtype: float64"
      ]
     },
     "execution_count": 26,
     "metadata": {},
     "output_type": "execute_result"
    }
   ],
   "source": [
    "row_length.describe()"
   ]
  },
  {
   "cell_type": "code",
   "execution_count": 27,
   "id": "9887b51c",
   "metadata": {},
   "outputs": [],
   "source": [
    "#Create variable for max imput length\n",
    "max_length = 794\n",
    "embedding_dim = 46"
   ]
  },
  {
   "cell_type": "markdown",
   "id": "299a875f",
   "metadata": {},
   "source": [
    "### B2: Goals of the Tokenization Process <a class=\"anchor\" id=\"B2\"></a>"
   ]
  },
  {
   "cell_type": "markdown",
   "id": "30f1b562",
   "metadata": {},
   "source": [
    "The tokenization process for this project has already been done above. Many of the normalization steps for the text data were done before tokenization. The process of tokenization is done to break down a piece of text into individual words or tokens. These tokens help the computer to understand human language because they split the words into manageable pieces that the computer can understand and learn.\n",
    "\n",
    "The tokenization process that was done above looked at every word in the clean_text column and mapped each word to a number. This breakdown of language allows the computer to understand and learn each token (word) and what it represents. The main package used for the tokenization process was tensorflow.keras.preprocessing.text. Above you can see this package and the Tokenizer method that was imported from it."
   ]
  },
  {
   "cell_type": "markdown",
   "id": "e43175fb",
   "metadata": {},
   "source": [
    "### B3: Padding Process <a class=\"anchor\" id=\"B3\"></a>"
   ]
  },
  {
   "cell_type": "markdown",
   "id": "9a63b30b",
   "metadata": {},
   "source": [
    "Above I determined that the max word length of clean_text column is 794. For padding I am going to use that number. This means that any review that has less than 794 words will be padded and any review that has more than 794 words will be truncated (there won't be any truncating because 794 is the max number of words). Using the max as the max_length for the reviews will ensure that all of the words are taken into consideration in the model and that it can gain an understanding of them all.\n",
    "\n",
    "If a text line needs to be padded the padding with occur after the text sequence. Below there is an example of the after sequence padding. After the text sequence has finished with the words from the review, if there is still space that needs to be filled to reach the maximum sequence length the padding will be done after.\n",
    "\n",
    "For all truncated text sequences, the sequence will stop at the maximum sequence length that was determined and any words that come after will be dropped from the review. There will not be any truncating."
   ]
  },
  {
   "cell_type": "code",
   "execution_count": 28,
   "id": "c267884b",
   "metadata": {},
   "outputs": [
    {
     "data": {
      "text/plain": [
       "511    every time opened mouth expect hear see kid pu...\n",
       "642                             one worst film ever seen\n",
       "135    youll love 1 movie bad 0 bad 0 film way long 0...\n",
       "342    steamboat willie amazingly important film cine...\n",
       "306    cinematography noteworthy including fine view ...\n",
       "Name: clean_text, dtype: object"
      ]
     },
     "execution_count": 28,
     "metadata": {},
     "output_type": "execute_result"
    }
   ],
   "source": [
    "#Create validation and test sets by splitting the remaining data again\n",
    "X_val, X_test, y_val, y_test = train_test_split(X_remaining, y_remaining, test_size=0.5, random_state=42)\n",
    "X_val.head()"
   ]
  },
  {
   "cell_type": "code",
   "execution_count": 29,
   "id": "f14a4648",
   "metadata": {},
   "outputs": [
    {
     "data": {
      "text/plain": [
       "511    0\n",
       "642    0\n",
       "135    1\n",
       "342    1\n",
       "306    1\n",
       "Name: Liked, dtype: int64"
      ]
     },
     "execution_count": 29,
     "metadata": {},
     "output_type": "execute_result"
    }
   ],
   "source": [
    "y_val.head()"
   ]
  },
  {
   "cell_type": "code",
   "execution_count": 30,
   "id": "c2e42e31",
   "metadata": {},
   "outputs": [],
   "source": [
    "#pad and truncate the data based on the average word count that was determined above\n",
    "from keras.preprocessing.sequence import pad_sequences\n",
    "\n",
    "X_train_seq = tokenizer.texts_to_sequences(X_train)\n",
    "X_test_seq = tokenizer.texts_to_sequences(X_test)\n",
    "X_val_seq = tokenizer.texts_to_sequences(X_val)"
   ]
  },
  {
   "cell_type": "code",
   "execution_count": 31,
   "id": "4ef23c1c",
   "metadata": {},
   "outputs": [],
   "source": [
    "X_train_seq_trunc = pad_sequences(X_train_seq, padding='post', truncating='post', maxlen=max_length)\n",
    "X_test_seq_trunc = pad_sequences(X_test_seq, padding='post', truncating='post', maxlen=max_length)\n",
    "X_val_seq_trunc = pad_sequences(X_val_seq, padding='post', truncating='post', maxlen=max_length)"
   ]
  },
  {
   "cell_type": "code",
   "execution_count": 32,
   "id": "581c978c",
   "metadata": {},
   "outputs": [
    {
     "data": {
      "text/plain": [
       "array([417, 418, 419, 211,   2, 160, 754,   6, 755,   2,  19,  22, 756,\n",
       "       420, 418, 757, 286, 758, 759,   0,   0,   0,   0,   0,   0,   0,\n",
       "         0,   0,   0,   0,   0,   0,   0,   0,   0,   0,   0,   0,   0,\n",
       "         0,   0,   0,   0,   0,   0,   0,   0,   0,   0,   0,   0,   0,\n",
       "         0,   0,   0,   0,   0,   0,   0,   0,   0,   0,   0,   0,   0,\n",
       "         0,   0,   0,   0,   0,   0,   0,   0,   0,   0,   0,   0,   0,\n",
       "         0,   0,   0,   0,   0,   0,   0,   0,   0,   0,   0,   0,   0,\n",
       "         0,   0,   0,   0,   0,   0,   0,   0,   0,   0,   0,   0,   0,\n",
       "         0,   0,   0,   0,   0,   0,   0,   0,   0,   0,   0,   0,   0,\n",
       "         0,   0,   0,   0,   0,   0,   0,   0,   0,   0,   0,   0,   0,\n",
       "         0,   0,   0,   0,   0,   0,   0,   0,   0,   0,   0,   0,   0,\n",
       "         0,   0,   0,   0,   0,   0,   0,   0,   0,   0,   0,   0,   0,\n",
       "         0,   0,   0,   0,   0,   0,   0,   0,   0,   0,   0,   0,   0,\n",
       "         0,   0,   0,   0,   0,   0,   0,   0,   0,   0,   0,   0,   0,\n",
       "         0,   0,   0,   0,   0,   0,   0,   0,   0,   0,   0,   0,   0,\n",
       "         0,   0,   0,   0,   0,   0,   0,   0,   0,   0,   0,   0,   0,\n",
       "         0,   0,   0,   0,   0,   0,   0,   0,   0,   0,   0,   0,   0,\n",
       "         0,   0,   0,   0,   0,   0,   0,   0,   0,   0,   0,   0,   0,\n",
       "         0,   0,   0,   0,   0,   0,   0,   0,   0,   0,   0,   0,   0,\n",
       "         0,   0,   0,   0,   0,   0,   0,   0,   0,   0,   0,   0,   0,\n",
       "         0,   0,   0,   0,   0,   0,   0,   0,   0,   0,   0,   0,   0,\n",
       "         0,   0,   0,   0,   0,   0,   0,   0,   0,   0,   0,   0,   0,\n",
       "         0,   0,   0,   0,   0,   0,   0,   0,   0,   0,   0,   0,   0,\n",
       "         0,   0,   0,   0,   0,   0,   0,   0,   0,   0,   0,   0,   0,\n",
       "         0,   0,   0,   0,   0,   0,   0,   0,   0,   0,   0,   0,   0,\n",
       "         0,   0,   0,   0,   0,   0,   0,   0,   0,   0,   0,   0,   0,\n",
       "         0,   0,   0,   0,   0,   0,   0,   0,   0,   0,   0,   0,   0,\n",
       "         0,   0,   0,   0,   0,   0,   0,   0,   0,   0,   0,   0,   0,\n",
       "         0,   0,   0,   0,   0,   0,   0,   0,   0,   0,   0,   0,   0,\n",
       "         0,   0,   0,   0,   0,   0,   0,   0,   0,   0,   0,   0,   0,\n",
       "         0,   0,   0,   0,   0,   0,   0,   0,   0,   0,   0,   0,   0,\n",
       "         0,   0,   0,   0,   0,   0,   0,   0,   0,   0,   0,   0,   0,\n",
       "         0,   0,   0,   0,   0,   0,   0,   0,   0,   0,   0,   0,   0,\n",
       "         0,   0,   0,   0,   0,   0,   0,   0,   0,   0,   0,   0,   0,\n",
       "         0,   0,   0,   0,   0,   0,   0,   0,   0,   0,   0,   0,   0,\n",
       "         0,   0,   0,   0,   0,   0,   0,   0,   0,   0,   0,   0,   0,\n",
       "         0,   0,   0,   0,   0,   0,   0,   0,   0,   0,   0,   0,   0,\n",
       "         0,   0,   0,   0,   0,   0,   0,   0,   0,   0,   0,   0,   0,\n",
       "         0,   0,   0,   0,   0,   0,   0,   0,   0,   0,   0,   0,   0,\n",
       "         0,   0,   0,   0,   0,   0,   0,   0,   0,   0,   0,   0,   0,\n",
       "         0,   0,   0,   0,   0,   0,   0,   0,   0,   0,   0,   0,   0,\n",
       "         0,   0,   0,   0,   0,   0,   0,   0,   0,   0,   0,   0,   0,\n",
       "         0,   0,   0,   0,   0,   0,   0,   0,   0,   0,   0,   0,   0,\n",
       "         0,   0,   0,   0,   0,   0,   0,   0,   0,   0,   0,   0,   0,\n",
       "         0,   0,   0,   0,   0,   0,   0,   0,   0,   0,   0,   0,   0,\n",
       "         0,   0,   0,   0,   0,   0,   0,   0,   0,   0,   0,   0,   0,\n",
       "         0,   0,   0,   0,   0,   0,   0,   0,   0,   0,   0,   0,   0,\n",
       "         0,   0,   0,   0,   0,   0,   0,   0,   0,   0,   0,   0,   0,\n",
       "         0,   0,   0,   0,   0,   0,   0,   0,   0,   0,   0,   0,   0,\n",
       "         0,   0,   0,   0,   0,   0,   0,   0,   0,   0,   0,   0,   0,\n",
       "         0,   0,   0,   0,   0,   0,   0,   0,   0,   0,   0,   0,   0,\n",
       "         0,   0,   0,   0,   0,   0,   0,   0,   0,   0,   0,   0,   0,\n",
       "         0,   0,   0,   0,   0,   0,   0,   0,   0,   0,   0,   0,   0,\n",
       "         0,   0,   0,   0,   0,   0,   0,   0,   0,   0,   0,   0,   0,\n",
       "         0,   0,   0,   0,   0,   0,   0,   0,   0,   0,   0,   0,   0,\n",
       "         0,   0,   0,   0,   0,   0,   0,   0,   0,   0,   0,   0,   0,\n",
       "         0,   0,   0,   0,   0,   0,   0,   0,   0,   0,   0,   0,   0,\n",
       "         0,   0,   0,   0,   0,   0,   0,   0,   0,   0,   0,   0,   0,\n",
       "         0,   0,   0,   0,   0,   0,   0,   0,   0,   0,   0,   0,   0,\n",
       "         0,   0,   0,   0,   0,   0,   0,   0,   0,   0,   0,   0,   0,\n",
       "         0,   0,   0,   0,   0,   0,   0,   0,   0,   0,   0,   0,   0,\n",
       "         0])"
      ]
     },
     "execution_count": 32,
     "metadata": {},
     "output_type": "execute_result"
    }
   ],
   "source": [
    "#test the sequence to ensure padding was done correctly\n",
    "X_train_seq_trunc[3]"
   ]
  },
  {
   "cell_type": "code",
   "execution_count": 33,
   "id": "fab28931",
   "metadata": {},
   "outputs": [
    {
     "data": {
      "text/plain": [
       "array([152, 644, 824,   0,   0,   0,   0,   0,   0,   0,   0,   0,   0,\n",
       "         0,   0,   0,   0,   0,   0,   0,   0,   0,   0,   0,   0,   0,\n",
       "         0,   0,   0,   0,   0,   0,   0,   0,   0,   0,   0,   0,   0,\n",
       "         0,   0,   0,   0,   0,   0,   0,   0,   0,   0,   0,   0,   0,\n",
       "         0,   0,   0,   0,   0,   0,   0,   0,   0,   0,   0,   0,   0,\n",
       "         0,   0,   0,   0,   0,   0,   0,   0,   0,   0,   0,   0,   0,\n",
       "         0,   0,   0,   0,   0,   0,   0,   0,   0,   0,   0,   0,   0,\n",
       "         0,   0,   0,   0,   0,   0,   0,   0,   0,   0,   0,   0,   0,\n",
       "         0,   0,   0,   0,   0,   0,   0,   0,   0,   0,   0,   0,   0,\n",
       "         0,   0,   0,   0,   0,   0,   0,   0,   0,   0,   0,   0,   0,\n",
       "         0,   0,   0,   0,   0,   0,   0,   0,   0,   0,   0,   0,   0,\n",
       "         0,   0,   0,   0,   0,   0,   0,   0,   0,   0,   0,   0,   0,\n",
       "         0,   0,   0,   0,   0,   0,   0,   0,   0,   0,   0,   0,   0,\n",
       "         0,   0,   0,   0,   0,   0,   0,   0,   0,   0,   0,   0,   0,\n",
       "         0,   0,   0,   0,   0,   0,   0,   0,   0,   0,   0,   0,   0,\n",
       "         0,   0,   0,   0,   0,   0,   0,   0,   0,   0,   0,   0,   0,\n",
       "         0,   0,   0,   0,   0,   0,   0,   0,   0,   0,   0,   0,   0,\n",
       "         0,   0,   0,   0,   0,   0,   0,   0,   0,   0,   0,   0,   0,\n",
       "         0,   0,   0,   0,   0,   0,   0,   0,   0,   0,   0,   0,   0,\n",
       "         0,   0,   0,   0,   0,   0,   0,   0,   0,   0,   0,   0,   0,\n",
       "         0,   0,   0,   0,   0,   0,   0,   0,   0,   0,   0,   0,   0,\n",
       "         0,   0,   0,   0,   0,   0,   0,   0,   0,   0,   0,   0,   0,\n",
       "         0,   0,   0,   0,   0,   0,   0,   0,   0,   0,   0,   0,   0,\n",
       "         0,   0,   0,   0,   0,   0,   0,   0,   0,   0,   0,   0,   0,\n",
       "         0,   0,   0,   0,   0,   0,   0,   0,   0,   0,   0,   0,   0,\n",
       "         0,   0,   0,   0,   0,   0,   0,   0,   0,   0,   0,   0,   0,\n",
       "         0,   0,   0,   0,   0,   0,   0,   0,   0,   0,   0,   0,   0,\n",
       "         0,   0,   0,   0,   0,   0,   0,   0,   0,   0,   0,   0,   0,\n",
       "         0,   0,   0,   0,   0,   0,   0,   0,   0,   0,   0,   0,   0,\n",
       "         0,   0,   0,   0,   0,   0,   0,   0,   0,   0,   0,   0,   0,\n",
       "         0,   0,   0,   0,   0,   0,   0,   0,   0,   0,   0,   0,   0,\n",
       "         0,   0,   0,   0,   0,   0,   0,   0,   0,   0,   0,   0,   0,\n",
       "         0,   0,   0,   0,   0,   0,   0,   0,   0,   0,   0,   0,   0,\n",
       "         0,   0,   0,   0,   0,   0,   0,   0,   0,   0,   0,   0,   0,\n",
       "         0,   0,   0,   0,   0,   0,   0,   0,   0,   0,   0,   0,   0,\n",
       "         0,   0,   0,   0,   0,   0,   0,   0,   0,   0,   0,   0,   0,\n",
       "         0,   0,   0,   0,   0,   0,   0,   0,   0,   0,   0,   0,   0,\n",
       "         0,   0,   0,   0,   0,   0,   0,   0,   0,   0,   0,   0,   0,\n",
       "         0,   0,   0,   0,   0,   0,   0,   0,   0,   0,   0,   0,   0,\n",
       "         0,   0,   0,   0,   0,   0,   0,   0,   0,   0,   0,   0,   0,\n",
       "         0,   0,   0,   0,   0,   0,   0,   0,   0,   0,   0,   0,   0,\n",
       "         0,   0,   0,   0,   0,   0,   0,   0,   0,   0,   0,   0,   0,\n",
       "         0,   0,   0,   0,   0,   0,   0,   0,   0,   0,   0,   0,   0,\n",
       "         0,   0,   0,   0,   0,   0,   0,   0,   0,   0,   0,   0,   0,\n",
       "         0,   0,   0,   0,   0,   0,   0,   0,   0,   0,   0,   0,   0,\n",
       "         0,   0,   0,   0,   0,   0,   0,   0,   0,   0,   0,   0,   0,\n",
       "         0,   0,   0,   0,   0,   0,   0,   0,   0,   0,   0,   0,   0,\n",
       "         0,   0,   0,   0,   0,   0,   0,   0,   0,   0,   0,   0,   0,\n",
       "         0,   0,   0,   0,   0,   0,   0,   0,   0,   0,   0,   0,   0,\n",
       "         0,   0,   0,   0,   0,   0,   0,   0,   0,   0,   0,   0,   0,\n",
       "         0,   0,   0,   0,   0,   0,   0,   0,   0,   0,   0,   0,   0,\n",
       "         0,   0,   0,   0,   0,   0,   0,   0,   0,   0,   0,   0,   0,\n",
       "         0,   0,   0,   0,   0,   0,   0,   0,   0,   0,   0,   0,   0,\n",
       "         0,   0,   0,   0,   0,   0,   0,   0,   0,   0,   0,   0,   0,\n",
       "         0,   0,   0,   0,   0,   0,   0,   0,   0,   0,   0,   0,   0,\n",
       "         0,   0,   0,   0,   0,   0,   0,   0,   0,   0,   0,   0,   0,\n",
       "         0,   0,   0,   0,   0,   0,   0,   0,   0,   0,   0,   0,   0,\n",
       "         0,   0,   0,   0,   0,   0,   0,   0,   0,   0,   0,   0,   0,\n",
       "         0,   0,   0,   0,   0,   0,   0,   0,   0,   0,   0,   0,   0,\n",
       "         0,   0,   0,   0,   0,   0,   0,   0,   0,   0,   0,   0,   0,\n",
       "         0,   0,   0,   0,   0,   0,   0,   0,   0,   0,   0,   0,   0,\n",
       "         0])"
      ]
     },
     "execution_count": 33,
     "metadata": {},
     "output_type": "execute_result"
    }
   ],
   "source": [
    "X_test_seq_trunc[3]"
   ]
  },
  {
   "cell_type": "code",
   "execution_count": 34,
   "id": "7fd0177b",
   "metadata": {},
   "outputs": [
    {
     "data": {
      "text/plain": [
       "array([ 388,    1,    1, 2065,    1,    0,    0,    0,    0,    0,    0,\n",
       "          0,    0,    0,    0,    0,    0,    0,    0,    0,    0,    0,\n",
       "          0,    0,    0,    0,    0,    0,    0,    0,    0,    0,    0,\n",
       "          0,    0,    0,    0,    0,    0,    0,    0,    0,    0,    0,\n",
       "          0,    0,    0,    0,    0,    0,    0,    0,    0,    0,    0,\n",
       "          0,    0,    0,    0,    0,    0,    0,    0,    0,    0,    0,\n",
       "          0,    0,    0,    0,    0,    0,    0,    0,    0,    0,    0,\n",
       "          0,    0,    0,    0,    0,    0,    0,    0,    0,    0,    0,\n",
       "          0,    0,    0,    0,    0,    0,    0,    0,    0,    0,    0,\n",
       "          0,    0,    0,    0,    0,    0,    0,    0,    0,    0,    0,\n",
       "          0,    0,    0,    0,    0,    0,    0,    0,    0,    0,    0,\n",
       "          0,    0,    0,    0,    0,    0,    0,    0,    0,    0,    0,\n",
       "          0,    0,    0,    0,    0,    0,    0,    0,    0,    0,    0,\n",
       "          0,    0,    0,    0,    0,    0,    0,    0,    0,    0,    0,\n",
       "          0,    0,    0,    0,    0,    0,    0,    0,    0,    0,    0,\n",
       "          0,    0,    0,    0,    0,    0,    0,    0,    0,    0,    0,\n",
       "          0,    0,    0,    0,    0,    0,    0,    0,    0,    0,    0,\n",
       "          0,    0,    0,    0,    0,    0,    0,    0,    0,    0,    0,\n",
       "          0,    0,    0,    0,    0,    0,    0,    0,    0,    0,    0,\n",
       "          0,    0,    0,    0,    0,    0,    0,    0,    0,    0,    0,\n",
       "          0,    0,    0,    0,    0,    0,    0,    0,    0,    0,    0,\n",
       "          0,    0,    0,    0,    0,    0,    0,    0,    0,    0,    0,\n",
       "          0,    0,    0,    0,    0,    0,    0,    0,    0,    0,    0,\n",
       "          0,    0,    0,    0,    0,    0,    0,    0,    0,    0,    0,\n",
       "          0,    0,    0,    0,    0,    0,    0,    0,    0,    0,    0,\n",
       "          0,    0,    0,    0,    0,    0,    0,    0,    0,    0,    0,\n",
       "          0,    0,    0,    0,    0,    0,    0,    0,    0,    0,    0,\n",
       "          0,    0,    0,    0,    0,    0,    0,    0,    0,    0,    0,\n",
       "          0,    0,    0,    0,    0,    0,    0,    0,    0,    0,    0,\n",
       "          0,    0,    0,    0,    0,    0,    0,    0,    0,    0,    0,\n",
       "          0,    0,    0,    0,    0,    0,    0,    0,    0,    0,    0,\n",
       "          0,    0,    0,    0,    0,    0,    0,    0,    0,    0,    0,\n",
       "          0,    0,    0,    0,    0,    0,    0,    0,    0,    0,    0,\n",
       "          0,    0,    0,    0,    0,    0,    0,    0,    0,    0,    0,\n",
       "          0,    0,    0,    0,    0,    0,    0,    0,    0,    0,    0,\n",
       "          0,    0,    0,    0,    0,    0,    0,    0,    0,    0,    0,\n",
       "          0,    0,    0,    0,    0,    0,    0,    0,    0,    0,    0,\n",
       "          0,    0,    0,    0,    0,    0,    0,    0,    0,    0,    0,\n",
       "          0,    0,    0,    0,    0,    0,    0,    0,    0,    0,    0,\n",
       "          0,    0,    0,    0,    0,    0,    0,    0,    0,    0,    0,\n",
       "          0,    0,    0,    0,    0,    0,    0,    0,    0,    0,    0,\n",
       "          0,    0,    0,    0,    0,    0,    0,    0,    0,    0,    0,\n",
       "          0,    0,    0,    0,    0,    0,    0,    0,    0,    0,    0,\n",
       "          0,    0,    0,    0,    0,    0,    0,    0,    0,    0,    0,\n",
       "          0,    0,    0,    0,    0,    0,    0,    0,    0,    0,    0,\n",
       "          0,    0,    0,    0,    0,    0,    0,    0,    0,    0,    0,\n",
       "          0,    0,    0,    0,    0,    0,    0,    0,    0,    0,    0,\n",
       "          0,    0,    0,    0,    0,    0,    0,    0,    0,    0,    0,\n",
       "          0,    0,    0,    0,    0,    0,    0,    0,    0,    0,    0,\n",
       "          0,    0,    0,    0,    0,    0,    0,    0,    0,    0,    0,\n",
       "          0,    0,    0,    0,    0,    0,    0,    0,    0,    0,    0,\n",
       "          0,    0,    0,    0,    0,    0,    0,    0,    0,    0,    0,\n",
       "          0,    0,    0,    0,    0,    0,    0,    0,    0,    0,    0,\n",
       "          0,    0,    0,    0,    0,    0,    0,    0,    0,    0,    0,\n",
       "          0,    0,    0,    0,    0,    0,    0,    0,    0,    0,    0,\n",
       "          0,    0,    0,    0,    0,    0,    0,    0,    0,    0,    0,\n",
       "          0,    0,    0,    0,    0,    0,    0,    0,    0,    0,    0,\n",
       "          0,    0,    0,    0,    0,    0,    0,    0,    0,    0,    0,\n",
       "          0,    0,    0,    0,    0,    0,    0,    0,    0,    0,    0,\n",
       "          0,    0,    0,    0,    0,    0,    0,    0,    0,    0,    0,\n",
       "          0,    0,    0,    0,    0,    0,    0,    0,    0,    0,    0,\n",
       "          0,    0,    0,    0,    0,    0,    0,    0,    0,    0,    0,\n",
       "          0,    0,    0,    0,    0,    0,    0,    0,    0,    0,    0,\n",
       "          0,    0,    0,    0,    0,    0,    0,    0,    0,    0,    0,\n",
       "          0,    0,    0,    0,    0,    0,    0,    0,    0,    0,    0,\n",
       "          0,    0,    0,    0,    0,    0,    0,    0,    0,    0,    0,\n",
       "          0,    0,    0,    0,    0,    0,    0,    0,    0,    0,    0,\n",
       "          0,    0,    0,    0,    0,    0,    0,    0,    0,    0,    0,\n",
       "          0,    0,    0,    0,    0,    0,    0,    0,    0,    0,    0,\n",
       "          0,    0,    0,    0,    0,    0,    0,    0,    0,    0,    0,\n",
       "          0,    0,    0,    0,    0,    0,    0,    0,    0,    0,    0,\n",
       "          0,    0,    0,    0,    0,    0,    0,    0,    0,    0,    0,\n",
       "          0,    0])"
      ]
     },
     "execution_count": 34,
     "metadata": {},
     "output_type": "execute_result"
    }
   ],
   "source": [
    "X_val_seq_trunc[10]"
   ]
  },
  {
   "cell_type": "code",
   "execution_count": 35,
   "id": "59594734",
   "metadata": {},
   "outputs": [
    {
     "data": {
      "text/plain": [
       "(523, 794)"
      ]
     },
     "execution_count": 35,
     "metadata": {},
     "output_type": "execute_result"
    }
   ],
   "source": [
    "X_train_seq_trunc.shape"
   ]
  },
  {
   "cell_type": "code",
   "execution_count": 36,
   "id": "ef2625d0",
   "metadata": {},
   "outputs": [
    {
     "data": {
      "text/plain": [
       "(113, 794)"
      ]
     },
     "execution_count": 36,
     "metadata": {},
     "output_type": "execute_result"
    }
   ],
   "source": [
    "X_test_seq_trunc.shape"
   ]
  },
  {
   "cell_type": "code",
   "execution_count": 37,
   "id": "cbbb3388",
   "metadata": {},
   "outputs": [
    {
     "data": {
      "text/plain": [
       "(112, 794)"
      ]
     },
     "execution_count": 37,
     "metadata": {},
     "output_type": "execute_result"
    }
   ],
   "source": [
    "X_val_seq_trunc.shape"
   ]
  },
  {
   "cell_type": "markdown",
   "id": "7743f45a",
   "metadata": {},
   "source": [
    "### B4: Categories of Sentiment & Activation Function <a class=\"anchor\" id=\"B4\"></a>"
   ]
  },
  {
   "cell_type": "markdown",
   "id": "290682bb",
   "metadata": {},
   "source": [
    "The sentiment categories for this project are simple. The only two sentiment categories are \"Liked\" (1) and \"Not Liked\" (0).\n",
    "\n",
    "The activation function for the final dense layer will be the Sigmoid activation function. This function is the best for a model where the output will be 0 or 1 which is what will work best for this project."
   ]
  },
  {
   "cell_type": "markdown",
   "id": "61a0054d",
   "metadata": {},
   "source": [
    "### B5: Steps Used to Prepare the Data for Analysis <a class=\"anchor\" id=\"B5\"></a>"
   ]
  },
  {
   "cell_type": "markdown",
   "id": "52351474",
   "metadata": {},
   "source": [
    "The steps used to prepare the data for analysis are shown above. Along with the code blocks there are explanations of the code and why it is important in preparing the data for sentiment analysis.\n",
    "\n",
    "The training data wil consist of 70% of the data that we have from the dataset and the testing and validation data will each consist of 15% of the data. This split allows us a good amount of data to use for training the model (70%) and enough data to validate the model (15%) and test the model against our expected results (15%)."
   ]
  },
  {
   "cell_type": "markdown",
   "id": "65c9880f",
   "metadata": {},
   "source": [
    "### B6: CSV File for Prepared Data <a class=\"anchor\" id=\"B6\"></a>"
   ]
  },
  {
   "cell_type": "code",
   "execution_count": 38,
   "id": "a427400f",
   "metadata": {},
   "outputs": [],
   "source": [
    "X_train.to_csv('C:/Users/sered/OneDrive/Desktop/WGU Masters Degree/D213/Assessment 2/X_train.csv')\n",
    "y_train.to_csv('C:/Users/sered/OneDrive/Desktop/WGU Masters Degree/D213/Assessment 2/y_train.csv')\n",
    "X_val.to_csv('C:/Users/sered/OneDrive/Desktop/WGU Masters Degree/D213/Assessment 2/X_val.csv')\n",
    "y_val.to_csv('C:/Users/sered/OneDrive/Desktop/WGU Masters Degree/D213/Assessment 2/y_val.csv')\n",
    "X_test.to_csv('C:/Users/sered/OneDrive/Desktop/WGU Masters Degree/D213/Assessment 2/X_test.csv')\n",
    "y_test.to_csv('C:/Users/sered/OneDrive/Desktop/WGU Masters Degree/D213/Assessment 2/y_test.csv')"
   ]
  },
  {
   "cell_type": "markdown",
   "id": "83df7f4f",
   "metadata": {},
   "source": [
    "## Part 3 - Network Architecture <a class=\"anchor\" id=\"Part3\"></a>"
   ]
  },
  {
   "cell_type": "markdown",
   "id": "922ce965",
   "metadata": {},
   "source": [
    "### C1: Output of Model Summary <a class=\"anchor\" id=\"C1\"></a>"
   ]
  },
  {
   "cell_type": "code",
   "execution_count": 39,
   "id": "a45f6677",
   "metadata": {},
   "outputs": [
    {
     "name": "stdout",
     "output_type": "stream",
     "text": [
      "WARNING:tensorflow:From C:\\Users\\sered\\AppData\\Roaming\\Python\\Python311\\site-packages\\keras\\src\\backend.py:873: The name tf.get_default_graph is deprecated. Please use tf.compat.v1.get_default_graph instead.\n",
      "\n",
      "WARNING:tensorflow:From C:\\Users\\sered\\AppData\\Roaming\\Python\\Python311\\site-packages\\keras\\src\\optimizers\\__init__.py:309: The name tf.train.Optimizer is deprecated. Please use tf.compat.v1.train.Optimizer instead.\n",
      "\n",
      "Model: \"sequential\"\n",
      "_________________________________________________________________\n",
      " Layer (type)                Output Shape              Param #   \n",
      "=================================================================\n",
      " embedding (Embedding)       (None, 794, 46)           99406     \n",
      "                                                                 \n",
      " flatten (Flatten)           (None, 36524)             0         \n",
      "                                                                 \n",
      " dense (Dense)               (None, 64)                2337600   \n",
      "                                                                 \n",
      " dense_1 (Dense)             (None, 32)                2080      \n",
      "                                                                 \n",
      " dense_2 (Dense)             (None, 1)                 33        \n",
      "                                                                 \n",
      "=================================================================\n",
      "Total params: 2439119 (9.30 MB)\n",
      "Trainable params: 2439119 (9.30 MB)\n",
      "Non-trainable params: 0 (0.00 Byte)\n",
      "_________________________________________________________________\n",
      "None\n"
     ]
    }
   ],
   "source": [
    "#Create the model\n",
    "model = keras.Sequential()\n",
    "model.add(keras.layers.Embedding(vocab_size, embedding_dim, input_length=max_length))\n",
    "model.add(keras.layers.Flatten())\n",
    "model.add(keras.layers.Dense(64))\n",
    "model.add(keras.layers.Dense(32))\n",
    "model.add(keras.layers.Dense(1, activation='sigmoid'))\n",
    "model.compile(optimizer= 'adam', loss= 'binary_crossentropy', metrics=['accuracy'])\n",
    "print(model.summary())"
   ]
  },
  {
   "cell_type": "markdown",
   "id": "607619e2",
   "metadata": {},
   "source": [
    "### C2: Number of Layers, Type of Layers, & Number of Parameters <a class=\"anchor\" id=\"C2\"></a>"
   ]
  },
  {
   "cell_type": "markdown",
   "id": "1188c134",
   "metadata": {},
   "source": [
    "The model above is a sequential model consisting of five layers. \n",
    "\n",
    "There is an embedding layer which is where the data is represented in vectors. This layer allows the model to better understand the language used in the reveiws that we are analyzing. The number of parameters for this layer is 99,406. \n",
    "\n",
    "The second layer is a flattening layer where the data is reshaped into a one-dimensional array making it more compatible with the following layers. There are no parameters in this layer because it is only there to transform the data into a format that is manageable for later layers.\n",
    "\n",
    "The third layer is the first of three dense layers. The first two dense layers perform linear transformation to the input data while the last dense layer is a non-linear activation function. The activation function for this model is Sigmoid. The total number of parameters for this model is shown above as 2,439,119. This means that there were a total of 2,439,119 parameters trained for this model. The Param # on the right shows the number of parameters trained in each layer of the model and then the total params represents all of the layer parameters together.\n",
    "\n",
    "The first dense layer has a parameter number of 2337600, the second has a parameter number of 2080, and the final dense layer has a parameter number of 33."
   ]
  },
  {
   "cell_type": "markdown",
   "id": "1450a1e0",
   "metadata": {},
   "source": [
    "### C3: Hyperparameter Choice <a class=\"anchor\" id=\"C3\"></a>"
   ]
  },
  {
   "cell_type": "markdown",
   "id": "f2aab729",
   "metadata": {},
   "source": [
    "#### Activation Function <a class=\"anchor\" id=\"AF\"></a>"
   ]
  },
  {
   "cell_type": "markdown",
   "id": "f503eb5a",
   "metadata": {},
   "source": [
    "The first two dense layers of the model are the linear layers which help to prepare the data to be processed by the activation layer which contains an activation funtion. The activation function introduces nonlinearity into the data. The sigmoid function was used for this model because it exsists between 0 to 1. We expect the output for this model to be 0 or 1 based on the data that we used to train the model. For this reason, the sigmoid activation function makes the most sense to use and will provide us the best results. Sigmoid is often used with classification which makes it another good choice for this project."
   ]
  },
  {
   "cell_type": "markdown",
   "id": "6b7460e0",
   "metadata": {},
   "source": [
    "#### Number of Nodes per Layer <a class=\"anchor\" id=\"NL\"></a>"
   ]
  },
  {
   "cell_type": "markdown",
   "id": "efe59729",
   "metadata": {},
   "source": [
    "The number of nodes per layer is shown above in the model summary under the output shape column. The node count is the last number listed and shows the number of nodes for that layer. The embedding layer has 46 nodes which was determined above in C1 by taking the square root of the vocab_size variable.\n",
    "\n",
    "The second layer is the flattening layer that was discussed in more detail above. This layer is used as a pass through layer to flatten the data and prepare it to be processed by the following dense layers. The summary shows 36,524 nodes in this layer, but since it is a pass through layer it is not perceived as a node.\n",
    "\n",
    "The third layer has 64 nodes. The fourth layer has 32 nodes. The activation layer has 1 node. All of these layers help the model to cut down the original data input to a single output of 0 or 1 since we are using the sigmoid function."
   ]
  },
  {
   "cell_type": "markdown",
   "id": "008d7406",
   "metadata": {},
   "source": [
    "#### Loss Funtion <a class=\"anchor\" id=\"LF\"></a>"
   ]
  },
  {
   "cell_type": "markdown",
   "id": "d566c823",
   "metadata": {},
   "source": [
    "The loss function that was used for this model was binary cross-entropy. This was the best choice for the model because binary cross entropy is best used for classification models like this one. The purpose of cross-entropy is to measure the distance of the output of a model from the actual truth value. Cross-entropy is a good loss function to use when doing a binary classification like this project."
   ]
  },
  {
   "cell_type": "markdown",
   "id": "2c6513df",
   "metadata": {},
   "source": [
    "#### Optimizer <a class=\"anchor\" id=\"Op\"></a>"
   ]
  },
  {
   "cell_type": "markdown",
   "id": "9890e028",
   "metadata": {},
   "source": [
    "The optimizer used for this model is Adam. Adam stands for \"Adaptive Moment Estimation\". Adam was used because it \"is an iterative optimization algorithm that can minimize the loss function during the training of neural networks.\"  (Vishwakarma, 2024) The Adam optimizer adjustst the parameters of the model to optimize the model and make it better. It will help our model to recognize words and understand the text so that it can function as well as possible."
   ]
  },
  {
   "cell_type": "markdown",
   "id": "c2afaa8a",
   "metadata": {},
   "source": [
    "#### Stopping Criteria <a class=\"anchor\" id=\"SC\"></a>"
   ]
  },
  {
   "cell_type": "markdown",
   "id": "2f2aa991",
   "metadata": {},
   "source": [
    "For this model I chose to use validation accuracy because it gave me better results in my model. At first I used validation loss as the stopping criteria, but as I ran the model I could see that there could be more imporvement made if I used validation accuracty rather than validation loss. I believe the model was overfitting when using validation loss which is one of the reasons that I chose to swith the criteria to validation accuracy. The fit with validation accuracy is much better and the reults are showing better accuracy and validation accuracy scores than when I was using the validation loss stop criteria."
   ]
  },
  {
   "cell_type": "code",
   "execution_count": 40,
   "id": "a57a2c52",
   "metadata": {},
   "outputs": [],
   "source": [
    "#Create early stop variable and threshold\n",
    "from keras.callbacks import EarlyStopping\n",
    "\n",
    "early_stop = EarlyStopping(monitor='val_accuracy', patience=5, restore_best_weights=True)"
   ]
  },
  {
   "cell_type": "markdown",
   "id": "98d9cb73",
   "metadata": {},
   "source": [
    "#### Evaluation Metric <a class=\"anchor\" id=\"EM\"></a>"
   ]
  },
  {
   "cell_type": "markdown",
   "id": "9517a6b0",
   "metadata": {},
   "source": [
    "The evaluation metric for this model is accuracy. The goal is to build a model as accurate as possible. The model is fitted with the training data from the dataset and the end goal is to have that model trained accurately so that it can provide accurate results. This means that the model is working to become more accurate in its use of the training set. "
   ]
  },
  {
   "cell_type": "markdown",
   "id": "8e8f86d2",
   "metadata": {},
   "source": [
    "## Part 4 - Model Evaluation <a class=\"anchor\" id=\"Part4\"></a>"
   ]
  },
  {
   "cell_type": "markdown",
   "id": "e711c19c",
   "metadata": {},
   "source": [
    "### D1: Impact of Stopping Criteria <a class=\"anchor\" id=\"D1\"></a>"
   ]
  },
  {
   "cell_type": "code",
   "execution_count": 41,
   "id": "db34cc21",
   "metadata": {},
   "outputs": [
    {
     "name": "stdout",
     "output_type": "stream",
     "text": [
      "Epoch 1/17\n",
      "WARNING:tensorflow:From C:\\Users\\sered\\AppData\\Roaming\\Python\\Python311\\site-packages\\keras\\src\\utils\\tf_utils.py:492: The name tf.ragged.RaggedTensorValue is deprecated. Please use tf.compat.v1.ragged.RaggedTensorValue instead.\n",
      "\n",
      "WARNING:tensorflow:From C:\\Users\\sered\\AppData\\Roaming\\Python\\Python311\\site-packages\\keras\\src\\engine\\base_layer_utils.py:384: The name tf.executing_eagerly_outside_functions is deprecated. Please use tf.compat.v1.executing_eagerly_outside_functions instead.\n",
      "\n",
      "17/17 [==============================] - 2s 41ms/step - loss: 1.2963 - accuracy: 0.4914 - val_loss: 0.8064 - val_accuracy: 0.4911\n",
      "Epoch 2/17\n",
      "17/17 [==============================] - 0s 23ms/step - loss: 0.7291 - accuracy: 0.5182 - val_loss: 0.6888 - val_accuracy: 0.5893\n",
      "Epoch 3/17\n",
      "17/17 [==============================] - 0s 23ms/step - loss: 0.6772 - accuracy: 0.5870 - val_loss: 0.6877 - val_accuracy: 0.5179\n",
      "Epoch 4/17\n",
      "17/17 [==============================] - 0s 23ms/step - loss: 0.6345 - accuracy: 0.6673 - val_loss: 0.6729 - val_accuracy: 0.6250\n",
      "Epoch 5/17\n",
      "17/17 [==============================] - 0s 24ms/step - loss: 0.5385 - accuracy: 0.9732 - val_loss: 0.6437 - val_accuracy: 0.7054\n",
      "Epoch 6/17\n",
      "17/17 [==============================] - 0s 23ms/step - loss: 0.3452 - accuracy: 0.9637 - val_loss: 0.6054 - val_accuracy: 0.6518\n",
      "Epoch 7/17\n",
      "17/17 [==============================] - 0s 23ms/step - loss: 0.1481 - accuracy: 0.9809 - val_loss: 0.5572 - val_accuracy: 0.7232\n",
      "Epoch 8/17\n",
      "17/17 [==============================] - 0s 23ms/step - loss: 0.0648 - accuracy: 0.9904 - val_loss: 0.6270 - val_accuracy: 0.6786\n",
      "Epoch 9/17\n",
      "17/17 [==============================] - 0s 24ms/step - loss: 0.0360 - accuracy: 0.9962 - val_loss: 0.5582 - val_accuracy: 0.7411\n",
      "Epoch 10/17\n",
      "17/17 [==============================] - 0s 23ms/step - loss: 0.0209 - accuracy: 0.9962 - val_loss: 0.5713 - val_accuracy: 0.7321\n",
      "Epoch 11/17\n",
      "17/17 [==============================] - 0s 24ms/step - loss: 0.0138 - accuracy: 0.9981 - val_loss: 0.5803 - val_accuracy: 0.7321\n",
      "Epoch 12/17\n",
      "17/17 [==============================] - 0s 23ms/step - loss: 0.0097 - accuracy: 1.0000 - val_loss: 0.5957 - val_accuracy: 0.7500\n",
      "Epoch 13/17\n",
      "17/17 [==============================] - 0s 24ms/step - loss: 0.0073 - accuracy: 1.0000 - val_loss: 0.5995 - val_accuracy: 0.7321\n",
      "Epoch 14/17\n",
      "17/17 [==============================] - 0s 23ms/step - loss: 0.0054 - accuracy: 1.0000 - val_loss: 0.6075 - val_accuracy: 0.7321\n",
      "Epoch 15/17\n",
      "17/17 [==============================] - 0s 23ms/step - loss: 0.0043 - accuracy: 1.0000 - val_loss: 0.6115 - val_accuracy: 0.7411\n",
      "Epoch 16/17\n",
      "17/17 [==============================] - 0s 24ms/step - loss: 0.0035 - accuracy: 1.0000 - val_loss: 0.6190 - val_accuracy: 0.7411\n",
      "Epoch 17/17\n",
      "17/17 [==============================] - 0s 25ms/step - loss: 0.0030 - accuracy: 1.0000 - val_loss: 0.6293 - val_accuracy: 0.7321\n"
     ]
    }
   ],
   "source": [
    "epoch_results = model.fit(X_train_seq_trunc, y_train, validation_data=(X_val_seq_trunc, y_val), epochs=17, callbacks=early_stop)"
   ]
  },
  {
   "cell_type": "markdown",
   "id": "d7ed5a44",
   "metadata": {},
   "source": [
    "Because of the early stop validation loss criteria that we added to the model, the model only iterated through 14 of the 17 epochs. From the data above we can see that the val_accuracy that is being used to signal the early stop ran through five epochs where it continued to drop or there was no increase. Because we have early stop proceedures in place, this cause the model to stop after 14 epochs to stop any further deprication. From the results above we can see that the validation accuracy for our model is sitting at 74% and the validation loss is at 63.8% . The validation loss is significantly higher than the training data loss."
   ]
  },
  {
   "cell_type": "markdown",
   "id": "a858a84d",
   "metadata": {},
   "source": [
    "### D2: Fitness of the Model <a class=\"anchor\" id=\"D2\"></a>"
   ]
  },
  {
   "cell_type": "code",
   "execution_count": 42,
   "id": "8cf46331",
   "metadata": {},
   "outputs": [
    {
     "name": "stdout",
     "output_type": "stream",
     "text": [
      "4/4 [==============================] - 0s 7ms/step - loss: 0.7636 - accuracy: 0.6018\n"
     ]
    },
    {
     "data": {
      "text/plain": [
       "[0.763550877571106, 0.6017699241638184]"
      ]
     },
     "execution_count": 42,
     "metadata": {},
     "output_type": "execute_result"
    }
   ],
   "source": [
    "#Evaluate the model by comparing the model to the test data\n",
    "model.evaluate(X_test_seq_trunc, y_test)"
   ]
  },
  {
   "cell_type": "markdown",
   "id": "cfb72c08",
   "metadata": {},
   "source": [
    "The evaluation above shows that the model is not fitting our test data well. Our accuracy score is at 62% which is pretty low and the loss is 67.4%. It seems that there is some overfitting in our model.\n",
    "\n",
    "I think that having more data would help with the overfitting in the training model. In the training set we only have 523 data points to train the model with. I think that the model is doing very well given that small amount of training data. There is some overfitting, but if we were able to aquire more movie review data to provide more training data to the model it would improve tremendously. "
   ]
  },
  {
   "cell_type": "markdown",
   "id": "43c06702",
   "metadata": {},
   "source": [
    "### D3: Training Process Visualization <a class=\"anchor\" id=\"D3\"></a>"
   ]
  },
  {
   "cell_type": "code",
   "execution_count": 43,
   "id": "eb4a991e",
   "metadata": {},
   "outputs": [
    {
     "data": {
      "image/png": "[encoded data removed]",
      "text/plain": [
       "<Figure size 640x480 with 1 Axes>"
      ]
     },
     "metadata": {},
     "output_type": "display_data"
    }
   ],
   "source": [
    "#Create visualization of accuracy from the model above\n",
    "plt.plot(epoch_results.history['accuracy'], label= \"Training Accuracy\")\n",
    "plt.plot(epoch_results.history['val_accuracy'], label= \"Validation Accuracy\")\n",
    "plt.xlabel(\"Epochs\")\n",
    "plt.ylabel(\"Accuracy of Model\")\n",
    "plt.legend()\n",
    "plt.title(\"Accuracy of Training Model Across Epochs\")\n",
    "plt.show()"
   ]
  },
  {
   "cell_type": "code",
   "execution_count": 44,
   "id": "a1db2e0f",
   "metadata": {},
   "outputs": [
    {
     "data": {
      "image/png": "[encoded data removed]",
      "text/plain": [
       "<Figure size 640x480 with 1 Axes>"
      ]
     },
     "metadata": {},
     "output_type": "display_data"
    }
   ],
   "source": [
    "#Create a visualization to show loss for the trained model\n",
    "plt.plot(epoch_results.history['loss'], label= \"Training Loss\")\n",
    "plt.plot(epoch_results.history['val_loss'], label= \"Validation Loss\")\n",
    "plt.xlabel(\"Epochs\")\n",
    "plt.ylabel(\"Loss of Model\")\n",
    "plt.legend()\n",
    "plt.title(\"Loss of Training Model Across Epochs\")\n",
    "plt.show()"
   ]
  },
  {
   "cell_type": "markdown",
   "id": "c54324d2",
   "metadata": {},
   "source": [
    "From the graphs above it looks like there may be some overfitting in the model. In the accuracy graph the data is flattening out which is what we want to see. The model starts with a high training loss that is gradually decreasing into a flattened line which indicates that there is a good fit with the data. However when looking at the loss and validation loss graph we can see that there is overfitting there. The loss and validation loss of the model should remain relatively close to each other with the validation loss being slightly higher, but in the model that validation loss is significatly higher than the training loss which signifies overfitting."
   ]
  },
  {
   "cell_type": "markdown",
   "id": "c564cf36",
   "metadata": {},
   "source": [
    "### D4: Predictive Accuracy <a class=\"anchor\" id=\"D4\"></a>"
   ]
  },
  {
   "cell_type": "markdown",
   "id": "0a6a1dc0",
   "metadata": {},
   "source": [
    "To understand the trained predictive accuracy of the model we need to use the evaluate metric that was done above. We can see from that metric that the accuracy score is around 62% with a loss of .674. We can further understand this data using the model's predicted values and comparing them to the actual results that we are seeing. This can be done by first determining what the predicted values are and then by creating a confusion matrix to compare the actual values to the predicted values."
   ]
  },
  {
   "cell_type": "code",
   "execution_count": 45,
   "id": "81d6e66a",
   "metadata": {},
   "outputs": [
    {
     "name": "stdout",
     "output_type": "stream",
     "text": [
      "4/4 [==============================] - 0s 4ms/step\n"
     ]
    }
   ],
   "source": [
    "#Determine what the predictions are for the model\n",
    "y_pred = model.predict(X_test_seq_trunc)"
   ]
  },
  {
   "cell_type": "code",
   "execution_count": 46,
   "id": "8d8f4c5a",
   "metadata": {},
   "outputs": [
    {
     "data": {
      "text/plain": [
       "<Axes: >"
      ]
     },
     "execution_count": 46,
     "metadata": {},
     "output_type": "execute_result"
    },
    {
     "data": {
      "image/png": "[encoded data removed]",
      "text/plain": [
       "<Figure size 640x480 with 2 Axes>"
      ]
     },
     "metadata": {},
     "output_type": "display_data"
    }
   ],
   "source": [
    "#Create confusion matrix to visualize the actual values compared to predicted values\n",
    "\n",
    "from sklearn.metrics import confusion_matrix\n",
    "\n",
    "#transform y_pred values into nearest integer\n",
    "y_pred = np.rint(y_pred)\n",
    "\n",
    "cm = confusion_matrix(y_test, y_pred)\n",
    "\n",
    "group_names = ['True Neg','False Pos','False Neg','True Pos']\n",
    "group_counts = [\"{0:0.0f}\".format(value) for value in\n",
    "                cm.flatten()]\n",
    "group_percentages = [\"{0:.2%}\".format(value) for value in\n",
    "                     cm.flatten()/np.sum(cm)]\n",
    "labels = [f\"{v1}\\n{v2}\\n{v3}\" for v1, v2, v3 in\n",
    "          zip(group_names,group_counts,group_percentages)]\n",
    "labels = np.asarray(labels).reshape(2,2)\n",
    "sns.heatmap(cm, annot=labels, fmt='', cmap='Greens')"
   ]
  },
  {
   "cell_type": "markdown",
   "id": "c5078342",
   "metadata": {},
   "source": [
    "The confusion matrix above verifies what we have already discussed above. There is overfitting in the model and the predicted values align with the actual values more often than they are wrong, but the model overall could definitely improve. Given the small amount of data that the model has to understand the reviews, I think that it is doing well. If we were to trian it with more data the model would only continue to improve. Based on the matrix above the model is correct about 62% of the time which is what we were expecting to see from calculations done above. Given that the evaluation metric was accuracy, it seems that the accuracy of our model can improve and this can be done by attaining more data to train the model."
   ]
  },
  {
   "cell_type": "markdown",
   "id": "d5f38d18",
   "metadata": {},
   "source": [
    "## Part 5 - Summary and Recommendations <a class=\"anchor\" id=\"Part5\"></a>"
   ]
  },
  {
   "cell_type": "markdown",
   "id": "bb5869ee",
   "metadata": {},
   "source": [
    "#### Code to Save Trained Network within Neural Network"
   ]
  },
  {
   "cell_type": "code",
   "execution_count": 47,
   "id": "e790f05f",
   "metadata": {},
   "outputs": [
    {
     "name": "stdout",
     "output_type": "stream",
     "text": [
      "Model successfully saved as SentimentAnalysisModel.keras\n"
     ]
    }
   ],
   "source": [
    "#Save the trained model within the neural network to easily recall later\n",
    "model_file_name = \"SentimentAnalysisModel.keras\"\n",
    "model.save(model_file_name)\n",
    "print(f\"Model successfully saved as {model_file_name}\")"
   ]
  },
  {
   "cell_type": "markdown",
   "id": "2a4d8a3c",
   "metadata": {},
   "source": [
    "#### Functionality of Neural Network"
   ]
  },
  {
   "cell_type": "markdown",
   "id": "65c280ca",
   "metadata": {},
   "source": [
    "The nueral network that was created is doing an ok job at performing the sentiment analysis that we had wanted. The test data has an accuracy score of 62% which is not very high and a loss score of 67.4% which is significantly higher than I would like it to be. This means that the network has room to improve. This is a good start for the network as it provides mostly accurate results, but there are definitely things that could be improved to get an even more accurate model with a higher accuracy score and lower loss.\n",
    "\n",
    "The architecture of the framework was effective. As I was going through the project I added and removed layers to try to optimize the model. I found that when I removed layers the model was less accurate and found that when I added extra dense layers to scale down the data to 0 or 1 it didn't make a big impact on the model results. The model architecture that I have above with one embedding layer, one flatted layer, and three dense layers was the architecture that produced the best results."
   ]
  },
  {
   "cell_type": "markdown",
   "id": "78a343a1",
   "metadata": {},
   "source": [
    "#### Recommended Course of Action"
   ]
  },
  {
   "cell_type": "markdown",
   "id": "c276a764",
   "metadata": {},
   "source": [
    "As I said above, I think this model is a good start but it can certainly improve. The amount of data that we have to train this model was extremely small (523 data points). This amount of data is not enough to train an accurate model. I would recommend that more movie reveiw data be acquired so that the model can get more training data which will help it to make more accurate predictions. The code that we have in place is scalable, so it would be simple to add the new data to the training set and improve the models accuracy and results. "
   ]
  },
  {
   "cell_type": "markdown",
   "id": "6c8ce6af",
   "metadata": {},
   "source": [
    "## Part 6 - Reporting <a class=\"anchor\" id=\"Part6\"></a>"
   ]
  },
  {
   "cell_type": "markdown",
   "id": "9c67017d",
   "metadata": {},
   "source": [
    "#### Show Industry-Relevant Interactive Environment"
   ]
  },
  {
   "cell_type": "markdown",
   "id": "55978163",
   "metadata": {},
   "source": [
    "The interactive environment for this project was Jupyter Notebook. A PDF copy of the notebook with all code outputs is attached."
   ]
  },
  {
   "cell_type": "markdown",
   "id": "0fdeed22",
   "metadata": {},
   "source": [
    "#### Sources for Third-Party Code"
   ]
  },
  {
   "cell_type": "markdown",
   "id": "8816d18e",
   "metadata": {},
   "source": [
    "Carremans, B. (2018). Using Word Embeddings for Sentiment Analysis. Retrieved from Kaggle: https://www.kaggle.com/code/bertcarremans/using-word-embeddings-for-sentiment-analysis/notebook\n",
    "\n",
    "Hung, Q. K. (2021, April 18). Sentiment Analysis in Python-81% Accuracy. Retrieved from Medium: https://medium.com/@liangnguyen612/sentiment-analysis-in-python-81-accuracy-ab5d694b7ef8"
   ]
  },
  {
   "cell_type": "markdown",
   "id": "f0d86f51",
   "metadata": {},
   "source": [
    "#### Sources for In-Text Citations"
   ]
  },
  {
   "cell_type": "markdown",
   "id": "1be70781",
   "metadata": {},
   "source": [
    "Early Stopping on Validation Loss or Accuracy? (2024, Feb 16). Retrieved from Geeks for Geeks: https://www.geeksforgeeks.org/early-stopping-on-validation-loss-or-on-accuracy/\n",
    "\n",
    "Vishwakarma, N. (2024, April 26). What is Adam Optimizer? Retrieved from Analytics Vidhya: https://www.analyticsvidhya.com/blog/2023/09/what-is-adam-optimizer/#:~:text=The%20Adam%20optimizer%2C%20short%20for,Stochastic%20Gradient%20Descent%20with%20momentum."
   ]
  },
  {
   "cell_type": "markdown",
   "id": "e5bc756c",
   "metadata": {},
   "source": [
    "#### Professional Communication"
   ]
  },
  {
   "cell_type": "markdown",
   "id": "6c1dea20",
   "metadata": {},
   "source": [
    "Please see this document to determine professional communication for the project."
   ]
  },
  {
   "cell_type": "code",
   "execution_count": null,
   "id": "a4343404",
   "metadata": {},
   "outputs": [],
   "source": []
  }
 ],
 "metadata": {
  "kernelspec": {
   "display_name": "Python 3 (ipykernel)",
   "language": "python",
   "name": "python3"
  },
  "language_info": {
   "codemirror_mode": {
    "name": "ipython",
    "version": 3
   },
   "file_extension": ".py",
   "mimetype": "text/x-python",
   "name": "python",
   "nbconvert_exporter": "python",
   "pygments_lexer": "ipython3",
   "version": "3.11.5"
  }
 },
 "nbformat": 4,
 "nbformat_minor": 5
}
