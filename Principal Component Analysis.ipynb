{
 "cells": [
  {
   "cell_type": "code",
   "execution_count": 37,
   "id": "4f2a1ccb-68fc-44b4-8f9d-e00450930d5c",
   "metadata": {
    "tags": []
   },
   "outputs": [],
   "source": [
    "#import pandas library for working with dataset\n",
    "import pandas as pd\n",
    "import numpy as np\n",
    "from sklearn.preprocessing import StandardScaler\n",
    "import matplotlib.pyplot as plt\n",
    "import seaborn as sns\n",
    "from sklearn.decomposition import PCA"
   ]
  },
  {
   "cell_type": "code",
   "execution_count": 3,
   "id": "b4fa08db-3106-460e-a130-b4318173449a",
   "metadata": {
    "tags": []
   },
   "outputs": [
    {
     "data": {
      "text/html": [
       "<div>\n",
       "<style scoped>\n",
       "    .dataframe tbody tr th:only-of-type {\n",
       "        vertical-align: middle;\n",
       "    }\n",
       "\n",
       "    .dataframe tbody tr th {\n",
       "        vertical-align: top;\n",
       "    }\n",
       "\n",
       "    .dataframe thead th {\n",
       "        text-align: right;\n",
       "    }\n",
       "</style>\n",
       "<table border=\"1\" class=\"dataframe\">\n",
       "  <thead>\n",
       "    <tr style=\"text-align: right;\">\n",
       "      <th></th>\n",
       "      <th>CaseOrder</th>\n",
       "      <th>Customer_id</th>\n",
       "      <th>Interaction</th>\n",
       "      <th>UID</th>\n",
       "      <th>City</th>\n",
       "      <th>State</th>\n",
       "      <th>County</th>\n",
       "      <th>Zip</th>\n",
       "      <th>Lat</th>\n",
       "      <th>Lng</th>\n",
       "      <th>...</th>\n",
       "      <th>MonthlyCharge</th>\n",
       "      <th>Bandwidth_GB_Year</th>\n",
       "      <th>Item1</th>\n",
       "      <th>Item2</th>\n",
       "      <th>Item3</th>\n",
       "      <th>Item4</th>\n",
       "      <th>Item5</th>\n",
       "      <th>Item6</th>\n",
       "      <th>Item7</th>\n",
       "      <th>Item8</th>\n",
       "    </tr>\n",
       "  </thead>\n",
       "  <tbody>\n",
       "    <tr>\n",
       "      <th>0</th>\n",
       "      <td>1</td>\n",
       "      <td>K409198</td>\n",
       "      <td>aa90260b-4141-4a24-8e36-b04ce1f4f77b</td>\n",
       "      <td>e885b299883d4f9fb18e39c75155d990</td>\n",
       "      <td>Point Baker</td>\n",
       "      <td>AK</td>\n",
       "      <td>Prince of Wales-Hyder</td>\n",
       "      <td>99927</td>\n",
       "      <td>56.25100</td>\n",
       "      <td>-133.37571</td>\n",
       "      <td>...</td>\n",
       "      <td>172.455519</td>\n",
       "      <td>904.536110</td>\n",
       "      <td>5</td>\n",
       "      <td>5</td>\n",
       "      <td>5</td>\n",
       "      <td>3</td>\n",
       "      <td>4</td>\n",
       "      <td>4</td>\n",
       "      <td>3</td>\n",
       "      <td>4</td>\n",
       "    </tr>\n",
       "    <tr>\n",
       "      <th>1</th>\n",
       "      <td>2</td>\n",
       "      <td>S120509</td>\n",
       "      <td>fb76459f-c047-4a9d-8af9-e0f7d4ac2524</td>\n",
       "      <td>f2de8bef964785f41a2959829830fb8a</td>\n",
       "      <td>West Branch</td>\n",
       "      <td>MI</td>\n",
       "      <td>Ogemaw</td>\n",
       "      <td>48661</td>\n",
       "      <td>44.32893</td>\n",
       "      <td>-84.24080</td>\n",
       "      <td>...</td>\n",
       "      <td>242.632554</td>\n",
       "      <td>800.982766</td>\n",
       "      <td>3</td>\n",
       "      <td>4</td>\n",
       "      <td>3</td>\n",
       "      <td>3</td>\n",
       "      <td>4</td>\n",
       "      <td>3</td>\n",
       "      <td>4</td>\n",
       "      <td>4</td>\n",
       "    </tr>\n",
       "    <tr>\n",
       "      <th>2</th>\n",
       "      <td>3</td>\n",
       "      <td>K191035</td>\n",
       "      <td>344d114c-3736-4be5-98f7-c72c281e2d35</td>\n",
       "      <td>f1784cfa9f6d92ae816197eb175d3c71</td>\n",
       "      <td>Yamhill</td>\n",
       "      <td>OR</td>\n",
       "      <td>Yamhill</td>\n",
       "      <td>97148</td>\n",
       "      <td>45.35589</td>\n",
       "      <td>-123.24657</td>\n",
       "      <td>...</td>\n",
       "      <td>159.947583</td>\n",
       "      <td>2054.706961</td>\n",
       "      <td>4</td>\n",
       "      <td>4</td>\n",
       "      <td>2</td>\n",
       "      <td>4</td>\n",
       "      <td>4</td>\n",
       "      <td>3</td>\n",
       "      <td>3</td>\n",
       "      <td>3</td>\n",
       "    </tr>\n",
       "    <tr>\n",
       "      <th>3</th>\n",
       "      <td>4</td>\n",
       "      <td>D90850</td>\n",
       "      <td>abfa2b40-2d43-4994-b15a-989b8c79e311</td>\n",
       "      <td>dc8a365077241bb5cd5ccd305136b05e</td>\n",
       "      <td>Del Mar</td>\n",
       "      <td>CA</td>\n",
       "      <td>San Diego</td>\n",
       "      <td>92014</td>\n",
       "      <td>32.96687</td>\n",
       "      <td>-117.24798</td>\n",
       "      <td>...</td>\n",
       "      <td>119.956840</td>\n",
       "      <td>2164.579412</td>\n",
       "      <td>4</td>\n",
       "      <td>4</td>\n",
       "      <td>4</td>\n",
       "      <td>2</td>\n",
       "      <td>5</td>\n",
       "      <td>4</td>\n",
       "      <td>3</td>\n",
       "      <td>3</td>\n",
       "    </tr>\n",
       "    <tr>\n",
       "      <th>4</th>\n",
       "      <td>5</td>\n",
       "      <td>K662701</td>\n",
       "      <td>68a861fd-0d20-4e51-a587-8a90407ee574</td>\n",
       "      <td>aabb64a116e83fdc4befc1fbab1663f9</td>\n",
       "      <td>Needville</td>\n",
       "      <td>TX</td>\n",
       "      <td>Fort Bend</td>\n",
       "      <td>77461</td>\n",
       "      <td>29.38012</td>\n",
       "      <td>-95.80673</td>\n",
       "      <td>...</td>\n",
       "      <td>149.948316</td>\n",
       "      <td>271.493436</td>\n",
       "      <td>4</td>\n",
       "      <td>4</td>\n",
       "      <td>4</td>\n",
       "      <td>3</td>\n",
       "      <td>4</td>\n",
       "      <td>4</td>\n",
       "      <td>4</td>\n",
       "      <td>5</td>\n",
       "    </tr>\n",
       "  </tbody>\n",
       "</table>\n",
       "<p>5 rows × 50 columns</p>\n",
       "</div>"
      ],
      "text/plain": [
       "   CaseOrder Customer_id                           Interaction  \\\n",
       "0          1     K409198  aa90260b-4141-4a24-8e36-b04ce1f4f77b   \n",
       "1          2     S120509  fb76459f-c047-4a9d-8af9-e0f7d4ac2524   \n",
       "2          3     K191035  344d114c-3736-4be5-98f7-c72c281e2d35   \n",
       "3          4      D90850  abfa2b40-2d43-4994-b15a-989b8c79e311   \n",
       "4          5     K662701  68a861fd-0d20-4e51-a587-8a90407ee574   \n",
       "\n",
       "                                UID         City State                 County  \\\n",
       "0  e885b299883d4f9fb18e39c75155d990  Point Baker    AK  Prince of Wales-Hyder   \n",
       "1  f2de8bef964785f41a2959829830fb8a  West Branch    MI                 Ogemaw   \n",
       "2  f1784cfa9f6d92ae816197eb175d3c71      Yamhill    OR                Yamhill   \n",
       "3  dc8a365077241bb5cd5ccd305136b05e      Del Mar    CA              San Diego   \n",
       "4  aabb64a116e83fdc4befc1fbab1663f9    Needville    TX              Fort Bend   \n",
       "\n",
       "     Zip       Lat        Lng  ...  MonthlyCharge Bandwidth_GB_Year Item1  \\\n",
       "0  99927  56.25100 -133.37571  ...     172.455519        904.536110     5   \n",
       "1  48661  44.32893  -84.24080  ...     242.632554        800.982766     3   \n",
       "2  97148  45.35589 -123.24657  ...     159.947583       2054.706961     4   \n",
       "3  92014  32.96687 -117.24798  ...     119.956840       2164.579412     4   \n",
       "4  77461  29.38012  -95.80673  ...     149.948316        271.493436     4   \n",
       "\n",
       "  Item2  Item3  Item4  Item5 Item6 Item7 Item8  \n",
       "0     5      5      3      4     4     3     4  \n",
       "1     4      3      3      4     3     4     4  \n",
       "2     4      2      4      4     3     3     3  \n",
       "3     4      4      2      5     4     3     3  \n",
       "4     4      4      3      4     4     4     5  \n",
       "\n",
       "[5 rows x 50 columns]"
      ]
     },
     "execution_count": 3,
     "metadata": {},
     "output_type": "execute_result"
    }
   ],
   "source": [
    "#read in csv churn file\n",
    "df = pd.read_csv(\"C:/Users/sered/OneDrive/Desktop/WGU Masters Degree/D212/churn_clean.csv\")\n",
    "df.head()"
   ]
  },
  {
   "cell_type": "code",
   "execution_count": 4,
   "id": "54832f93-eb5e-45e3-8f58-24621472def8",
   "metadata": {
    "tags": []
   },
   "outputs": [
    {
     "data": {
      "text/plain": [
       "(10000, 50)"
      ]
     },
     "execution_count": 4,
     "metadata": {},
     "output_type": "execute_result"
    }
   ],
   "source": [
    "#Eplore the dataset to better understand the columns\n",
    "\n",
    "df.shape"
   ]
  },
  {
   "cell_type": "code",
   "execution_count": 5,
   "id": "b147c6ed-3d45-440a-8566-8b26e0af091e",
   "metadata": {
    "tags": []
   },
   "outputs": [
    {
     "name": "stdout",
     "output_type": "stream",
     "text": [
      "<class 'pandas.core.frame.DataFrame'>\n",
      "RangeIndex: 10000 entries, 0 to 9999\n",
      "Data columns (total 50 columns):\n",
      " #   Column                Non-Null Count  Dtype  \n",
      "---  ------                --------------  -----  \n",
      " 0   CaseOrder             10000 non-null  int64  \n",
      " 1   Customer_id           10000 non-null  object \n",
      " 2   Interaction           10000 non-null  object \n",
      " 3   UID                   10000 non-null  object \n",
      " 4   City                  10000 non-null  object \n",
      " 5   State                 10000 non-null  object \n",
      " 6   County                10000 non-null  object \n",
      " 7   Zip                   10000 non-null  int64  \n",
      " 8   Lat                   10000 non-null  float64\n",
      " 9   Lng                   10000 non-null  float64\n",
      " 10  Population            10000 non-null  int64  \n",
      " 11  Area                  10000 non-null  object \n",
      " 12  TimeZone              10000 non-null  object \n",
      " 13  Job                   10000 non-null  object \n",
      " 14  Children              10000 non-null  int64  \n",
      " 15  Age                   10000 non-null  int64  \n",
      " 16  Income                10000 non-null  float64\n",
      " 17  Marital               10000 non-null  object \n",
      " 18  Gender                10000 non-null  object \n",
      " 19  Churn                 10000 non-null  object \n",
      " 20  Outage_sec_perweek    10000 non-null  float64\n",
      " 21  Email                 10000 non-null  int64  \n",
      " 22  Contacts              10000 non-null  int64  \n",
      " 23  Yearly_equip_failure  10000 non-null  int64  \n",
      " 24  Techie                10000 non-null  object \n",
      " 25  Contract              10000 non-null  object \n",
      " 26  Port_modem            10000 non-null  object \n",
      " 27  Tablet                10000 non-null  object \n",
      " 28  InternetService       7871 non-null   object \n",
      " 29  Phone                 10000 non-null  object \n",
      " 30  Multiple              10000 non-null  object \n",
      " 31  OnlineSecurity        10000 non-null  object \n",
      " 32  OnlineBackup          10000 non-null  object \n",
      " 33  DeviceProtection      10000 non-null  object \n",
      " 34  TechSupport           10000 non-null  object \n",
      " 35  StreamingTV           10000 non-null  object \n",
      " 36  StreamingMovies       10000 non-null  object \n",
      " 37  PaperlessBilling      10000 non-null  object \n",
      " 38  PaymentMethod         10000 non-null  object \n",
      " 39  Tenure                10000 non-null  float64\n",
      " 40  MonthlyCharge         10000 non-null  float64\n",
      " 41  Bandwidth_GB_Year     10000 non-null  float64\n",
      " 42  Item1                 10000 non-null  int64  \n",
      " 43  Item2                 10000 non-null  int64  \n",
      " 44  Item3                 10000 non-null  int64  \n",
      " 45  Item4                 10000 non-null  int64  \n",
      " 46  Item5                 10000 non-null  int64  \n",
      " 47  Item6                 10000 non-null  int64  \n",
      " 48  Item7                 10000 non-null  int64  \n",
      " 49  Item8                 10000 non-null  int64  \n",
      "dtypes: float64(7), int64(16), object(27)\n",
      "memory usage: 3.8+ MB\n"
     ]
    }
   ],
   "source": [
    "df.info()"
   ]
  },
  {
   "cell_type": "code",
   "execution_count": 6,
   "id": "41eb2299-3ba0-485c-9298-853e4f5acdec",
   "metadata": {
    "tags": []
   },
   "outputs": [
    {
     "name": "stdout",
     "output_type": "stream",
     "text": [
      "<class 'pandas.core.frame.DataFrame'>\n",
      "RangeIndex: 10000 entries, 0 to 9999\n",
      "Data columns (total 23 columns):\n",
      " #   Column                Non-Null Count  Dtype  \n",
      "---  ------                --------------  -----  \n",
      " 0   CaseOrder             10000 non-null  int64  \n",
      " 1   Zip                   10000 non-null  int64  \n",
      " 2   Lat                   10000 non-null  float64\n",
      " 3   Lng                   10000 non-null  float64\n",
      " 4   Population            10000 non-null  int64  \n",
      " 5   Children              10000 non-null  int64  \n",
      " 6   Age                   10000 non-null  int64  \n",
      " 7   Income                10000 non-null  float64\n",
      " 8   Outage_sec_perweek    10000 non-null  float64\n",
      " 9   Email                 10000 non-null  int64  \n",
      " 10  Contacts              10000 non-null  int64  \n",
      " 11  Yearly_equip_failure  10000 non-null  int64  \n",
      " 12  Tenure                10000 non-null  float64\n",
      " 13  MonthlyCharge         10000 non-null  float64\n",
      " 14  Bandwidth_GB_Year     10000 non-null  float64\n",
      " 15  Item1                 10000 non-null  int64  \n",
      " 16  Item2                 10000 non-null  int64  \n",
      " 17  Item3                 10000 non-null  int64  \n",
      " 18  Item4                 10000 non-null  int64  \n",
      " 19  Item5                 10000 non-null  int64  \n",
      " 20  Item6                 10000 non-null  int64  \n",
      " 21  Item7                 10000 non-null  int64  \n",
      " 22  Item8                 10000 non-null  int64  \n",
      "dtypes: float64(7), int64(16)\n",
      "memory usage: 1.8 MB\n"
     ]
    }
   ],
   "source": [
    "#Preprocessing Steps\n",
    "#Select only the numberical data from the dataset\n",
    "df = df.select_dtypes(exclude= 'object')\n",
    "df.info()"
   ]
  },
  {
   "cell_type": "code",
   "execution_count": 7,
   "id": "671e2d83-2dc2-4c2b-b587-1ee20f929e43",
   "metadata": {
    "tags": []
   },
   "outputs": [
    {
     "name": "stdout",
     "output_type": "stream",
     "text": [
      "<class 'pandas.core.frame.DataFrame'>\n",
      "RangeIndex: 10000 entries, 0 to 9999\n",
      "Data columns (total 7 columns):\n",
      " #   Column              Non-Null Count  Dtype  \n",
      "---  ------              --------------  -----  \n",
      " 0   Lat                 10000 non-null  float64\n",
      " 1   Lng                 10000 non-null  float64\n",
      " 2   Income              10000 non-null  float64\n",
      " 3   Outage_sec_perweek  10000 non-null  float64\n",
      " 4   Tenure              10000 non-null  float64\n",
      " 5   MonthlyCharge       10000 non-null  float64\n",
      " 6   Bandwidth_GB_Year   10000 non-null  float64\n",
      "dtypes: float64(7)\n",
      "memory usage: 547.0 KB\n"
     ]
    }
   ],
   "source": [
    "#Remove the descrete numerical variables from the remaining columns so that only continuous variables remain\n",
    "df = df.drop(['CaseOrder','Zip','Population','Children','Age','Email','Contacts','Yearly_equip_failure','Item1','Item2','Item3','Item4','Item5','Item6','Item7','Item8'], axis=1)\n",
    "df.info()"
   ]
  },
  {
   "cell_type": "code",
   "execution_count": 8,
   "id": "7f5c1d86-d501-4ba1-b01a-83e2b2097a71",
   "metadata": {
    "tags": []
   },
   "outputs": [
    {
     "data": {
      "text/plain": [
       "array([[ 3.21740984, -2.8104319 , -0.39877774, ..., -1.04874621,\n",
       "        -0.00394256, -1.13848703],\n",
       "       [ 1.0246907 ,  0.43164437, -0.64195445, ..., -1.26200116,\n",
       "         1.6303259 , -1.18587584],\n",
       "       [ 1.21357022, -2.14207931, -1.07088496, ..., -0.7099398 ,\n",
       "        -0.29522482, -0.61213775],\n",
       "       ...,\n",
       "       [-0.59538486, -0.63734869,  0.21903654, ...,  0.48751337,\n",
       "        -0.06172934,  0.35098358],\n",
       "       [-0.95223392,  0.37281313, -0.82058767, ...,  1.38301834,\n",
       "         1.86300465,  1.40771348],\n",
       "       [-0.74483171,  0.47811762, -1.09176018, ...,  1.09012007,\n",
       "         1.04467151,  1.12816258]])"
      ]
     },
     "execution_count": 8,
     "metadata": {},
     "output_type": "execute_result"
    }
   ],
   "source": [
    "#Normalize the data to avoid data skewing\n",
    "scaler = StandardScaler()\n",
    "scaled_data = scaler.fit_transform(df)\n",
    "scaled_data"
   ]
  },
  {
   "cell_type": "code",
   "execution_count": 9,
   "id": "e3befbd5-7269-4291-83ad-049cb18aa8a3",
   "metadata": {
    "tags": []
   },
   "outputs": [
    {
     "data": {
      "text/html": [
       "<div>\n",
       "<style scoped>\n",
       "    .dataframe tbody tr th:only-of-type {\n",
       "        vertical-align: middle;\n",
       "    }\n",
       "\n",
       "    .dataframe tbody tr th {\n",
       "        vertical-align: top;\n",
       "    }\n",
       "\n",
       "    .dataframe thead th {\n",
       "        text-align: right;\n",
       "    }\n",
       "</style>\n",
       "<table border=\"1\" class=\"dataframe\">\n",
       "  <thead>\n",
       "    <tr style=\"text-align: right;\">\n",
       "      <th></th>\n",
       "      <th>Lat</th>\n",
       "      <th>Lng</th>\n",
       "      <th>Income</th>\n",
       "      <th>Outage_sec_perweek</th>\n",
       "      <th>Tenure</th>\n",
       "      <th>MonthlyCharge</th>\n",
       "      <th>Bandwidth_GB_Year</th>\n",
       "    </tr>\n",
       "  </thead>\n",
       "  <tbody>\n",
       "    <tr>\n",
       "      <th>0</th>\n",
       "      <td>3.217410</td>\n",
       "      <td>-2.810432</td>\n",
       "      <td>-0.398778</td>\n",
       "      <td>-0.679978</td>\n",
       "      <td>-1.048746</td>\n",
       "      <td>-0.003943</td>\n",
       "      <td>-1.138487</td>\n",
       "    </tr>\n",
       "    <tr>\n",
       "      <th>1</th>\n",
       "      <td>1.024691</td>\n",
       "      <td>0.431644</td>\n",
       "      <td>-0.641954</td>\n",
       "      <td>0.570331</td>\n",
       "      <td>-1.262001</td>\n",
       "      <td>1.630326</td>\n",
       "      <td>-1.185876</td>\n",
       "    </tr>\n",
       "    <tr>\n",
       "      <th>2</th>\n",
       "      <td>1.213570</td>\n",
       "      <td>-2.142079</td>\n",
       "      <td>-1.070885</td>\n",
       "      <td>0.252347</td>\n",
       "      <td>-0.709940</td>\n",
       "      <td>-0.295225</td>\n",
       "      <td>-0.612138</td>\n",
       "    </tr>\n",
       "    <tr>\n",
       "      <th>3</th>\n",
       "      <td>-1.065031</td>\n",
       "      <td>-1.746273</td>\n",
       "      <td>-0.740525</td>\n",
       "      <td>1.650506</td>\n",
       "      <td>-0.659524</td>\n",
       "      <td>-1.226521</td>\n",
       "      <td>-0.561857</td>\n",
       "    </tr>\n",
       "    <tr>\n",
       "      <th>4</th>\n",
       "      <td>-1.724710</td>\n",
       "      <td>-0.331512</td>\n",
       "      <td>0.009478</td>\n",
       "      <td>-0.623156</td>\n",
       "      <td>-1.242551</td>\n",
       "      <td>-0.528086</td>\n",
       "      <td>-1.428184</td>\n",
       "    </tr>\n",
       "  </tbody>\n",
       "</table>\n",
       "</div>"
      ],
      "text/plain": [
       "        Lat       Lng    Income  Outage_sec_perweek    Tenure  MonthlyCharge  \\\n",
       "0  3.217410 -2.810432 -0.398778           -0.679978 -1.048746      -0.003943   \n",
       "1  1.024691  0.431644 -0.641954            0.570331 -1.262001       1.630326   \n",
       "2  1.213570 -2.142079 -1.070885            0.252347 -0.709940      -0.295225   \n",
       "3 -1.065031 -1.746273 -0.740525            1.650506 -0.659524      -1.226521   \n",
       "4 -1.724710 -0.331512  0.009478           -0.623156 -1.242551      -0.528086   \n",
       "\n",
       "   Bandwidth_GB_Year  \n",
       "0          -1.138487  \n",
       "1          -1.185876  \n",
       "2          -0.612138  \n",
       "3          -0.561857  \n",
       "4          -1.428184  "
      ]
     },
     "execution_count": 9,
     "metadata": {},
     "output_type": "execute_result"
    }
   ],
   "source": [
    "#Put normalized data array into a dataframe to perform analysis\n",
    "scaled_df = pd.DataFrame(scaled_data, columns = df.columns)\n",
    "scaled_df.to_csv('C:/Users/sered/OneDrive/Desktop/WGU Masters Degree/D212/Assessment 2/Scaled_Processed_Data.csv')\n",
    "scaled_df.head()"
   ]
  },
  {
   "cell_type": "code",
   "execution_count": 10,
   "id": "de2c4a32-2c89-4cfe-9ed4-2f49ae1117a4",
   "metadata": {
    "tags": []
   },
   "outputs": [
    {
     "data": {
      "text/html": [
       "<div>\n",
       "<style scoped>\n",
       "    .dataframe tbody tr th:only-of-type {\n",
       "        vertical-align: middle;\n",
       "    }\n",
       "\n",
       "    .dataframe tbody tr th {\n",
       "        vertical-align: top;\n",
       "    }\n",
       "\n",
       "    .dataframe thead th {\n",
       "        text-align: right;\n",
       "    }\n",
       "</style>\n",
       "<table border=\"1\" class=\"dataframe\">\n",
       "  <thead>\n",
       "    <tr style=\"text-align: right;\">\n",
       "      <th></th>\n",
       "      <th>Lat</th>\n",
       "      <th>Lng</th>\n",
       "      <th>Income</th>\n",
       "      <th>Outage_sec_perweek</th>\n",
       "      <th>Tenure</th>\n",
       "      <th>MonthlyCharge</th>\n",
       "      <th>Bandwidth_GB_Year</th>\n",
       "    </tr>\n",
       "  </thead>\n",
       "  <tbody>\n",
       "    <tr>\n",
       "      <th>count</th>\n",
       "      <td>10000.00</td>\n",
       "      <td>10000.00</td>\n",
       "      <td>10000.00</td>\n",
       "      <td>10000.00</td>\n",
       "      <td>10000.00</td>\n",
       "      <td>10000.00</td>\n",
       "      <td>10000.00</td>\n",
       "    </tr>\n",
       "    <tr>\n",
       "      <th>mean</th>\n",
       "      <td>0.00</td>\n",
       "      <td>-0.00</td>\n",
       "      <td>0.00</td>\n",
       "      <td>0.00</td>\n",
       "      <td>0.00</td>\n",
       "      <td>-0.00</td>\n",
       "      <td>0.00</td>\n",
       "    </tr>\n",
       "    <tr>\n",
       "      <th>std</th>\n",
       "      <td>1.00</td>\n",
       "      <td>1.00</td>\n",
       "      <td>1.00</td>\n",
       "      <td>1.00</td>\n",
       "      <td>1.00</td>\n",
       "      <td>1.00</td>\n",
       "      <td>1.00</td>\n",
       "    </tr>\n",
       "    <tr>\n",
       "      <th>min</th>\n",
       "      <td>-3.82</td>\n",
       "      <td>-5.34</td>\n",
       "      <td>-1.40</td>\n",
       "      <td>-3.33</td>\n",
       "      <td>-1.27</td>\n",
       "      <td>-2.16</td>\n",
       "      <td>-1.48</td>\n",
       "    </tr>\n",
       "    <tr>\n",
       "      <th>25%</th>\n",
       "      <td>-0.63</td>\n",
       "      <td>-0.42</td>\n",
       "      <td>-0.73</td>\n",
       "      <td>-0.67</td>\n",
       "      <td>-1.01</td>\n",
       "      <td>-0.76</td>\n",
       "      <td>-0.99</td>\n",
       "    </tr>\n",
       "    <tr>\n",
       "      <th>50%</th>\n",
       "      <td>0.12</td>\n",
       "      <td>0.19</td>\n",
       "      <td>-0.24</td>\n",
       "      <td>0.01</td>\n",
       "      <td>0.03</td>\n",
       "      <td>-0.12</td>\n",
       "      <td>-0.05</td>\n",
       "    </tr>\n",
       "    <tr>\n",
       "      <th>75%</th>\n",
       "      <td>0.62</td>\n",
       "      <td>0.71</td>\n",
       "      <td>0.48</td>\n",
       "      <td>0.66</td>\n",
       "      <td>1.02</td>\n",
       "      <td>0.65</td>\n",
       "      <td>1.00</td>\n",
       "    </tr>\n",
       "    <tr>\n",
       "      <th>max</th>\n",
       "      <td>5.86</td>\n",
       "      <td>1.66</td>\n",
       "      <td>7.77</td>\n",
       "      <td>3.77</td>\n",
       "      <td>1.42</td>\n",
       "      <td>2.74</td>\n",
       "      <td>1.72</td>\n",
       "    </tr>\n",
       "  </tbody>\n",
       "</table>\n",
       "</div>"
      ],
      "text/plain": [
       "            Lat       Lng    Income  Outage_sec_perweek    Tenure  \\\n",
       "count  10000.00  10000.00  10000.00            10000.00  10000.00   \n",
       "mean       0.00     -0.00      0.00                0.00      0.00   \n",
       "std        1.00      1.00      1.00                1.00      1.00   \n",
       "min       -3.82     -5.34     -1.40               -3.33     -1.27   \n",
       "25%       -0.63     -0.42     -0.73               -0.67     -1.01   \n",
       "50%        0.12      0.19     -0.24                0.01      0.03   \n",
       "75%        0.62      0.71      0.48                0.66      1.02   \n",
       "max        5.86      1.66      7.77                3.77      1.42   \n",
       "\n",
       "       MonthlyCharge  Bandwidth_GB_Year  \n",
       "count       10000.00           10000.00  \n",
       "mean           -0.00               0.00  \n",
       "std             1.00               1.00  \n",
       "min            -2.16              -1.48  \n",
       "25%            -0.76              -0.99  \n",
       "50%            -0.12              -0.05  \n",
       "75%             0.65               1.00  \n",
       "max             2.74               1.72  "
      ]
     },
     "execution_count": 10,
     "metadata": {},
     "output_type": "execute_result"
    }
   ],
   "source": [
    "#Verify that the data scaled correctly\n",
    "scaled_df.describe().round(2)"
   ]
  },
  {
   "cell_type": "code",
   "execution_count": 11,
   "id": "bf7f2b80-0860-4a34-bbd4-4826f1af6b52",
   "metadata": {
    "tags": []
   },
   "outputs": [
    {
     "data": {
      "text/plain": [
       "(10000, 7)"
      ]
     },
     "execution_count": 11,
     "metadata": {},
     "output_type": "execute_result"
    }
   ],
   "source": [
    "scaled_df.shape"
   ]
  },
  {
   "cell_type": "code",
   "execution_count": 26,
   "id": "547732a9-f210-42f5-bd72-4cafcbfaa668",
   "metadata": {
    "tags": []
   },
   "outputs": [],
   "source": [
    "#Fit and transform the pca model\n",
    "pca = PCA()\n",
    "PC= pca.fit_transform(scaled_df)"
   ]
  },
  {
   "cell_type": "code",
   "execution_count": 27,
   "id": "e63b6977-20f0-45b9-a0d2-143cad60f840",
   "metadata": {
    "tags": []
   },
   "outputs": [
    {
     "data": {
      "text/html": [
       "<div>\n",
       "<style scoped>\n",
       "    .dataframe tbody tr th:only-of-type {\n",
       "        vertical-align: middle;\n",
       "    }\n",
       "\n",
       "    .dataframe tbody tr th {\n",
       "        vertical-align: top;\n",
       "    }\n",
       "\n",
       "    .dataframe thead th {\n",
       "        text-align: right;\n",
       "    }\n",
       "</style>\n",
       "<table border=\"1\" class=\"dataframe\">\n",
       "  <thead>\n",
       "    <tr style=\"text-align: right;\">\n",
       "      <th></th>\n",
       "      <th>Lat</th>\n",
       "      <th>Lng</th>\n",
       "      <th>Income</th>\n",
       "      <th>Outage_sec_perweek</th>\n",
       "      <th>Tenure</th>\n",
       "      <th>MonthlyCharge</th>\n",
       "      <th>Bandwidth_GB_Year</th>\n",
       "    </tr>\n",
       "  </thead>\n",
       "  <tbody>\n",
       "    <tr>\n",
       "      <th>PC1</th>\n",
       "      <td>-0.023929</td>\n",
       "      <td>0.007948</td>\n",
       "      <td>0.003751</td>\n",
       "      <td>0.005784</td>\n",
       "      <td>0.705612</td>\n",
       "      <td>0.040770</td>\n",
       "      <td>0.706941</td>\n",
       "    </tr>\n",
       "    <tr>\n",
       "      <th>PC2</th>\n",
       "      <td>0.699473</td>\n",
       "      <td>-0.706476</td>\n",
       "      <td>0.072029</td>\n",
       "      <td>-0.026424</td>\n",
       "      <td>0.020180</td>\n",
       "      <td>-0.071391</td>\n",
       "      <td>0.015428</td>\n",
       "    </tr>\n",
       "    <tr>\n",
       "      <th>PC3</th>\n",
       "      <td>-0.122083</td>\n",
       "      <td>0.003629</td>\n",
       "      <td>0.330376</td>\n",
       "      <td>-0.687545</td>\n",
       "      <td>0.038144</td>\n",
       "      <td>-0.633843</td>\n",
       "      <td>-0.001818</td>\n",
       "    </tr>\n",
       "    <tr>\n",
       "      <th>PC4</th>\n",
       "      <td>0.024641</td>\n",
       "      <td>0.072063</td>\n",
       "      <td>0.904620</td>\n",
       "      <td>0.045709</td>\n",
       "      <td>-0.028709</td>\n",
       "      <td>0.415871</td>\n",
       "      <td>-0.000478</td>\n",
       "    </tr>\n",
       "    <tr>\n",
       "      <th>PC5</th>\n",
       "      <td>-0.034349</td>\n",
       "      <td>0.030741</td>\n",
       "      <td>0.257294</td>\n",
       "      <td>0.721765</td>\n",
       "      <td>0.034436</td>\n",
       "      <td>-0.639926</td>\n",
       "      <td>-0.006245</td>\n",
       "    </tr>\n",
       "    <tr>\n",
       "      <th>PC6</th>\n",
       "      <td>-0.702476</td>\n",
       "      <td>-0.703332</td>\n",
       "      <td>0.033327</td>\n",
       "      <td>0.059290</td>\n",
       "      <td>-0.014295</td>\n",
       "      <td>0.083492</td>\n",
       "      <td>-0.007080</td>\n",
       "    </tr>\n",
       "    <tr>\n",
       "      <th>PC7</th>\n",
       "      <td>0.001028</td>\n",
       "      <td>0.000755</td>\n",
       "      <td>-0.001254</td>\n",
       "      <td>0.000025</td>\n",
       "      <td>-0.705716</td>\n",
       "      <td>-0.045372</td>\n",
       "      <td>0.707038</td>\n",
       "    </tr>\n",
       "  </tbody>\n",
       "</table>\n",
       "</div>"
      ],
      "text/plain": [
       "          Lat       Lng    Income  Outage_sec_perweek    Tenure  \\\n",
       "PC1 -0.023929  0.007948  0.003751            0.005784  0.705612   \n",
       "PC2  0.699473 -0.706476  0.072029           -0.026424  0.020180   \n",
       "PC3 -0.122083  0.003629  0.330376           -0.687545  0.038144   \n",
       "PC4  0.024641  0.072063  0.904620            0.045709 -0.028709   \n",
       "PC5 -0.034349  0.030741  0.257294            0.721765  0.034436   \n",
       "PC6 -0.702476 -0.703332  0.033327            0.059290 -0.014295   \n",
       "PC7  0.001028  0.000755 -0.001254            0.000025 -0.705716   \n",
       "\n",
       "     MonthlyCharge  Bandwidth_GB_Year  \n",
       "PC1       0.040770           0.706941  \n",
       "PC2      -0.071391           0.015428  \n",
       "PC3      -0.633843          -0.001818  \n",
       "PC4       0.415871          -0.000478  \n",
       "PC5      -0.639926          -0.006245  \n",
       "PC6       0.083492          -0.007080  \n",
       "PC7      -0.045372           0.707038  "
      ]
     },
     "execution_count": 27,
     "metadata": {},
     "output_type": "execute_result"
    }
   ],
   "source": [
    "#Create Loading Matrix\n",
    "loading_matrix = pd.DataFrame(pca.components_, columns = df.columns, index = ('PC1','PC2','PC3','PC4','PC5','PC6','PC7'))\n",
    "loading_matrix"
   ]
  },
  {
   "cell_type": "code",
   "execution_count": 63,
   "id": "3d99b92c-b48c-4fed-a12a-a9ac76941bb5",
   "metadata": {
    "tags": []
   },
   "outputs": [
    {
     "data": {
      "image/png": "[encoded data removed]",
      "text/plain": [
       "<Figure size 640x480 with 2 Axes>"
      ]
     },
     "metadata": {},
     "output_type": "display_data"
    }
   ],
   "source": [
    "#Create heat map to view the matrix with more detail\n",
    "matrix = sns.heatmap(loading_matrix, annot=True, cmap='Spectral')\n",
    "plt.show()"
   ]
  },
  {
   "cell_type": "code",
   "execution_count": 28,
   "id": "63a55114-68bc-4cb4-ab97-d171bb121b02",
   "metadata": {
    "tags": []
   },
   "outputs": [
    {
     "data": {
      "text/plain": [
       "array([0.28482577, 0.15730985, 0.14634016, 0.14256851, 0.1397677 ,\n",
       "       0.12826582, 0.00092219])"
      ]
     },
     "execution_count": 28,
     "metadata": {},
     "output_type": "execute_result"
    }
   ],
   "source": [
    "#transform pca into ratio for visual analysis and testing\n",
    "ratio = pca.explained_variance_ratio_\n",
    "ratio"
   ]
  },
  {
   "cell_type": "code",
   "execution_count": 42,
   "id": "96aada46-2150-4deb-96f7-48068a15b038",
   "metadata": {
    "tags": []
   },
   "outputs": [
    {
     "data": {
      "text/plain": [
       "array([0, 1, 2, 3, 4, 5, 6])"
      ]
     },
     "execution_count": 42,
     "metadata": {},
     "output_type": "execute_result"
    }
   ],
   "source": [
    "#Create an array with pca components\n",
    "comp = np.arange(pca.n_components_)\n",
    "comp"
   ]
  },
  {
   "cell_type": "code",
   "execution_count": 43,
   "id": "a3571948-8a3c-486c-842b-0f95c9d4b35b",
   "metadata": {
    "tags": []
   },
   "outputs": [
    {
     "data": {
      "image/png": "[encoded data removed]",
      "text/plain": [
       "<Figure size 640x480 with 1 Axes>"
      ]
     },
     "metadata": {},
     "output_type": "display_data"
    }
   ],
   "source": [
    "#Create plot for elbow method to determine significant principal components\n",
    "plt.plot(comp,\n",
    "         ratio,\n",
    "         'o-',\n",
    "        linewidth=2,\n",
    "        color='green')\n",
    "plt.title('Elbow Method Skree Plot')\n",
    "plt.xlabel('# of Components')\n",
    "plt.ylabel('Ratio')\n",
    "plt.grid()\n",
    "plt.show()"
   ]
  },
  {
   "cell_type": "code",
   "execution_count": 51,
   "id": "a367cad0-f3d7-4982-98c8-4de59e45d8ff",
   "metadata": {
    "tags": []
   },
   "outputs": [
    {
     "data": {
      "text/plain": [
       "array([1.9939798 , 1.10127908, 1.02448354, 0.9980794 , 0.97847176,\n",
       "       0.89795055, 0.00645594])"
      ]
     },
     "execution_count": 51,
     "metadata": {},
     "output_type": "execute_result"
    }
   ],
   "source": [
    "#Use Kaiser Method to determine most significant components\n",
    "var = pca.explained_variance_\n",
    "var"
   ]
  },
  {
   "cell_type": "code",
   "execution_count": 54,
   "id": "3cc72948-f02f-45a7-8dfd-04f458014321",
   "metadata": {
    "tags": []
   },
   "outputs": [
    {
     "data": {
      "image/png": "[encoded data removed]",
      "text/plain": [
       "<Figure size 640x480 with 1 Axes>"
      ]
     },
     "metadata": {},
     "output_type": "display_data"
    }
   ],
   "source": [
    "plt.plot(comp,\n",
    "         var,\n",
    "         'o-',\n",
    "         linewidth=2,\n",
    "         color='purple')\n",
    "plt.title('Kaiser Method Scree Plot')\n",
    "plt.xlabel('# of Components')\n",
    "plt.ylabel('Eigenvalues')\n",
    "plt.axhline(y = 1, color='green', linestyle='dashdot')\n",
    "plt.grid()\n",
    "plt.show()"
   ]
  },
  {
   "cell_type": "code",
   "execution_count": 58,
   "id": "843933f5-8107-4f5c-93d2-cb05ee2bd1ea",
   "metadata": {
    "tags": []
   },
   "outputs": [
    {
     "name": "stdout",
     "output_type": "stream",
     "text": [
      "{'PC1': 0, 'PC2': 1, 'PC3': 2, 'PC4': 3}\n"
     ]
    }
   ],
   "source": [
    "#Based on the elbow method PC1-PC4 are the most significant\n",
    "print(dict(zip(['PC1', 'PC2','PC3','PC4'], comp)))"
   ]
  },
  {
   "cell_type": "code",
   "execution_count": 61,
   "id": "84e45891-fb4a-4e07-8b40-450748688cc3",
   "metadata": {
    "tags": []
   },
   "outputs": [
    {
     "name": "stdout",
     "output_type": "stream",
     "text": [
      "Variance of First Four Principal Component: [1.9939798  1.10127908 1.02448354 0.9980794 ]\n"
     ]
    }
   ],
   "source": [
    "#Print variance of the first PC\n",
    "print(\"Variance of First Four Principal Component:\", pca.explained_variance_[:4])"
   ]
  },
  {
   "cell_type": "code",
   "execution_count": 62,
   "id": "2e5dcecb-685d-42e2-a719-f2645b46f8a5",
   "metadata": {
    "tags": []
   },
   "outputs": [
    {
     "data": {
      "text/plain": [
       "0.731044291439257"
      ]
     },
     "execution_count": 62,
     "metadata": {},
     "output_type": "execute_result"
    }
   ],
   "source": [
    "#determine total variance of the pc\n",
    "total_variance_captured = np.sum(pca.explained_variance_ratio_[:4])\n",
    "total_variance_captured"
   ]
  },
  {
   "cell_type": "code",
   "execution_count": null,
   "id": "7ac6a92f-4697-43a7-953c-7d5dd3b9e0c9",
   "metadata": {},
   "outputs": [],
   "source": []
  }
 ],
 "metadata": {
  "kernelspec": {
   "display_name": "Python 3 (ipykernel)",
   "language": "python",
   "name": "python3"
  },
  "language_info": {
   "codemirror_mode": {
    "name": "ipython",
    "version": 3
   },
   "file_extension": ".py",
   "mimetype": "text/x-python",
   "name": "python",
   "nbconvert_exporter": "python",
   "pygments_lexer": "ipython3",
   "version": "3.11.5"
  }
 },
 "nbformat": 4,
 "nbformat_minor": 5
}
