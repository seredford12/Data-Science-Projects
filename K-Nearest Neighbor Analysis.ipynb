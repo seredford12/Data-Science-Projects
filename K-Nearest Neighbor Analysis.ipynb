{
 "cells": [
  {
   "cell_type": "code",
   "execution_count": 1,
   "id": "441b8a0c-ae76-4022-9cb0-306fbc59621f",
   "metadata": {
    "tags": []
   },
   "outputs": [],
   "source": [
    "#import all necessary libraries\n",
    "import pandas as pd\n",
    "import numpy as np\n",
    "import matplotlib.pyplot as plt\n",
    "import seaborn as sns\n",
    "from sklearn.neighbors import KNeighborsClassifier \n",
    "from sklearn.metrics import accuracy_score, precision_score, recall_score, roc_curve, roc_auc_score \n",
    "from sklearn.model_selection import cross_val_score, train_test_split \n",
    "from sklearn.metrics import confusion_matrix\n",
    "from sklearn.preprocessing import StandardScaler\n",
    "import scipy.stats as stats"
   ]
  },
  {
   "cell_type": "code",
   "execution_count": 2,
   "id": "3953fd11-4bc8-457c-80fe-9e93066b6996",
   "metadata": {
    "tags": []
   },
   "outputs": [
    {
     "data": {
      "text/html": [
       "<div>\n",
       "<style scoped>\n",
       "    .dataframe tbody tr th:only-of-type {\n",
       "        vertical-align: middle;\n",
       "    }\n",
       "\n",
       "    .dataframe tbody tr th {\n",
       "        vertical-align: top;\n",
       "    }\n",
       "\n",
       "    .dataframe thead th {\n",
       "        text-align: right;\n",
       "    }\n",
       "</style>\n",
       "<table border=\"1\" class=\"dataframe\">\n",
       "  <thead>\n",
       "    <tr style=\"text-align: right;\">\n",
       "      <th></th>\n",
       "      <th>CaseOrder</th>\n",
       "      <th>Customer_id</th>\n",
       "      <th>Interaction</th>\n",
       "      <th>UID</th>\n",
       "      <th>City</th>\n",
       "      <th>State</th>\n",
       "      <th>County</th>\n",
       "      <th>Zip</th>\n",
       "      <th>Lat</th>\n",
       "      <th>Lng</th>\n",
       "      <th>...</th>\n",
       "      <th>MonthlyCharge</th>\n",
       "      <th>Bandwidth_GB_Year</th>\n",
       "      <th>Item1</th>\n",
       "      <th>Item2</th>\n",
       "      <th>Item3</th>\n",
       "      <th>Item4</th>\n",
       "      <th>Item5</th>\n",
       "      <th>Item6</th>\n",
       "      <th>Item7</th>\n",
       "      <th>Item8</th>\n",
       "    </tr>\n",
       "  </thead>\n",
       "  <tbody>\n",
       "    <tr>\n",
       "      <th>0</th>\n",
       "      <td>1</td>\n",
       "      <td>K409198</td>\n",
       "      <td>aa90260b-4141-4a24-8e36-b04ce1f4f77b</td>\n",
       "      <td>e885b299883d4f9fb18e39c75155d990</td>\n",
       "      <td>Point Baker</td>\n",
       "      <td>AK</td>\n",
       "      <td>Prince of Wales-Hyder</td>\n",
       "      <td>99927</td>\n",
       "      <td>56.25100</td>\n",
       "      <td>-133.37571</td>\n",
       "      <td>...</td>\n",
       "      <td>172.455519</td>\n",
       "      <td>904.536110</td>\n",
       "      <td>5</td>\n",
       "      <td>5</td>\n",
       "      <td>5</td>\n",
       "      <td>3</td>\n",
       "      <td>4</td>\n",
       "      <td>4</td>\n",
       "      <td>3</td>\n",
       "      <td>4</td>\n",
       "    </tr>\n",
       "    <tr>\n",
       "      <th>1</th>\n",
       "      <td>2</td>\n",
       "      <td>S120509</td>\n",
       "      <td>fb76459f-c047-4a9d-8af9-e0f7d4ac2524</td>\n",
       "      <td>f2de8bef964785f41a2959829830fb8a</td>\n",
       "      <td>West Branch</td>\n",
       "      <td>MI</td>\n",
       "      <td>Ogemaw</td>\n",
       "      <td>48661</td>\n",
       "      <td>44.32893</td>\n",
       "      <td>-84.24080</td>\n",
       "      <td>...</td>\n",
       "      <td>242.632554</td>\n",
       "      <td>800.982766</td>\n",
       "      <td>3</td>\n",
       "      <td>4</td>\n",
       "      <td>3</td>\n",
       "      <td>3</td>\n",
       "      <td>4</td>\n",
       "      <td>3</td>\n",
       "      <td>4</td>\n",
       "      <td>4</td>\n",
       "    </tr>\n",
       "    <tr>\n",
       "      <th>2</th>\n",
       "      <td>3</td>\n",
       "      <td>K191035</td>\n",
       "      <td>344d114c-3736-4be5-98f7-c72c281e2d35</td>\n",
       "      <td>f1784cfa9f6d92ae816197eb175d3c71</td>\n",
       "      <td>Yamhill</td>\n",
       "      <td>OR</td>\n",
       "      <td>Yamhill</td>\n",
       "      <td>97148</td>\n",
       "      <td>45.35589</td>\n",
       "      <td>-123.24657</td>\n",
       "      <td>...</td>\n",
       "      <td>159.947583</td>\n",
       "      <td>2054.706961</td>\n",
       "      <td>4</td>\n",
       "      <td>4</td>\n",
       "      <td>2</td>\n",
       "      <td>4</td>\n",
       "      <td>4</td>\n",
       "      <td>3</td>\n",
       "      <td>3</td>\n",
       "      <td>3</td>\n",
       "    </tr>\n",
       "    <tr>\n",
       "      <th>3</th>\n",
       "      <td>4</td>\n",
       "      <td>D90850</td>\n",
       "      <td>abfa2b40-2d43-4994-b15a-989b8c79e311</td>\n",
       "      <td>dc8a365077241bb5cd5ccd305136b05e</td>\n",
       "      <td>Del Mar</td>\n",
       "      <td>CA</td>\n",
       "      <td>San Diego</td>\n",
       "      <td>92014</td>\n",
       "      <td>32.96687</td>\n",
       "      <td>-117.24798</td>\n",
       "      <td>...</td>\n",
       "      <td>119.956840</td>\n",
       "      <td>2164.579412</td>\n",
       "      <td>4</td>\n",
       "      <td>4</td>\n",
       "      <td>4</td>\n",
       "      <td>2</td>\n",
       "      <td>5</td>\n",
       "      <td>4</td>\n",
       "      <td>3</td>\n",
       "      <td>3</td>\n",
       "    </tr>\n",
       "    <tr>\n",
       "      <th>4</th>\n",
       "      <td>5</td>\n",
       "      <td>K662701</td>\n",
       "      <td>68a861fd-0d20-4e51-a587-8a90407ee574</td>\n",
       "      <td>aabb64a116e83fdc4befc1fbab1663f9</td>\n",
       "      <td>Needville</td>\n",
       "      <td>TX</td>\n",
       "      <td>Fort Bend</td>\n",
       "      <td>77461</td>\n",
       "      <td>29.38012</td>\n",
       "      <td>-95.80673</td>\n",
       "      <td>...</td>\n",
       "      <td>149.948316</td>\n",
       "      <td>271.493436</td>\n",
       "      <td>4</td>\n",
       "      <td>4</td>\n",
       "      <td>4</td>\n",
       "      <td>3</td>\n",
       "      <td>4</td>\n",
       "      <td>4</td>\n",
       "      <td>4</td>\n",
       "      <td>5</td>\n",
       "    </tr>\n",
       "  </tbody>\n",
       "</table>\n",
       "<p>5 rows × 50 columns</p>\n",
       "</div>"
      ],
      "text/plain": [
       "   CaseOrder Customer_id                           Interaction  \\\n",
       "0          1     K409198  aa90260b-4141-4a24-8e36-b04ce1f4f77b   \n",
       "1          2     S120509  fb76459f-c047-4a9d-8af9-e0f7d4ac2524   \n",
       "2          3     K191035  344d114c-3736-4be5-98f7-c72c281e2d35   \n",
       "3          4      D90850  abfa2b40-2d43-4994-b15a-989b8c79e311   \n",
       "4          5     K662701  68a861fd-0d20-4e51-a587-8a90407ee574   \n",
       "\n",
       "                                UID         City State                 County  \\\n",
       "0  e885b299883d4f9fb18e39c75155d990  Point Baker    AK  Prince of Wales-Hyder   \n",
       "1  f2de8bef964785f41a2959829830fb8a  West Branch    MI                 Ogemaw   \n",
       "2  f1784cfa9f6d92ae816197eb175d3c71      Yamhill    OR                Yamhill   \n",
       "3  dc8a365077241bb5cd5ccd305136b05e      Del Mar    CA              San Diego   \n",
       "4  aabb64a116e83fdc4befc1fbab1663f9    Needville    TX              Fort Bend   \n",
       "\n",
       "     Zip       Lat        Lng  ...  MonthlyCharge Bandwidth_GB_Year Item1  \\\n",
       "0  99927  56.25100 -133.37571  ...     172.455519        904.536110     5   \n",
       "1  48661  44.32893  -84.24080  ...     242.632554        800.982766     3   \n",
       "2  97148  45.35589 -123.24657  ...     159.947583       2054.706961     4   \n",
       "3  92014  32.96687 -117.24798  ...     119.956840       2164.579412     4   \n",
       "4  77461  29.38012  -95.80673  ...     149.948316        271.493436     4   \n",
       "\n",
       "  Item2  Item3  Item4  Item5 Item6 Item7 Item8  \n",
       "0     5      5      3      4     4     3     4  \n",
       "1     4      3      3      4     3     4     4  \n",
       "2     4      2      4      4     3     3     3  \n",
       "3     4      4      2      5     4     3     3  \n",
       "4     4      4      3      4     4     4     5  \n",
       "\n",
       "[5 rows x 50 columns]"
      ]
     },
     "execution_count": 2,
     "metadata": {},
     "output_type": "execute_result"
    }
   ],
   "source": [
    "#import churn dataset\n",
    "churn_data = pd.read_csv(\"C:/Users/sered/OneDrive/Desktop/WGU Masters Degree/D209/Assessment 1/churn_clean.csv\")\n",
    "\n",
    "churn_data.head(5)"
   ]
  },
  {
   "cell_type": "code",
   "execution_count": 3,
   "id": "11406de5-f5b5-4654-9911-09aa55b8b006",
   "metadata": {
    "tags": []
   },
   "outputs": [
    {
     "name": "stdout",
     "output_type": "stream",
     "text": [
      "False    10000\n",
      "Name: count, dtype: int64\n"
     ]
    }
   ],
   "source": [
    "#check for duplicate values\n",
    "print(churn_data.duplicated().value_counts())"
   ]
  },
  {
   "cell_type": "code",
   "execution_count": 4,
   "id": "245a52bb-4b5d-45c0-94b1-5ebbe0f844e4",
   "metadata": {
    "tags": []
   },
   "outputs": [
    {
     "data": {
      "text/plain": [
       "CaseOrder                  0\n",
       "Customer_id                0\n",
       "Interaction                0\n",
       "UID                        0\n",
       "City                       0\n",
       "State                      0\n",
       "County                     0\n",
       "Zip                        0\n",
       "Lat                        0\n",
       "Lng                        0\n",
       "Population                 0\n",
       "Area                       0\n",
       "TimeZone                   0\n",
       "Job                        0\n",
       "Children                   0\n",
       "Age                        0\n",
       "Income                     0\n",
       "Marital                    0\n",
       "Gender                     0\n",
       "Churn                      0\n",
       "Outage_sec_perweek         0\n",
       "Email                      0\n",
       "Contacts                   0\n",
       "Yearly_equip_failure       0\n",
       "Techie                     0\n",
       "Contract                   0\n",
       "Port_modem                 0\n",
       "Tablet                     0\n",
       "InternetService         2129\n",
       "Phone                      0\n",
       "Multiple                   0\n",
       "OnlineSecurity             0\n",
       "OnlineBackup               0\n",
       "DeviceProtection           0\n",
       "TechSupport                0\n",
       "StreamingTV                0\n",
       "StreamingMovies            0\n",
       "PaperlessBilling           0\n",
       "PaymentMethod              0\n",
       "Tenure                     0\n",
       "MonthlyCharge              0\n",
       "Bandwidth_GB_Year          0\n",
       "Item1                      0\n",
       "Item2                      0\n",
       "Item3                      0\n",
       "Item4                      0\n",
       "Item5                      0\n",
       "Item6                      0\n",
       "Item7                      0\n",
       "Item8                      0\n",
       "dtype: int64"
      ]
     },
     "execution_count": 4,
     "metadata": {},
     "output_type": "execute_result"
    }
   ],
   "source": [
    "#check for missing values\n",
    "churn_data.isnull().sum()"
   ]
  },
  {
   "cell_type": "code",
   "execution_count": 5,
   "id": "3072a501-54d6-44e4-a0fc-2950b10b642c",
   "metadata": {
    "tags": []
   },
   "outputs": [],
   "source": [
    "#change the \"None\" value in column InternetService to \"Not Provided\" because we need that data without it appearing as null\n",
    "churn_data['InternetService'] = churn_data['InternetService'].fillna('Not Provided')"
   ]
  },
  {
   "cell_type": "code",
   "execution_count": 6,
   "id": "11486be1-3212-4c4f-8e25-1a5a77fbd5ff",
   "metadata": {
    "tags": []
   },
   "outputs": [
    {
     "data": {
      "text/plain": [
       "0     Fiber Optic\n",
       "1     Fiber Optic\n",
       "2             DSL\n",
       "3             DSL\n",
       "4     Fiber Optic\n",
       "5    Not Provided\n",
       "6             DSL\n",
       "7             DSL\n",
       "8             DSL\n",
       "9     Fiber Optic\n",
       "Name: InternetService, dtype: object"
      ]
     },
     "execution_count": 6,
     "metadata": {},
     "output_type": "execute_result"
    }
   ],
   "source": [
    "#verify change worked correctly\n",
    "churn_data['InternetService'].head(10)"
   ]
  },
  {
   "cell_type": "code",
   "execution_count": 7,
   "id": "e7c1a2aa-a298-432d-a9fe-c9e52df88041",
   "metadata": {
    "tags": []
   },
   "outputs": [
    {
     "data": {
      "text/plain": [
       "CaseOrder               0\n",
       "Customer_id             0\n",
       "Interaction             0\n",
       "UID                     0\n",
       "City                    0\n",
       "State                   0\n",
       "County                  0\n",
       "Zip                     0\n",
       "Lat                     0\n",
       "Lng                     0\n",
       "Population              0\n",
       "Area                    0\n",
       "TimeZone                0\n",
       "Job                     0\n",
       "Children                0\n",
       "Age                     0\n",
       "Income                  0\n",
       "Marital                 0\n",
       "Gender                  0\n",
       "Churn                   0\n",
       "Outage_sec_perweek      0\n",
       "Email                   0\n",
       "Contacts                0\n",
       "Yearly_equip_failure    0\n",
       "Techie                  0\n",
       "Contract                0\n",
       "Port_modem              0\n",
       "Tablet                  0\n",
       "InternetService         0\n",
       "Phone                   0\n",
       "Multiple                0\n",
       "OnlineSecurity          0\n",
       "OnlineBackup            0\n",
       "DeviceProtection        0\n",
       "TechSupport             0\n",
       "StreamingTV             0\n",
       "StreamingMovies         0\n",
       "PaperlessBilling        0\n",
       "PaymentMethod           0\n",
       "Tenure                  0\n",
       "MonthlyCharge           0\n",
       "Bandwidth_GB_Year       0\n",
       "Item1                   0\n",
       "Item2                   0\n",
       "Item3                   0\n",
       "Item4                   0\n",
       "Item5                   0\n",
       "Item6                   0\n",
       "Item7                   0\n",
       "Item8                   0\n",
       "dtype: int64"
      ]
     },
     "execution_count": 7,
     "metadata": {},
     "output_type": "execute_result"
    }
   ],
   "source": [
    "#verify that there are no longer \"null\" values in the InternetService column\n",
    "churn_data.isnull().sum()"
   ]
  },
  {
   "cell_type": "code",
   "execution_count": 8,
   "id": "81518d21-64b5-4b7a-ba1a-f2c7624afe01",
   "metadata": {
    "tags": []
   },
   "outputs": [],
   "source": [
    "#Rename the survey columns to be used later\n",
    "churn_data.rename(columns = {'Item1': 'Timely_Response',\n",
    "                             'Item2': 'Timely_Fixes',\n",
    "                             'Item3': 'Timely_Replacements',\n",
    "                             'Item4': 'Reliability',\n",
    "                             'Item5': 'Options',\n",
    "                             'Item6': 'Respectful_Response',\n",
    "                             'Item7': 'Courteous_Exchange',\n",
    "                             'Item8': 'Active_Listening'},\n",
    "                  inplace = True)                             "
   ]
  },
  {
   "cell_type": "code",
   "execution_count": 9,
   "id": "4dfef919-26d7-40d9-a6ba-7613aef66cca",
   "metadata": {
    "tags": []
   },
   "outputs": [
    {
     "data": {
      "image/png": "[encoded data removed]",
      "text/plain": [
       "<Figure size 640x480 with 20 Axes>"
      ]
     },
     "metadata": {},
     "output_type": "display_data"
    }
   ],
   "source": [
    "#Create histograms of numeric variables to check for outliers\n",
    "churn_data[['Children','Age','Income','Outage_sec_perweek','Email','Contacts','Yearly_equip_failure','Tenure','MonthlyCharge','Bandwidth_GB_Year',\n",
    "            'Timely_Response','Timely_Fixes','Timely_Replacements','Reliability','Options','Respectful_Response','Courteous_Exchange','Active_Listening']].hist()\n",
    "plt.tight_layout()"
   ]
  },
  {
   "cell_type": "code",
   "execution_count": 10,
   "id": "cab75d97-5012-4ac1-94aa-4c170e1d767d",
   "metadata": {
    "tags": []
   },
   "outputs": [
    {
     "data": {
      "image/png": "[encoded data removed]",
      "text/plain": [
       "<Figure size 640x480 with 1 Axes>"
      ]
     },
     "metadata": {},
     "output_type": "display_data"
    },
    {
     "data": {
      "image/png": "[encoded data removed]",
      "text/plain": [
       "<Figure size 640x480 with 1 Axes>"
      ]
     },
     "metadata": {},
     "output_type": "display_data"
    },
    {
     "data": {
      "image/png": "[encoded data removed]",
      "text/plain": [
       "<Figure size 640x480 with 1 Axes>"
      ]
     },
     "metadata": {},
     "output_type": "display_data"
    },
    {
     "data": {
      "image/png": "[encoded data removed]",
      "text/plain": [
       "<Figure size 640x480 with 1 Axes>"
      ]
     },
     "metadata": {},
     "output_type": "display_data"
    },
    {
     "data": {
      "image/png": "[encoded data removed]",
      "text/plain": [
       "<Figure size 640x480 with 1 Axes>"
      ]
     },
     "metadata": {},
     "output_type": "display_data"
    },
    {
     "data": {
      "image/png": "[encoded data removed]",
      "text/plain": [
       "<Figure size 640x480 with 1 Axes>"
      ]
     },
     "metadata": {},
     "output_type": "display_data"
    },
    {
     "data": {
      "image/png": "[encoded data removed]",
      "text/plain": [
       "<Figure size 640x480 with 1 Axes>"
      ]
     },
     "metadata": {},
     "output_type": "display_data"
    },
    {
     "data": {
      "image/png": "[encoded data removed]",
      "text/plain": [
       "<Figure size 640x480 with 1 Axes>"
      ]
     },
     "metadata": {},
     "output_type": "display_data"
    },
    {
     "data": {
      "image/png": "[encoded data removed]",
      "text/plain": [
       "<Figure size 640x480 with 1 Axes>"
      ]
     },
     "metadata": {},
     "output_type": "display_data"
    },
    {
     "data": {
      "image/png": "[encoded data removed]",
      "text/plain": [
       "<Figure size 640x480 with 1 Axes>"
      ]
     },
     "metadata": {},
     "output_type": "display_data"
    },
    {
     "data": {
      "image/png": "[encoded data removed]",
      "text/plain": [
       "<Figure size 640x480 with 1 Axes>"
      ]
     },
     "metadata": {},
     "output_type": "display_data"
    },
    {
     "data": {
      "text/plain": [
       "<Figure size 640x480 with 0 Axes>"
      ]
     },
     "metadata": {},
     "output_type": "display_data"
    }
   ],
   "source": [
    "#Create bar graphs to check for outliers in the categorical variables\n",
    "churn_data['Phone'].value_counts().plot(kind='bar')\n",
    "plt.figure(0)\n",
    "\n",
    "churn_data['Multiple'].value_counts().plot(kind='bar')\n",
    "plt.figure(1)\n",
    "\n",
    "churn_data['Marital'].value_counts().plot(kind='bar')\n",
    "plt.figure(2)\n",
    "\n",
    "churn_data['Gender'].value_counts().plot(kind='bar')\n",
    "plt.figure(3)\n",
    "\n",
    "churn_data['Techie'].value_counts().plot(kind='bar')\n",
    "plt.figure(4)\n",
    "\n",
    "churn_data['Contract'].value_counts().plot(kind='bar')\n",
    "plt.figure(5)\n",
    "\n",
    "churn_data['Port_modem'].value_counts().plot(kind='bar')\n",
    "plt.figure(6)\n",
    "\n",
    "churn_data['Tablet'].value_counts().plot(kind='bar')\n",
    "plt.figure(7)\n",
    "\n",
    "churn_data['InternetService'].value_counts().plot(kind='bar')\n",
    "plt.figure(8)\n",
    "\n",
    "churn_data['OnlineSecurity'].value_counts().plot(kind='bar')\n",
    "plt.figure(9)\n",
    "\n",
    "churn_data['PaperlessBilling'].value_counts().plot(kind='bar')\n",
    "plt.figure(10)\n",
    "\n",
    "churn_data['PaymentMethod'].value_counts().plot(kind='bar')\n",
    "plt.figure(11)\n",
    "\n",
    "plt.tight_layout()"
   ]
  },
  {
   "cell_type": "code",
   "execution_count": 11,
   "id": "1c2493c2-9b24-4caf-876d-9c3411b2229a",
   "metadata": {
    "tags": []
   },
   "outputs": [
    {
     "data": {
      "text/plain": [
       "0    0\n",
       "1    1\n",
       "2    1\n",
       "3    1\n",
       "4    0\n",
       "5    0\n",
       "6    1\n",
       "7    1\n",
       "8    0\n",
       "9    0\n",
       "Name: Techie, dtype: int64"
      ]
     },
     "execution_count": 11,
     "metadata": {},
     "output_type": "execute_result"
    }
   ],
   "source": [
    "#Wrangle the data\n",
    "#Encode Categorical data as numerical\n",
    "#Binary variables encoded with 1 for Yes and 0 For No\n",
    "\n",
    "churn_data['Techie'] = churn_data['Techie'].map(\n",
    "    {'Yes':1, 'No':0})\n",
    "churn_data['Techie'].head(10)"
   ]
  },
  {
   "cell_type": "code",
   "execution_count": 12,
   "id": "33a59c92-e796-4dcb-97fc-3d7a4d518f5d",
   "metadata": {
    "tags": []
   },
   "outputs": [
    {
     "data": {
      "text/plain": [
       "0    1\n",
       "1    0\n",
       "2    1\n",
       "3    0\n",
       "4    1\n",
       "5    1\n",
       "6    0\n",
       "7    0\n",
       "8    1\n",
       "9    1\n",
       "Name: Port_modem, dtype: int64"
      ]
     },
     "execution_count": 12,
     "metadata": {},
     "output_type": "execute_result"
    }
   ],
   "source": [
    "churn_data['Port_modem'] = churn_data['Port_modem'].map(\n",
    "    {'Yes':1, 'No':0})\n",
    "churn_data['Port_modem'].head(10)"
   ]
  },
  {
   "cell_type": "code",
   "execution_count": 13,
   "id": "205f571c-7430-4b4e-b4e3-06e8b9f0ef77",
   "metadata": {
    "tags": []
   },
   "outputs": [
    {
     "data": {
      "text/plain": [
       "0    1\n",
       "1    1\n",
       "2    0\n",
       "3    0\n",
       "4    0\n",
       "5    0\n",
       "6    0\n",
       "7    0\n",
       "8    0\n",
       "9    0\n",
       "Name: Tablet, dtype: int64"
      ]
     },
     "execution_count": 13,
     "metadata": {},
     "output_type": "execute_result"
    }
   ],
   "source": [
    "churn_data['Tablet'] = churn_data['Tablet'].map(\n",
    "    {'Yes':1, 'No':0})\n",
    "churn_data['Tablet'].head(10)"
   ]
  },
  {
   "cell_type": "code",
   "execution_count": 14,
   "id": "d7ebe03c-9d4b-418f-9f34-9f1caa703eac",
   "metadata": {
    "tags": []
   },
   "outputs": [
    {
     "data": {
      "text/plain": [
       "0    1\n",
       "1    1\n",
       "2    1\n",
       "3    1\n",
       "4    0\n",
       "5    1\n",
       "6    1\n",
       "7    0\n",
       "8    1\n",
       "9    1\n",
       "Name: Phone, dtype: int64"
      ]
     },
     "execution_count": 14,
     "metadata": {},
     "output_type": "execute_result"
    }
   ],
   "source": [
    "churn_data['Phone'] = churn_data['Phone'].map(\n",
    "    {'Yes':1, 'No':0})\n",
    "churn_data['Phone'].head(10)"
   ]
  },
  {
   "cell_type": "code",
   "execution_count": 15,
   "id": "8f0f288e-809b-44e2-bbe7-e39ed1f72cc0",
   "metadata": {
    "tags": []
   },
   "outputs": [
    {
     "data": {
      "text/plain": [
       "0    0\n",
       "1    1\n",
       "2    1\n",
       "3    0\n",
       "4    0\n",
       "5    1\n",
       "6    0\n",
       "7    0\n",
       "8    0\n",
       "9    0\n",
       "Name: Multiple, dtype: int64"
      ]
     },
     "execution_count": 15,
     "metadata": {},
     "output_type": "execute_result"
    }
   ],
   "source": [
    "churn_data['Multiple'] = churn_data['Multiple'].map(\n",
    "    {'Yes':1, 'No':0})\n",
    "churn_data['Multiple'].head(10)"
   ]
  },
  {
   "cell_type": "code",
   "execution_count": 16,
   "id": "91a30d49-c66f-42e8-85d4-c1a0f9845a11",
   "metadata": {
    "tags": []
   },
   "outputs": [
    {
     "data": {
      "text/plain": [
       "0    1\n",
       "1    1\n",
       "2    0\n",
       "3    1\n",
       "4    0\n",
       "5    1\n",
       "6    0\n",
       "7    0\n",
       "8    1\n",
       "9    1\n",
       "Name: OnlineSecurity, dtype: int64"
      ]
     },
     "execution_count": 16,
     "metadata": {},
     "output_type": "execute_result"
    }
   ],
   "source": [
    "churn_data['OnlineSecurity'] = churn_data['OnlineSecurity'].map(\n",
    "    {'Yes':1, 'No':0})\n",
    "churn_data['OnlineSecurity'].head(10)"
   ]
  },
  {
   "cell_type": "code",
   "execution_count": 17,
   "id": "6dffd1e3-f1f1-4ad7-b10f-80a8a3cd68c1",
   "metadata": {
    "tags": []
   },
   "outputs": [
    {
     "data": {
      "text/plain": [
       "0    1\n",
       "1    1\n",
       "2    1\n",
       "3    1\n",
       "4    0\n",
       "5    0\n",
       "6    0\n",
       "7    1\n",
       "8    1\n",
       "9    1\n",
       "Name: PaperlessBilling, dtype: int64"
      ]
     },
     "execution_count": 17,
     "metadata": {},
     "output_type": "execute_result"
    }
   ],
   "source": [
    "churn_data['PaperlessBilling'] = churn_data['PaperlessBilling'].map(\n",
    "    {'Yes':1, 'No':0})\n",
    "churn_data['PaperlessBilling'].head(10)"
   ]
  },
  {
   "cell_type": "code",
   "execution_count": 18,
   "id": "39ce1276-bccb-47c4-9028-fca5560ef4c8",
   "metadata": {
    "tags": []
   },
   "outputs": [
    {
     "data": {
      "text/plain": [
       "0    0\n",
       "1    1\n",
       "2    0\n",
       "3    0\n",
       "4    1\n",
       "5    0\n",
       "6    1\n",
       "7    1\n",
       "8    0\n",
       "9    0\n",
       "Name: Churn, dtype: int64"
      ]
     },
     "execution_count": 18,
     "metadata": {},
     "output_type": "execute_result"
    }
   ],
   "source": [
    "churn_data['Churn'] = churn_data['Churn'].map(\n",
    "    {'Yes':1, 'No':0})\n",
    "churn_data['Churn'].head(10)"
   ]
  },
  {
   "cell_type": "code",
   "execution_count": 19,
   "id": "3c7d69fa-c3e7-4881-82ba-8a03c35ff4e8",
   "metadata": {
    "tags": []
   },
   "outputs": [
    {
     "data": {
      "text/html": [
       "<div>\n",
       "<style scoped>\n",
       "    .dataframe tbody tr th:only-of-type {\n",
       "        vertical-align: middle;\n",
       "    }\n",
       "\n",
       "    .dataframe tbody tr th {\n",
       "        vertical-align: top;\n",
       "    }\n",
       "\n",
       "    .dataframe thead th {\n",
       "        text-align: right;\n",
       "    }\n",
       "</style>\n",
       "<table border=\"1\" class=\"dataframe\">\n",
       "  <thead>\n",
       "    <tr style=\"text-align: right;\">\n",
       "      <th></th>\n",
       "      <th>CaseOrder</th>\n",
       "      <th>Customer_id</th>\n",
       "      <th>Interaction</th>\n",
       "      <th>UID</th>\n",
       "      <th>City</th>\n",
       "      <th>State</th>\n",
       "      <th>County</th>\n",
       "      <th>Zip</th>\n",
       "      <th>Lat</th>\n",
       "      <th>Lng</th>\n",
       "      <th>...</th>\n",
       "      <th>Marital_Widowed</th>\n",
       "      <th>Gender_Male</th>\n",
       "      <th>Gender_Nonbinary</th>\n",
       "      <th>Contract_One year</th>\n",
       "      <th>Contract_Two Year</th>\n",
       "      <th>InternetService_Fiber Optic</th>\n",
       "      <th>InternetService_Not Provided</th>\n",
       "      <th>PaymentMethod_Credit Card (automatic)</th>\n",
       "      <th>PaymentMethod_Electronic Check</th>\n",
       "      <th>PaymentMethod_Mailed Check</th>\n",
       "    </tr>\n",
       "  </thead>\n",
       "  <tbody>\n",
       "    <tr>\n",
       "      <th>0</th>\n",
       "      <td>1</td>\n",
       "      <td>K409198</td>\n",
       "      <td>aa90260b-4141-4a24-8e36-b04ce1f4f77b</td>\n",
       "      <td>e885b299883d4f9fb18e39c75155d990</td>\n",
       "      <td>Point Baker</td>\n",
       "      <td>AK</td>\n",
       "      <td>Prince of Wales-Hyder</td>\n",
       "      <td>99927</td>\n",
       "      <td>56.25100</td>\n",
       "      <td>-133.37571</td>\n",
       "      <td>...</td>\n",
       "      <td>1</td>\n",
       "      <td>1</td>\n",
       "      <td>0</td>\n",
       "      <td>1</td>\n",
       "      <td>0</td>\n",
       "      <td>1</td>\n",
       "      <td>0</td>\n",
       "      <td>1</td>\n",
       "      <td>0</td>\n",
       "      <td>0</td>\n",
       "    </tr>\n",
       "    <tr>\n",
       "      <th>1</th>\n",
       "      <td>2</td>\n",
       "      <td>S120509</td>\n",
       "      <td>fb76459f-c047-4a9d-8af9-e0f7d4ac2524</td>\n",
       "      <td>f2de8bef964785f41a2959829830fb8a</td>\n",
       "      <td>West Branch</td>\n",
       "      <td>MI</td>\n",
       "      <td>Ogemaw</td>\n",
       "      <td>48661</td>\n",
       "      <td>44.32893</td>\n",
       "      <td>-84.24080</td>\n",
       "      <td>...</td>\n",
       "      <td>0</td>\n",
       "      <td>0</td>\n",
       "      <td>0</td>\n",
       "      <td>0</td>\n",
       "      <td>0</td>\n",
       "      <td>1</td>\n",
       "      <td>0</td>\n",
       "      <td>0</td>\n",
       "      <td>0</td>\n",
       "      <td>0</td>\n",
       "    </tr>\n",
       "    <tr>\n",
       "      <th>2</th>\n",
       "      <td>3</td>\n",
       "      <td>K191035</td>\n",
       "      <td>344d114c-3736-4be5-98f7-c72c281e2d35</td>\n",
       "      <td>f1784cfa9f6d92ae816197eb175d3c71</td>\n",
       "      <td>Yamhill</td>\n",
       "      <td>OR</td>\n",
       "      <td>Yamhill</td>\n",
       "      <td>97148</td>\n",
       "      <td>45.35589</td>\n",
       "      <td>-123.24657</td>\n",
       "      <td>...</td>\n",
       "      <td>1</td>\n",
       "      <td>0</td>\n",
       "      <td>0</td>\n",
       "      <td>0</td>\n",
       "      <td>1</td>\n",
       "      <td>0</td>\n",
       "      <td>0</td>\n",
       "      <td>1</td>\n",
       "      <td>0</td>\n",
       "      <td>0</td>\n",
       "    </tr>\n",
       "    <tr>\n",
       "      <th>3</th>\n",
       "      <td>4</td>\n",
       "      <td>D90850</td>\n",
       "      <td>abfa2b40-2d43-4994-b15a-989b8c79e311</td>\n",
       "      <td>dc8a365077241bb5cd5ccd305136b05e</td>\n",
       "      <td>Del Mar</td>\n",
       "      <td>CA</td>\n",
       "      <td>San Diego</td>\n",
       "      <td>92014</td>\n",
       "      <td>32.96687</td>\n",
       "      <td>-117.24798</td>\n",
       "      <td>...</td>\n",
       "      <td>0</td>\n",
       "      <td>1</td>\n",
       "      <td>0</td>\n",
       "      <td>0</td>\n",
       "      <td>1</td>\n",
       "      <td>0</td>\n",
       "      <td>0</td>\n",
       "      <td>0</td>\n",
       "      <td>0</td>\n",
       "      <td>1</td>\n",
       "    </tr>\n",
       "    <tr>\n",
       "      <th>4</th>\n",
       "      <td>5</td>\n",
       "      <td>K662701</td>\n",
       "      <td>68a861fd-0d20-4e51-a587-8a90407ee574</td>\n",
       "      <td>aabb64a116e83fdc4befc1fbab1663f9</td>\n",
       "      <td>Needville</td>\n",
       "      <td>TX</td>\n",
       "      <td>Fort Bend</td>\n",
       "      <td>77461</td>\n",
       "      <td>29.38012</td>\n",
       "      <td>-95.80673</td>\n",
       "      <td>...</td>\n",
       "      <td>0</td>\n",
       "      <td>1</td>\n",
       "      <td>0</td>\n",
       "      <td>0</td>\n",
       "      <td>0</td>\n",
       "      <td>1</td>\n",
       "      <td>0</td>\n",
       "      <td>0</td>\n",
       "      <td>0</td>\n",
       "      <td>1</td>\n",
       "    </tr>\n",
       "    <tr>\n",
       "      <th>5</th>\n",
       "      <td>6</td>\n",
       "      <td>W303516</td>\n",
       "      <td>2b451d12-6c2b-4cea-a295-ba1d6bced078</td>\n",
       "      <td>97598fd95658c80500546bc1dd312994</td>\n",
       "      <td>Fort Valley</td>\n",
       "      <td>GA</td>\n",
       "      <td>Peach</td>\n",
       "      <td>31030</td>\n",
       "      <td>32.57032</td>\n",
       "      <td>-83.89040</td>\n",
       "      <td>...</td>\n",
       "      <td>0</td>\n",
       "      <td>0</td>\n",
       "      <td>0</td>\n",
       "      <td>1</td>\n",
       "      <td>0</td>\n",
       "      <td>0</td>\n",
       "      <td>1</td>\n",
       "      <td>0</td>\n",
       "      <td>1</td>\n",
       "      <td>0</td>\n",
       "    </tr>\n",
       "    <tr>\n",
       "      <th>6</th>\n",
       "      <td>7</td>\n",
       "      <td>U335188</td>\n",
       "      <td>6630d501-838c-4be4-a59c-6f58c814ed6a</td>\n",
       "      <td>87d1c4223e49156020564c01a88973b9</td>\n",
       "      <td>Pioneer</td>\n",
       "      <td>TN</td>\n",
       "      <td>Scott</td>\n",
       "      <td>37847</td>\n",
       "      <td>36.43420</td>\n",
       "      <td>-84.27892</td>\n",
       "      <td>...</td>\n",
       "      <td>1</td>\n",
       "      <td>1</td>\n",
       "      <td>0</td>\n",
       "      <td>0</td>\n",
       "      <td>0</td>\n",
       "      <td>0</td>\n",
       "      <td>0</td>\n",
       "      <td>0</td>\n",
       "      <td>1</td>\n",
       "      <td>0</td>\n",
       "    </tr>\n",
       "    <tr>\n",
       "      <th>7</th>\n",
       "      <td>8</td>\n",
       "      <td>V538685</td>\n",
       "      <td>70ddaa89-b726-49dc-9022-2d655e4c7936</td>\n",
       "      <td>fce3f21888317907de42e298d718ccce</td>\n",
       "      <td>Oklahoma City</td>\n",
       "      <td>OK</td>\n",
       "      <td>Oklahoma</td>\n",
       "      <td>73109</td>\n",
       "      <td>35.43313</td>\n",
       "      <td>-97.52463</td>\n",
       "      <td>...</td>\n",
       "      <td>0</td>\n",
       "      <td>0</td>\n",
       "      <td>0</td>\n",
       "      <td>0</td>\n",
       "      <td>0</td>\n",
       "      <td>0</td>\n",
       "      <td>0</td>\n",
       "      <td>0</td>\n",
       "      <td>0</td>\n",
       "      <td>1</td>\n",
       "    </tr>\n",
       "    <tr>\n",
       "      <th>8</th>\n",
       "      <td>9</td>\n",
       "      <td>M716771</td>\n",
       "      <td>05a49ee3-8fd5-453a-a5f3-82b6cd986856</td>\n",
       "      <td>6c7043ced703b84de29766af3d53c976</td>\n",
       "      <td>Saint Cloud</td>\n",
       "      <td>FL</td>\n",
       "      <td>Osceola</td>\n",
       "      <td>34771</td>\n",
       "      <td>28.27646</td>\n",
       "      <td>-81.16273</td>\n",
       "      <td>...</td>\n",
       "      <td>0</td>\n",
       "      <td>0</td>\n",
       "      <td>1</td>\n",
       "      <td>0</td>\n",
       "      <td>0</td>\n",
       "      <td>0</td>\n",
       "      <td>0</td>\n",
       "      <td>0</td>\n",
       "      <td>0</td>\n",
       "      <td>0</td>\n",
       "    </tr>\n",
       "    <tr>\n",
       "      <th>9</th>\n",
       "      <td>10</td>\n",
       "      <td>I676080</td>\n",
       "      <td>86f17e4d-2c24-4b70-a6ec-dddf0609dbaa</td>\n",
       "      <td>6ffe183271258a039e122ced8750b2a0</td>\n",
       "      <td>Cincinnati</td>\n",
       "      <td>OH</td>\n",
       "      <td>Hamilton</td>\n",
       "      <td>45237</td>\n",
       "      <td>39.19296</td>\n",
       "      <td>-84.45230</td>\n",
       "      <td>...</td>\n",
       "      <td>0</td>\n",
       "      <td>0</td>\n",
       "      <td>0</td>\n",
       "      <td>0</td>\n",
       "      <td>1</td>\n",
       "      <td>1</td>\n",
       "      <td>0</td>\n",
       "      <td>0</td>\n",
       "      <td>0</td>\n",
       "      <td>1</td>\n",
       "    </tr>\n",
       "  </tbody>\n",
       "</table>\n",
       "<p>10 rows × 58 columns</p>\n",
       "</div>"
      ],
      "text/plain": [
       "   CaseOrder Customer_id                           Interaction  \\\n",
       "0          1     K409198  aa90260b-4141-4a24-8e36-b04ce1f4f77b   \n",
       "1          2     S120509  fb76459f-c047-4a9d-8af9-e0f7d4ac2524   \n",
       "2          3     K191035  344d114c-3736-4be5-98f7-c72c281e2d35   \n",
       "3          4      D90850  abfa2b40-2d43-4994-b15a-989b8c79e311   \n",
       "4          5     K662701  68a861fd-0d20-4e51-a587-8a90407ee574   \n",
       "5          6     W303516  2b451d12-6c2b-4cea-a295-ba1d6bced078   \n",
       "6          7     U335188  6630d501-838c-4be4-a59c-6f58c814ed6a   \n",
       "7          8     V538685  70ddaa89-b726-49dc-9022-2d655e4c7936   \n",
       "8          9     M716771  05a49ee3-8fd5-453a-a5f3-82b6cd986856   \n",
       "9         10     I676080  86f17e4d-2c24-4b70-a6ec-dddf0609dbaa   \n",
       "\n",
       "                                UID           City State  \\\n",
       "0  e885b299883d4f9fb18e39c75155d990    Point Baker    AK   \n",
       "1  f2de8bef964785f41a2959829830fb8a    West Branch    MI   \n",
       "2  f1784cfa9f6d92ae816197eb175d3c71        Yamhill    OR   \n",
       "3  dc8a365077241bb5cd5ccd305136b05e        Del Mar    CA   \n",
       "4  aabb64a116e83fdc4befc1fbab1663f9      Needville    TX   \n",
       "5  97598fd95658c80500546bc1dd312994    Fort Valley    GA   \n",
       "6  87d1c4223e49156020564c01a88973b9        Pioneer    TN   \n",
       "7  fce3f21888317907de42e298d718ccce  Oklahoma City    OK   \n",
       "8  6c7043ced703b84de29766af3d53c976    Saint Cloud    FL   \n",
       "9  6ffe183271258a039e122ced8750b2a0     Cincinnati    OH   \n",
       "\n",
       "                  County    Zip       Lat        Lng  ...  Marital_Widowed  \\\n",
       "0  Prince of Wales-Hyder  99927  56.25100 -133.37571  ...                1   \n",
       "1                 Ogemaw  48661  44.32893  -84.24080  ...                0   \n",
       "2                Yamhill  97148  45.35589 -123.24657  ...                1   \n",
       "3              San Diego  92014  32.96687 -117.24798  ...                0   \n",
       "4              Fort Bend  77461  29.38012  -95.80673  ...                0   \n",
       "5                  Peach  31030  32.57032  -83.89040  ...                0   \n",
       "6                  Scott  37847  36.43420  -84.27892  ...                1   \n",
       "7               Oklahoma  73109  35.43313  -97.52463  ...                0   \n",
       "8                Osceola  34771  28.27646  -81.16273  ...                0   \n",
       "9               Hamilton  45237  39.19296  -84.45230  ...                0   \n",
       "\n",
       "  Gender_Male Gender_Nonbinary Contract_One year  Contract_Two Year  \\\n",
       "0           1                0                 1                  0   \n",
       "1           0                0                 0                  0   \n",
       "2           0                0                 0                  1   \n",
       "3           1                0                 0                  1   \n",
       "4           1                0                 0                  0   \n",
       "5           0                0                 1                  0   \n",
       "6           1                0                 0                  0   \n",
       "7           0                0                 0                  0   \n",
       "8           0                1                 0                  0   \n",
       "9           0                0                 0                  1   \n",
       "\n",
       "   InternetService_Fiber Optic  InternetService_Not Provided  \\\n",
       "0                            1                             0   \n",
       "1                            1                             0   \n",
       "2                            0                             0   \n",
       "3                            0                             0   \n",
       "4                            1                             0   \n",
       "5                            0                             1   \n",
       "6                            0                             0   \n",
       "7                            0                             0   \n",
       "8                            0                             0   \n",
       "9                            1                             0   \n",
       "\n",
       "   PaymentMethod_Credit Card (automatic)  PaymentMethod_Electronic Check  \\\n",
       "0                                      1                               0   \n",
       "1                                      0                               0   \n",
       "2                                      1                               0   \n",
       "3                                      0                               0   \n",
       "4                                      0                               0   \n",
       "5                                      0                               1   \n",
       "6                                      0                               1   \n",
       "7                                      0                               0   \n",
       "8                                      0                               0   \n",
       "9                                      0                               0   \n",
       "\n",
       "   PaymentMethod_Mailed Check  \n",
       "0                           0  \n",
       "1                           0  \n",
       "2                           0  \n",
       "3                           1  \n",
       "4                           1  \n",
       "5                           0  \n",
       "6                           0  \n",
       "7                           1  \n",
       "8                           0  \n",
       "9                           1  \n",
       "\n",
       "[10 rows x 58 columns]"
      ]
     },
     "execution_count": 19,
     "metadata": {},
     "output_type": "execute_result"
    }
   ],
   "source": [
    "#Complete data wrangling process by re-expressing non binary categorical variables as numeric using get_dummies()\n",
    "\n",
    "churn_data = pd.get_dummies(churn_data, dtype=int, drop_first=True, columns = ['Marital','Gender','Contract','InternetService','PaymentMethod'])\n",
    "churn_data.head(10)"
   ]
  },
  {
   "cell_type": "code",
   "execution_count": 20,
   "id": "d8602abf-ae7e-4d0b-97bb-b355de63dad3",
   "metadata": {
    "tags": []
   },
   "outputs": [],
   "source": [
    "#Remove all columns from the dataset that will not be used in the knn analysis\n",
    "churn_data.drop(['CaseOrder','Customer_id','Interaction','UID','City','State','County','Zip','Lat',\n",
    "                 'Lng','Population','Area','TimeZone','Job','OnlineBackup','DeviceProtection','TechSupport',\n",
    "                 'StreamingTV','StreamingMovies'], axis=1, inplace=True)"
   ]
  },
  {
   "cell_type": "code",
   "execution_count": 21,
   "id": "05e2ef9e-1aa7-4dcc-903e-ac4867d9fd50",
   "metadata": {
    "tags": []
   },
   "outputs": [
    {
     "data": {
      "text/html": [
       "<div>\n",
       "<style scoped>\n",
       "    .dataframe tbody tr th:only-of-type {\n",
       "        vertical-align: middle;\n",
       "    }\n",
       "\n",
       "    .dataframe tbody tr th {\n",
       "        vertical-align: top;\n",
       "    }\n",
       "\n",
       "    .dataframe thead th {\n",
       "        text-align: right;\n",
       "    }\n",
       "</style>\n",
       "<table border=\"1\" class=\"dataframe\">\n",
       "  <thead>\n",
       "    <tr style=\"text-align: right;\">\n",
       "      <th></th>\n",
       "      <th>Children</th>\n",
       "      <th>Age</th>\n",
       "      <th>Income</th>\n",
       "      <th>Churn</th>\n",
       "      <th>Outage_sec_perweek</th>\n",
       "      <th>Email</th>\n",
       "      <th>Contacts</th>\n",
       "      <th>Yearly_equip_failure</th>\n",
       "      <th>Techie</th>\n",
       "      <th>Port_modem</th>\n",
       "      <th>...</th>\n",
       "      <th>Marital_Widowed</th>\n",
       "      <th>Gender_Male</th>\n",
       "      <th>Gender_Nonbinary</th>\n",
       "      <th>Contract_One year</th>\n",
       "      <th>Contract_Two Year</th>\n",
       "      <th>InternetService_Fiber Optic</th>\n",
       "      <th>InternetService_Not Provided</th>\n",
       "      <th>PaymentMethod_Credit Card (automatic)</th>\n",
       "      <th>PaymentMethod_Electronic Check</th>\n",
       "      <th>PaymentMethod_Mailed Check</th>\n",
       "    </tr>\n",
       "  </thead>\n",
       "  <tbody>\n",
       "    <tr>\n",
       "      <th>0</th>\n",
       "      <td>-0.972338</td>\n",
       "      <td>0.720925</td>\n",
       "      <td>-0.398778</td>\n",
       "      <td>0</td>\n",
       "      <td>-0.679978</td>\n",
       "      <td>-0.666282</td>\n",
       "      <td>-1.005852</td>\n",
       "      <td>0.946658</td>\n",
       "      <td>0</td>\n",
       "      <td>1</td>\n",
       "      <td>...</td>\n",
       "      <td>1</td>\n",
       "      <td>1</td>\n",
       "      <td>0</td>\n",
       "      <td>1</td>\n",
       "      <td>0</td>\n",
       "      <td>1</td>\n",
       "      <td>0</td>\n",
       "      <td>1</td>\n",
       "      <td>0</td>\n",
       "      <td>0</td>\n",
       "    </tr>\n",
       "    <tr>\n",
       "      <th>1</th>\n",
       "      <td>-0.506592</td>\n",
       "      <td>-1.259957</td>\n",
       "      <td>-0.641954</td>\n",
       "      <td>1</td>\n",
       "      <td>0.570331</td>\n",
       "      <td>-0.005288</td>\n",
       "      <td>-1.005852</td>\n",
       "      <td>0.946658</td>\n",
       "      <td>1</td>\n",
       "      <td>0</td>\n",
       "      <td>...</td>\n",
       "      <td>0</td>\n",
       "      <td>0</td>\n",
       "      <td>0</td>\n",
       "      <td>0</td>\n",
       "      <td>0</td>\n",
       "      <td>1</td>\n",
       "      <td>0</td>\n",
       "      <td>0</td>\n",
       "      <td>0</td>\n",
       "      <td>0</td>\n",
       "    </tr>\n",
       "    <tr>\n",
       "      <th>2</th>\n",
       "      <td>0.890646</td>\n",
       "      <td>-0.148730</td>\n",
       "      <td>-1.070885</td>\n",
       "      <td>0</td>\n",
       "      <td>0.252347</td>\n",
       "      <td>-0.996779</td>\n",
       "      <td>-1.005852</td>\n",
       "      <td>0.946658</td>\n",
       "      <td>1</td>\n",
       "      <td>1</td>\n",
       "      <td>...</td>\n",
       "      <td>1</td>\n",
       "      <td>0</td>\n",
       "      <td>0</td>\n",
       "      <td>0</td>\n",
       "      <td>1</td>\n",
       "      <td>0</td>\n",
       "      <td>0</td>\n",
       "      <td>1</td>\n",
       "      <td>0</td>\n",
       "      <td>0</td>\n",
       "    </tr>\n",
       "    <tr>\n",
       "      <th>3</th>\n",
       "      <td>-0.506592</td>\n",
       "      <td>-0.245359</td>\n",
       "      <td>-0.740525</td>\n",
       "      <td>0</td>\n",
       "      <td>1.650506</td>\n",
       "      <td>0.986203</td>\n",
       "      <td>1.017588</td>\n",
       "      <td>-0.625864</td>\n",
       "      <td>1</td>\n",
       "      <td>0</td>\n",
       "      <td>...</td>\n",
       "      <td>0</td>\n",
       "      <td>1</td>\n",
       "      <td>0</td>\n",
       "      <td>0</td>\n",
       "      <td>1</td>\n",
       "      <td>0</td>\n",
       "      <td>0</td>\n",
       "      <td>0</td>\n",
       "      <td>0</td>\n",
       "      <td>1</td>\n",
       "    </tr>\n",
       "    <tr>\n",
       "      <th>4</th>\n",
       "      <td>-0.972338</td>\n",
       "      <td>1.445638</td>\n",
       "      <td>0.009478</td>\n",
       "      <td>1</td>\n",
       "      <td>-0.623156</td>\n",
       "      <td>1.316700</td>\n",
       "      <td>1.017588</td>\n",
       "      <td>0.946658</td>\n",
       "      <td>0</td>\n",
       "      <td>1</td>\n",
       "      <td>...</td>\n",
       "      <td>0</td>\n",
       "      <td>1</td>\n",
       "      <td>0</td>\n",
       "      <td>0</td>\n",
       "      <td>0</td>\n",
       "      <td>1</td>\n",
       "      <td>0</td>\n",
       "      <td>0</td>\n",
       "      <td>0</td>\n",
       "      <td>1</td>\n",
       "    </tr>\n",
       "  </tbody>\n",
       "</table>\n",
       "<p>5 rows × 39 columns</p>\n",
       "</div>"
      ],
      "text/plain": [
       "   Children       Age    Income  Churn  Outage_sec_perweek     Email  \\\n",
       "0 -0.972338  0.720925 -0.398778      0           -0.679978 -0.666282   \n",
       "1 -0.506592 -1.259957 -0.641954      1            0.570331 -0.005288   \n",
       "2  0.890646 -0.148730 -1.070885      0            0.252347 -0.996779   \n",
       "3 -0.506592 -0.245359 -0.740525      0            1.650506  0.986203   \n",
       "4 -0.972338  1.445638  0.009478      1           -0.623156  1.316700   \n",
       "\n",
       "   Contacts  Yearly_equip_failure  Techie  Port_modem  ...  Marital_Widowed  \\\n",
       "0 -1.005852              0.946658       0           1  ...                1   \n",
       "1 -1.005852              0.946658       1           0  ...                0   \n",
       "2 -1.005852              0.946658       1           1  ...                1   \n",
       "3  1.017588             -0.625864       1           0  ...                0   \n",
       "4  1.017588              0.946658       0           1  ...                0   \n",
       "\n",
       "   Gender_Male  Gender_Nonbinary  Contract_One year  Contract_Two Year  \\\n",
       "0            1                 0                  1                  0   \n",
       "1            0                 0                  0                  0   \n",
       "2            0                 0                  0                  1   \n",
       "3            1                 0                  0                  1   \n",
       "4            1                 0                  0                  0   \n",
       "\n",
       "   InternetService_Fiber Optic  InternetService_Not Provided  \\\n",
       "0                            1                             0   \n",
       "1                            1                             0   \n",
       "2                            0                             0   \n",
       "3                            0                             0   \n",
       "4                            1                             0   \n",
       "\n",
       "   PaymentMethod_Credit Card (automatic)  PaymentMethod_Electronic Check  \\\n",
       "0                                      1                               0   \n",
       "1                                      0                               0   \n",
       "2                                      1                               0   \n",
       "3                                      0                               0   \n",
       "4                                      0                               0   \n",
       "\n",
       "   PaymentMethod_Mailed Check  \n",
       "0                           0  \n",
       "1                           0  \n",
       "2                           0  \n",
       "3                           1  \n",
       "4                           1  \n",
       "\n",
       "[5 rows x 39 columns]"
      ]
     },
     "execution_count": 21,
     "metadata": {},
     "output_type": "execute_result"
    }
   ],
   "source": [
    "#Standardize the numerical variables for analysis\n",
    "churn_data['Children']=stats.zscore(churn_data['Children'])\n",
    "\n",
    "churn_data['Age']=stats.zscore(churn_data['Age'])\n",
    "\n",
    "churn_data['Income']=stats.zscore(churn_data['Income'])\n",
    "\n",
    "churn_data['Outage_sec_perweek']=stats.zscore(churn_data['Outage_sec_perweek'])\n",
    "\n",
    "churn_data['Email']=stats.zscore(churn_data['Email'])\n",
    "\n",
    "churn_data['Contacts']=stats.zscore(churn_data['Contacts'])\n",
    "\n",
    "churn_data['Yearly_equip_failure']=stats.zscore(churn_data['Yearly_equip_failure'])\n",
    "\n",
    "churn_data['Tenure']=stats.zscore(churn_data['Tenure'])\n",
    "\n",
    "churn_data['MonthlyCharge']=stats.zscore(churn_data['MonthlyCharge'])\n",
    "\n",
    "churn_data['Bandwidth_GB_Year']=stats.zscore(churn_data['Bandwidth_GB_Year'])\n",
    "\n",
    "churn_data['Timely_Response']=stats.zscore(churn_data['Timely_Response'])\n",
    "\n",
    "churn_data['Timely_Fixes']=stats.zscore(churn_data['Timely_Fixes'])\n",
    "\n",
    "churn_data['Timely_Replacements']=stats.zscore(churn_data['Timely_Replacements'])\n",
    "\n",
    "churn_data['Reliability']=stats.zscore(churn_data['Reliability'])\n",
    "\n",
    "churn_data['Options']=stats.zscore(churn_data['Options'])\n",
    "\n",
    "churn_data['Respectful_Response']=stats.zscore(churn_data['Respectful_Response'])\n",
    "\n",
    "churn_data['Courteous_Exchange']=stats.zscore(churn_data['Courteous_Exchange'])\n",
    "\n",
    "churn_data['Active_Listening']=stats.zscore(churn_data['Active_Listening'])\n",
    "\n",
    "churn_data.head()"
   ]
  },
  {
   "cell_type": "code",
   "execution_count": 22,
   "id": "bcbd6606-8b4e-44f9-b271-1201fefbdd81",
   "metadata": {
    "tags": []
   },
   "outputs": [],
   "source": [
    "#Save the cleaned and wrangled data to a CSV file\n",
    "churn_data.to_csv('C:/Users/sered/OneDrive/Desktop/WGU Masters Degree/D209/Assessment 1/processed_data.csv')"
   ]
  },
  {
   "cell_type": "code",
   "execution_count": 23,
   "id": "b868bd3b-218d-47a0-b5f9-c880a7c023ff",
   "metadata": {
    "tags": []
   },
   "outputs": [
    {
     "data": {
      "text/html": [
       "<div>\n",
       "<style scoped>\n",
       "    .dataframe tbody tr th:only-of-type {\n",
       "        vertical-align: middle;\n",
       "    }\n",
       "\n",
       "    .dataframe tbody tr th {\n",
       "        vertical-align: top;\n",
       "    }\n",
       "\n",
       "    .dataframe thead th {\n",
       "        text-align: right;\n",
       "    }\n",
       "</style>\n",
       "<table border=\"1\" class=\"dataframe\">\n",
       "  <thead>\n",
       "    <tr style=\"text-align: right;\">\n",
       "      <th></th>\n",
       "      <th>Children</th>\n",
       "      <th>Age</th>\n",
       "      <th>Income</th>\n",
       "      <th>Outage_sec_perweek</th>\n",
       "      <th>Email</th>\n",
       "      <th>Contacts</th>\n",
       "      <th>Yearly_equip_failure</th>\n",
       "      <th>Techie</th>\n",
       "      <th>Port_modem</th>\n",
       "      <th>Tablet</th>\n",
       "      <th>...</th>\n",
       "      <th>Marital_Widowed</th>\n",
       "      <th>Gender_Male</th>\n",
       "      <th>Gender_Nonbinary</th>\n",
       "      <th>Contract_One year</th>\n",
       "      <th>Contract_Two Year</th>\n",
       "      <th>InternetService_Fiber Optic</th>\n",
       "      <th>InternetService_Not Provided</th>\n",
       "      <th>PaymentMethod_Credit Card (automatic)</th>\n",
       "      <th>PaymentMethod_Electronic Check</th>\n",
       "      <th>PaymentMethod_Mailed Check</th>\n",
       "    </tr>\n",
       "  </thead>\n",
       "  <tbody>\n",
       "    <tr>\n",
       "      <th>0</th>\n",
       "      <td>-0.972338</td>\n",
       "      <td>0.720925</td>\n",
       "      <td>-0.398778</td>\n",
       "      <td>-0.679978</td>\n",
       "      <td>-0.666282</td>\n",
       "      <td>-1.005852</td>\n",
       "      <td>0.946658</td>\n",
       "      <td>0</td>\n",
       "      <td>1</td>\n",
       "      <td>1</td>\n",
       "      <td>...</td>\n",
       "      <td>1</td>\n",
       "      <td>1</td>\n",
       "      <td>0</td>\n",
       "      <td>1</td>\n",
       "      <td>0</td>\n",
       "      <td>1</td>\n",
       "      <td>0</td>\n",
       "      <td>1</td>\n",
       "      <td>0</td>\n",
       "      <td>0</td>\n",
       "    </tr>\n",
       "    <tr>\n",
       "      <th>1</th>\n",
       "      <td>-0.506592</td>\n",
       "      <td>-1.259957</td>\n",
       "      <td>-0.641954</td>\n",
       "      <td>0.570331</td>\n",
       "      <td>-0.005288</td>\n",
       "      <td>-1.005852</td>\n",
       "      <td>0.946658</td>\n",
       "      <td>1</td>\n",
       "      <td>0</td>\n",
       "      <td>1</td>\n",
       "      <td>...</td>\n",
       "      <td>0</td>\n",
       "      <td>0</td>\n",
       "      <td>0</td>\n",
       "      <td>0</td>\n",
       "      <td>0</td>\n",
       "      <td>1</td>\n",
       "      <td>0</td>\n",
       "      <td>0</td>\n",
       "      <td>0</td>\n",
       "      <td>0</td>\n",
       "    </tr>\n",
       "    <tr>\n",
       "      <th>2</th>\n",
       "      <td>0.890646</td>\n",
       "      <td>-0.148730</td>\n",
       "      <td>-1.070885</td>\n",
       "      <td>0.252347</td>\n",
       "      <td>-0.996779</td>\n",
       "      <td>-1.005852</td>\n",
       "      <td>0.946658</td>\n",
       "      <td>1</td>\n",
       "      <td>1</td>\n",
       "      <td>0</td>\n",
       "      <td>...</td>\n",
       "      <td>1</td>\n",
       "      <td>0</td>\n",
       "      <td>0</td>\n",
       "      <td>0</td>\n",
       "      <td>1</td>\n",
       "      <td>0</td>\n",
       "      <td>0</td>\n",
       "      <td>1</td>\n",
       "      <td>0</td>\n",
       "      <td>0</td>\n",
       "    </tr>\n",
       "    <tr>\n",
       "      <th>3</th>\n",
       "      <td>-0.506592</td>\n",
       "      <td>-0.245359</td>\n",
       "      <td>-0.740525</td>\n",
       "      <td>1.650506</td>\n",
       "      <td>0.986203</td>\n",
       "      <td>1.017588</td>\n",
       "      <td>-0.625864</td>\n",
       "      <td>1</td>\n",
       "      <td>0</td>\n",
       "      <td>0</td>\n",
       "      <td>...</td>\n",
       "      <td>0</td>\n",
       "      <td>1</td>\n",
       "      <td>0</td>\n",
       "      <td>0</td>\n",
       "      <td>1</td>\n",
       "      <td>0</td>\n",
       "      <td>0</td>\n",
       "      <td>0</td>\n",
       "      <td>0</td>\n",
       "      <td>1</td>\n",
       "    </tr>\n",
       "    <tr>\n",
       "      <th>4</th>\n",
       "      <td>-0.972338</td>\n",
       "      <td>1.445638</td>\n",
       "      <td>0.009478</td>\n",
       "      <td>-0.623156</td>\n",
       "      <td>1.316700</td>\n",
       "      <td>1.017588</td>\n",
       "      <td>0.946658</td>\n",
       "      <td>0</td>\n",
       "      <td>1</td>\n",
       "      <td>0</td>\n",
       "      <td>...</td>\n",
       "      <td>0</td>\n",
       "      <td>1</td>\n",
       "      <td>0</td>\n",
       "      <td>0</td>\n",
       "      <td>0</td>\n",
       "      <td>1</td>\n",
       "      <td>0</td>\n",
       "      <td>0</td>\n",
       "      <td>0</td>\n",
       "      <td>1</td>\n",
       "    </tr>\n",
       "  </tbody>\n",
       "</table>\n",
       "<p>5 rows × 38 columns</p>\n",
       "</div>"
      ],
      "text/plain": [
       "   Children       Age    Income  Outage_sec_perweek     Email  Contacts  \\\n",
       "0 -0.972338  0.720925 -0.398778           -0.679978 -0.666282 -1.005852   \n",
       "1 -0.506592 -1.259957 -0.641954            0.570331 -0.005288 -1.005852   \n",
       "2  0.890646 -0.148730 -1.070885            0.252347 -0.996779 -1.005852   \n",
       "3 -0.506592 -0.245359 -0.740525            1.650506  0.986203  1.017588   \n",
       "4 -0.972338  1.445638  0.009478           -0.623156  1.316700  1.017588   \n",
       "\n",
       "   Yearly_equip_failure  Techie  Port_modem  Tablet  ...  Marital_Widowed  \\\n",
       "0              0.946658       0           1       1  ...                1   \n",
       "1              0.946658       1           0       1  ...                0   \n",
       "2              0.946658       1           1       0  ...                1   \n",
       "3             -0.625864       1           0       0  ...                0   \n",
       "4              0.946658       0           1       0  ...                0   \n",
       "\n",
       "   Gender_Male  Gender_Nonbinary  Contract_One year  Contract_Two Year  \\\n",
       "0            1                 0                  1                  0   \n",
       "1            0                 0                  0                  0   \n",
       "2            0                 0                  0                  1   \n",
       "3            1                 0                  0                  1   \n",
       "4            1                 0                  0                  0   \n",
       "\n",
       "   InternetService_Fiber Optic  InternetService_Not Provided  \\\n",
       "0                            1                             0   \n",
       "1                            1                             0   \n",
       "2                            0                             0   \n",
       "3                            0                             0   \n",
       "4                            1                             0   \n",
       "\n",
       "   PaymentMethod_Credit Card (automatic)  PaymentMethod_Electronic Check  \\\n",
       "0                                      1                               0   \n",
       "1                                      0                               0   \n",
       "2                                      1                               0   \n",
       "3                                      0                               0   \n",
       "4                                      0                               0   \n",
       "\n",
       "   PaymentMethod_Mailed Check  \n",
       "0                           0  \n",
       "1                           0  \n",
       "2                           0  \n",
       "3                           1  \n",
       "4                           1  \n",
       "\n",
       "[5 rows x 38 columns]"
      ]
     },
     "execution_count": 23,
     "metadata": {},
     "output_type": "execute_result"
    }
   ],
   "source": [
    "#Define X as independent variables and y as dependent variable\n",
    "X = churn_data.drop(['Churn'], axis=1)\n",
    "\n",
    "y = churn_data['Churn']\n",
    "\n",
    "X.head()"
   ]
  },
  {
   "cell_type": "code",
   "execution_count": 24,
   "id": "b06ec111-6c0e-4840-a332-4e4657e74463",
   "metadata": {
    "tags": []
   },
   "outputs": [],
   "source": [
    "#Split into training and test data and fit knn model with trainingg data\n",
    "X_train, X_test, y_train, y_test = train_test_split(X, y, test_size = 0.2, random_state=42)"
   ]
  },
  {
   "cell_type": "code",
   "execution_count": 25,
   "id": "432f58d2-d2e4-4aab-b819-7d10da504a59",
   "metadata": {
    "tags": []
   },
   "outputs": [],
   "source": [
    "#Save training and test data to csv files\n",
    "X_train.to_csv('C:/Users/sered/OneDrive/Desktop/WGU Masters Degree/D209/Assessment 1/X_Training_data.csv')\n",
    "\n",
    "X_test.to_csv('C:/Users/sered/OneDrive/Desktop/WGU Masters Degree/D209/Assessment 1/X_Test_data.csv')\n",
    "\n",
    "y_train.to_csv('C:/Users/sered/OneDrive/Desktop/WGU Masters Degree/D209/Assessment 1/y_Training_data.csv')\n",
    "\n",
    "y_test.to_csv('C:/Users/sered/OneDrive/Desktop/WGU Masters Degree/D209/Assessment 1/y_Test_data.csv')"
   ]
  },
  {
   "cell_type": "code",
   "execution_count": 26,
   "id": "b0d0eb43-0614-482c-9e4a-d200b373f61e",
   "metadata": {
    "tags": []
   },
   "outputs": [],
   "source": [
    "#Make training and testing data arrays so that they can be used in the knn model\n",
    "X_train = X_train.values\n",
    "\n",
    "y_train = y_train.values\n",
    "\n",
    "X_test = X_test.values\n",
    "\n",
    "y_test = y_test.values"
   ]
  },
  {
   "cell_type": "code",
   "execution_count": 27,
   "id": "a6bc77a4-bee1-4a24-ada8-17c678f876c6",
   "metadata": {
    "tags": []
   },
   "outputs": [
    {
     "data": {
      "text/html": [
       "<style>#sk-container-id-1 {color: black;background-color: white;}#sk-container-id-1 pre{padding: 0;}#sk-container-id-1 div.sk-toggleable {background-color: white;}#sk-container-id-1 label.sk-toggleable__label {cursor: pointer;display: block;width: 100%;margin-bottom: 0;padding: 0.3em;box-sizing: border-box;text-align: center;}#sk-container-id-1 label.sk-toggleable__label-arrow:before {content: \"▸\";float: left;margin-right: 0.25em;color: #696969;}#sk-container-id-1 label.sk-toggleable__label-arrow:hover:before {color: black;}#sk-container-id-1 div.sk-estimator:hover label.sk-toggleable__label-arrow:before {color: black;}#sk-container-id-1 div.sk-toggleable__content {max-height: 0;max-width: 0;overflow: hidden;text-align: left;background-color: #f0f8ff;}#sk-container-id-1 div.sk-toggleable__content pre {margin: 0.2em;color: black;border-radius: 0.25em;background-color: #f0f8ff;}#sk-container-id-1 input.sk-toggleable__control:checked~div.sk-toggleable__content {max-height: 200px;max-width: 100%;overflow: auto;}#sk-container-id-1 input.sk-toggleable__control:checked~label.sk-toggleable__label-arrow:before {content: \"▾\";}#sk-container-id-1 div.sk-estimator input.sk-toggleable__control:checked~label.sk-toggleable__label {background-color: #d4ebff;}#sk-container-id-1 div.sk-label input.sk-toggleable__control:checked~label.sk-toggleable__label {background-color: #d4ebff;}#sk-container-id-1 input.sk-hidden--visually {border: 0;clip: rect(1px 1px 1px 1px);clip: rect(1px, 1px, 1px, 1px);height: 1px;margin: -1px;overflow: hidden;padding: 0;position: absolute;width: 1px;}#sk-container-id-1 div.sk-estimator {font-family: monospace;background-color: #f0f8ff;border: 1px dotted black;border-radius: 0.25em;box-sizing: border-box;margin-bottom: 0.5em;}#sk-container-id-1 div.sk-estimator:hover {background-color: #d4ebff;}#sk-container-id-1 div.sk-parallel-item::after {content: \"\";width: 100%;border-bottom: 1px solid gray;flex-grow: 1;}#sk-container-id-1 div.sk-label:hover label.sk-toggleable__label {background-color: #d4ebff;}#sk-container-id-1 div.sk-serial::before {content: \"\";position: absolute;border-left: 1px solid gray;box-sizing: border-box;top: 0;bottom: 0;left: 50%;z-index: 0;}#sk-container-id-1 div.sk-serial {display: flex;flex-direction: column;align-items: center;background-color: white;padding-right: 0.2em;padding-left: 0.2em;position: relative;}#sk-container-id-1 div.sk-item {position: relative;z-index: 1;}#sk-container-id-1 div.sk-parallel {display: flex;align-items: stretch;justify-content: center;background-color: white;position: relative;}#sk-container-id-1 div.sk-item::before, #sk-container-id-1 div.sk-parallel-item::before {content: \"\";position: absolute;border-left: 1px solid gray;box-sizing: border-box;top: 0;bottom: 0;left: 50%;z-index: -1;}#sk-container-id-1 div.sk-parallel-item {display: flex;flex-direction: column;z-index: 1;position: relative;background-color: white;}#sk-container-id-1 div.sk-parallel-item:first-child::after {align-self: flex-end;width: 50%;}#sk-container-id-1 div.sk-parallel-item:last-child::after {align-self: flex-start;width: 50%;}#sk-container-id-1 div.sk-parallel-item:only-child::after {width: 0;}#sk-container-id-1 div.sk-dashed-wrapped {border: 1px dashed gray;margin: 0 0.4em 0.5em 0.4em;box-sizing: border-box;padding-bottom: 0.4em;background-color: white;}#sk-container-id-1 div.sk-label label {font-family: monospace;font-weight: bold;display: inline-block;line-height: 1.2em;}#sk-container-id-1 div.sk-label-container {text-align: center;}#sk-container-id-1 div.sk-container {/* jupyter's `normalize.less` sets `[hidden] { display: none; }` but bootstrap.min.css set `[hidden] { display: none !important; }` so we also need the `!important` here to be able to override the default hidden behavior on the sphinx rendered scikit-learn.org. See: https://github.com/scikit-learn/scikit-learn/issues/21755 */display: inline-block !important;position: relative;}#sk-container-id-1 div.sk-text-repr-fallback {display: none;}</style><div id=\"sk-container-id-1\" class=\"sk-top-container\"><div class=\"sk-text-repr-fallback\"><pre>KNeighborsClassifier(n_neighbors=7)</pre><b>In a Jupyter environment, please rerun this cell to show the HTML representation or trust the notebook. <br />On GitHub, the HTML representation is unable to render, please try loading this page with nbviewer.org.</b></div><div class=\"sk-container\" hidden><div class=\"sk-item\"><div class=\"sk-estimator sk-toggleable\"><input class=\"sk-toggleable__control sk-hidden--visually\" id=\"sk-estimator-id-1\" type=\"checkbox\" checked><label for=\"sk-estimator-id-1\" class=\"sk-toggleable__label sk-toggleable__label-arrow\">KNeighborsClassifier</label><div class=\"sk-toggleable__content\"><pre>KNeighborsClassifier(n_neighbors=7)</pre></div></div></div></div></div>"
      ],
      "text/plain": [
       "KNeighborsClassifier(n_neighbors=7)"
      ]
     },
     "execution_count": 27,
     "metadata": {},
     "output_type": "execute_result"
    }
   ],
   "source": [
    "#Fit the normalized model\n",
    "knn = KNeighborsClassifier(n_neighbors=7)\n",
    "\n",
    "knn.fit(X_train, y_train)"
   ]
  },
  {
   "cell_type": "code",
   "execution_count": 28,
   "id": "08a0cb27-5c02-4093-89df-55e58ffeb565",
   "metadata": {
    "tags": []
   },
   "outputs": [],
   "source": [
    "#Create prediction comparing training data to test data\n",
    "pred = knn.predict(X_test)"
   ]
  },
  {
   "cell_type": "code",
   "execution_count": 29,
   "id": "15028f9b-3bb9-4206-af9d-c528bc2169b9",
   "metadata": {
    "tags": []
   },
   "outputs": [
    {
     "name": "stdout",
     "output_type": "stream",
     "text": [
      "Initial Accuracy Score: 0.811\n",
      "Initial Precision Score: 0.6804347826086956\n",
      "Initial Recall Score: 0.5753676470588235\n",
      "Initial ROC-AUC Score: 0.7372030542986424\n"
     ]
    }
   ],
   "source": [
    "#Get accuracy score from initial model\n",
    "accuracy = accuracy_score(y_test, pred)\n",
    "precision = precision_score(y_test, pred)\n",
    "recall = recall_score(y_test, pred)\n",
    "AUC = roc_auc_score(y_test, pred)\n",
    "\n",
    "\n",
    "print(\"Initial Accuracy Score:\", accuracy)\n",
    "print(\"Initial Precision Score:\", precision)\n",
    "print(\"Initial Recall Score:\", recall)\n",
    "print(\"Initial ROC-AUC Score:\", AUC)"
   ]
  },
  {
   "cell_type": "code",
   "execution_count": 30,
   "id": "24662847-ae48-4d73-8558-39498ccf250c",
   "metadata": {
    "tags": []
   },
   "outputs": [
    {
     "data": {
      "text/plain": [
       "<Axes: >"
      ]
     },
     "execution_count": 30,
     "metadata": {},
     "output_type": "execute_result"
    },
    {
     "data": {
      "image/png": "[encoded data removed]",
      "text/plain": [
       "<Figure size 640x480 with 2 Axes>"
      ]
     },
     "metadata": {},
     "output_type": "display_data"
    }
   ],
   "source": [
    "#Create confusion matrix\n",
    "'''(Dennis T, 2019)''' '''See reference table in report for URL'''\n",
    "\n",
    "cm = confusion_matrix(y_test, pred)\n",
    "\n",
    "group_names = ['True Neg','False Pos','False Neg','True Pos']\n",
    "group_counts = [\"{0:0.0f}\".format(value) for value in\n",
    "                cm.flatten()]\n",
    "group_percentages = [\"{0:.2%}\".format(value) for value in\n",
    "                     cm.flatten()/np.sum(cm)]\n",
    "labels = [f\"{v1}\\n{v2}\\n{v3}\" for v1, v2, v3 in\n",
    "          zip(group_names,group_counts,group_percentages)]\n",
    "labels = np.asarray(labels).reshape(2,2)\n",
    "sns.heatmap(cm, annot=labels, fmt='', cmap='Blues')"
   ]
  },
  {
   "cell_type": "code",
   "execution_count": 31,
   "id": "1e5636ec-75f9-4a29-ae37-3222c2bf6d51",
   "metadata": {
    "tags": []
   },
   "outputs": [],
   "source": [
    "#Perfom cross validation to get the best value for k\n",
    "''' (Shafi, 2023)''' '''See Reference Table in report to find URL'''\n",
    "\n",
    "k_values = [i for i in range (1,31)]\n",
    "scores = []\n",
    "\n",
    "scaler = StandardScaler()\n",
    "X = scaler.fit_transform(X)\n",
    "\n",
    "for k in k_values:\n",
    "    knn = KNeighborsClassifier(n_neighbors=k)\n",
    "    score = cross_val_score(knn, X, y.ravel(), cv=5)\n",
    "    scores.append(np.mean(score))"
   ]
  },
  {
   "cell_type": "code",
   "execution_count": 32,
   "id": "7be77032-fb95-4fb2-ba5c-988b76b060c5",
   "metadata": {
    "tags": []
   },
   "outputs": [
    {
     "data": {
      "text/plain": [
       "Text(0, 0.5, 'Accuracy Score')"
      ]
     },
     "execution_count": 32,
     "metadata": {},
     "output_type": "execute_result"
    },
    {
     "data": {
      "image/png": "[encoded data removed]",
      "text/plain": [
       "<Figure size 640x480 with 1 Axes>"
      ]
     },
     "metadata": {},
     "output_type": "display_data"
    }
   ],
   "source": [
    "#Plot the values found above to visualize the best k value\n",
    "sns.lineplot(x = k_values, y = scores, marker = 'o')\n",
    "plt.xlabel(\"K Values\")\n",
    "plt.ylabel(\"Accuracy Score\")"
   ]
  },
  {
   "cell_type": "code",
   "execution_count": 33,
   "id": "eb862a11-fe7b-49c6-bc3e-6f8b6784af75",
   "metadata": {
    "tags": []
   },
   "outputs": [
    {
     "data": {
      "text/html": [
       "<style>#sk-container-id-2 {color: black;background-color: white;}#sk-container-id-2 pre{padding: 0;}#sk-container-id-2 div.sk-toggleable {background-color: white;}#sk-container-id-2 label.sk-toggleable__label {cursor: pointer;display: block;width: 100%;margin-bottom: 0;padding: 0.3em;box-sizing: border-box;text-align: center;}#sk-container-id-2 label.sk-toggleable__label-arrow:before {content: \"▸\";float: left;margin-right: 0.25em;color: #696969;}#sk-container-id-2 label.sk-toggleable__label-arrow:hover:before {color: black;}#sk-container-id-2 div.sk-estimator:hover label.sk-toggleable__label-arrow:before {color: black;}#sk-container-id-2 div.sk-toggleable__content {max-height: 0;max-width: 0;overflow: hidden;text-align: left;background-color: #f0f8ff;}#sk-container-id-2 div.sk-toggleable__content pre {margin: 0.2em;color: black;border-radius: 0.25em;background-color: #f0f8ff;}#sk-container-id-2 input.sk-toggleable__control:checked~div.sk-toggleable__content {max-height: 200px;max-width: 100%;overflow: auto;}#sk-container-id-2 input.sk-toggleable__control:checked~label.sk-toggleable__label-arrow:before {content: \"▾\";}#sk-container-id-2 div.sk-estimator input.sk-toggleable__control:checked~label.sk-toggleable__label {background-color: #d4ebff;}#sk-container-id-2 div.sk-label input.sk-toggleable__control:checked~label.sk-toggleable__label {background-color: #d4ebff;}#sk-container-id-2 input.sk-hidden--visually {border: 0;clip: rect(1px 1px 1px 1px);clip: rect(1px, 1px, 1px, 1px);height: 1px;margin: -1px;overflow: hidden;padding: 0;position: absolute;width: 1px;}#sk-container-id-2 div.sk-estimator {font-family: monospace;background-color: #f0f8ff;border: 1px dotted black;border-radius: 0.25em;box-sizing: border-box;margin-bottom: 0.5em;}#sk-container-id-2 div.sk-estimator:hover {background-color: #d4ebff;}#sk-container-id-2 div.sk-parallel-item::after {content: \"\";width: 100%;border-bottom: 1px solid gray;flex-grow: 1;}#sk-container-id-2 div.sk-label:hover label.sk-toggleable__label {background-color: #d4ebff;}#sk-container-id-2 div.sk-serial::before {content: \"\";position: absolute;border-left: 1px solid gray;box-sizing: border-box;top: 0;bottom: 0;left: 50%;z-index: 0;}#sk-container-id-2 div.sk-serial {display: flex;flex-direction: column;align-items: center;background-color: white;padding-right: 0.2em;padding-left: 0.2em;position: relative;}#sk-container-id-2 div.sk-item {position: relative;z-index: 1;}#sk-container-id-2 div.sk-parallel {display: flex;align-items: stretch;justify-content: center;background-color: white;position: relative;}#sk-container-id-2 div.sk-item::before, #sk-container-id-2 div.sk-parallel-item::before {content: \"\";position: absolute;border-left: 1px solid gray;box-sizing: border-box;top: 0;bottom: 0;left: 50%;z-index: -1;}#sk-container-id-2 div.sk-parallel-item {display: flex;flex-direction: column;z-index: 1;position: relative;background-color: white;}#sk-container-id-2 div.sk-parallel-item:first-child::after {align-self: flex-end;width: 50%;}#sk-container-id-2 div.sk-parallel-item:last-child::after {align-self: flex-start;width: 50%;}#sk-container-id-2 div.sk-parallel-item:only-child::after {width: 0;}#sk-container-id-2 div.sk-dashed-wrapped {border: 1px dashed gray;margin: 0 0.4em 0.5em 0.4em;box-sizing: border-box;padding-bottom: 0.4em;background-color: white;}#sk-container-id-2 div.sk-label label {font-family: monospace;font-weight: bold;display: inline-block;line-height: 1.2em;}#sk-container-id-2 div.sk-label-container {text-align: center;}#sk-container-id-2 div.sk-container {/* jupyter's `normalize.less` sets `[hidden] { display: none; }` but bootstrap.min.css set `[hidden] { display: none !important; }` so we also need the `!important` here to be able to override the default hidden behavior on the sphinx rendered scikit-learn.org. See: https://github.com/scikit-learn/scikit-learn/issues/21755 */display: inline-block !important;position: relative;}#sk-container-id-2 div.sk-text-repr-fallback {display: none;}</style><div id=\"sk-container-id-2\" class=\"sk-top-container\"><div class=\"sk-text-repr-fallback\"><pre>KNeighborsClassifier(n_neighbors=29)</pre><b>In a Jupyter environment, please rerun this cell to show the HTML representation or trust the notebook. <br />On GitHub, the HTML representation is unable to render, please try loading this page with nbviewer.org.</b></div><div class=\"sk-container\" hidden><div class=\"sk-item\"><div class=\"sk-estimator sk-toggleable\"><input class=\"sk-toggleable__control sk-hidden--visually\" id=\"sk-estimator-id-2\" type=\"checkbox\" checked><label for=\"sk-estimator-id-2\" class=\"sk-toggleable__label sk-toggleable__label-arrow\">KNeighborsClassifier</label><div class=\"sk-toggleable__content\"><pre>KNeighborsClassifier(n_neighbors=29)</pre></div></div></div></div></div>"
      ],
      "text/plain": [
       "KNeighborsClassifier(n_neighbors=29)"
      ]
     },
     "execution_count": 33,
     "metadata": {},
     "output_type": "execute_result"
    }
   ],
   "source": [
    "#Train the model using the best k value found above\n",
    "#Find the highest value from the scores\n",
    "best_index = np.argmax(scores)\n",
    "best_k = k_values[best_index]\n",
    "\n",
    "#Fit the updated knn model with the best k value\n",
    "knn = KNeighborsClassifier(n_neighbors=best_k)\n",
    "knn.fit(X_train, y_train.ravel())"
   ]
  },
  {
   "cell_type": "code",
   "execution_count": 34,
   "id": "423a762d-689b-4bc7-a6f4-ad5af20564b0",
   "metadata": {
    "tags": []
   },
   "outputs": [],
   "source": [
    "#Create prediction comparing training data to test data for optimized model\n",
    "y_pred = knn.predict(X_test)"
   ]
  },
  {
   "cell_type": "code",
   "execution_count": 35,
   "id": "a988770f-9f1a-4b2b-b846-a003f43aa868",
   "metadata": {
    "tags": []
   },
   "outputs": [
    {
     "name": "stdout",
     "output_type": "stream",
     "text": [
      "Optimized Accuracy Score: 0.84\n",
      "Optimized Precision Score: 0.8043478260869565\n",
      "Optimized Recall Score: 0.5441176470588235\n"
     ]
    }
   ],
   "source": [
    "#Evaluate the model using the accuracy score, precision score, and recall score\n",
    "accuracy = accuracy_score(y_test, y_pred)\n",
    "precision = precision_score(y_test, y_pred)\n",
    "recall = recall_score(y_test, y_pred)\n",
    "\n",
    "print(\"Optimized Accuracy Score:\", accuracy)\n",
    "print(\"Optimized Precision Score:\", precision)\n",
    "print(\"Optimized Recall Score:\", recall)"
   ]
  },
  {
   "cell_type": "code",
   "execution_count": 36,
   "id": "789be41a-1af3-44d5-9f53-b44ec91926f4",
   "metadata": {
    "tags": []
   },
   "outputs": [
    {
     "data": {
      "text/plain": [
       "<Axes: >"
      ]
     },
     "execution_count": 36,
     "metadata": {},
     "output_type": "execute_result"
    },
    {
     "data": {
      "image/png": "[encoded data removed]",
      "text/plain": [
       "<Figure size 640x480 with 2 Axes>"
      ]
     },
     "metadata": {},
     "output_type": "display_data"
    }
   ],
   "source": [
    "#Create confusion matrix for optimized model to help us better understand AUC ROC\n",
    "\n",
    "cm = confusion_matrix(y_test, y_pred)\n",
    "\n",
    "group_names = ['True Neg','False Pos','False Neg','True Pos']\n",
    "group_counts = [\"{0:0.0f}\".format(value) for value in\n",
    "                cm.flatten()]\n",
    "group_percentages = [\"{0:.2%}\".format(value) for value in\n",
    "                     cm.flatten()/np.sum(cm)]\n",
    "labels = [f\"{v1}\\n{v2}\\n{v3}\" for v1, v2, v3 in\n",
    "          zip(group_names,group_counts,group_percentages)]\n",
    "labels = np.asarray(labels).reshape(2,2)\n",
    "sns.heatmap(cm, annot=labels, fmt='', cmap='Greens')"
   ]
  },
  {
   "cell_type": "code",
   "execution_count": 37,
   "id": "2c29ccb8-8781-48ac-a617-7033d122f9e6",
   "metadata": {
    "tags": []
   },
   "outputs": [
    {
     "name": "stdout",
     "output_type": "stream",
     "text": [
      "Optimized AUC Score: 0.7473335488041368\n"
     ]
    }
   ],
   "source": [
    "#compute the roc-auc score for the model\n",
    "\n",
    "auc_score = roc_auc_score(y_test, y_pred)\n",
    "print(\"Optimized AUC Score:\", auc_score)"
   ]
  },
  {
   "cell_type": "code",
   "execution_count": null,
   "id": "f76b6cee-36e1-48b9-8e84-93f6c7fe93ed",
   "metadata": {},
   "outputs": [],
   "source": []
  }
 ],
 "metadata": {
  "kernelspec": {
   "display_name": "Python 3 (ipykernel)",
   "language": "python",
   "name": "python3"
  },
  "language_info": {
   "codemirror_mode": {
    "name": "ipython",
    "version": 3
   },
   "file_extension": ".py",
   "mimetype": "text/x-python",
   "name": "python",
   "nbconvert_exporter": "python",
   "pygments_lexer": "ipython3",
   "version": "3.11.5"
  },
  "toc-autonumbering": true
 },
 "nbformat": 4,
 "nbformat_minor": 5
}
